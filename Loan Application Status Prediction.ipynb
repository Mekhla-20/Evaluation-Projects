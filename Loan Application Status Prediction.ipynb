{
 "cells": [
  {
   "cell_type": "code",
   "execution_count": 1,
   "id": "c5b58204",
   "metadata": {},
   "outputs": [],
   "source": [
    "import pandas as pd\n",
    "import numpy as np\n",
    "import matplotlib.pyplot as plt\n",
    "import seaborn as sns\n",
    "from sklearn.preprocessing import OrdinalEncoder\n",
    "from sklearn.preprocessing import LabelEncoder\n",
    "from statsmodels.stats.outliers_influence import variance_inflation_factor\n",
    "from scipy.stats import zscore\n",
    "from sklearn.model_selection import GridSearchCV\n",
    "from sklearn.preprocessing import StandardScaler\n",
    "from sklearn.preprocessing import power_transform\n",
    "from sklearn.model_selection import train_test_split\n",
    "from sklearn.model_selection import cross_val_score\n",
    "from sklearn import metrics\n",
    "from sklearn.metrics import roc_curve,auc,accuracy_score\n",
    "from sklearn.metrics import classification_report"
   ]
  },
  {
   "cell_type": "code",
   "execution_count": 2,
   "id": "10014e65",
   "metadata": {},
   "outputs": [
    {
     "data": {
      "text/html": [
       "<div>\n",
       "<style scoped>\n",
       "    .dataframe tbody tr th:only-of-type {\n",
       "        vertical-align: middle;\n",
       "    }\n",
       "\n",
       "    .dataframe tbody tr th {\n",
       "        vertical-align: top;\n",
       "    }\n",
       "\n",
       "    .dataframe thead th {\n",
       "        text-align: right;\n",
       "    }\n",
       "</style>\n",
       "<table border=\"1\" class=\"dataframe\">\n",
       "  <thead>\n",
       "    <tr style=\"text-align: right;\">\n",
       "      <th></th>\n",
       "      <th>Loan_ID</th>\n",
       "      <th>Gender</th>\n",
       "      <th>Married</th>\n",
       "      <th>Dependents</th>\n",
       "      <th>Education</th>\n",
       "      <th>Self_Employed</th>\n",
       "      <th>ApplicantIncome</th>\n",
       "      <th>CoapplicantIncome</th>\n",
       "      <th>LoanAmount</th>\n",
       "      <th>Loan_Amount_Term</th>\n",
       "      <th>Credit_History</th>\n",
       "      <th>Property_Area</th>\n",
       "      <th>Loan_Status</th>\n",
       "    </tr>\n",
       "  </thead>\n",
       "  <tbody>\n",
       "    <tr>\n",
       "      <th>0</th>\n",
       "      <td>LP001002</td>\n",
       "      <td>Male</td>\n",
       "      <td>No</td>\n",
       "      <td>0</td>\n",
       "      <td>Graduate</td>\n",
       "      <td>No</td>\n",
       "      <td>5849</td>\n",
       "      <td>0.0</td>\n",
       "      <td>NaN</td>\n",
       "      <td>360.0</td>\n",
       "      <td>1.0</td>\n",
       "      <td>Urban</td>\n",
       "      <td>Y</td>\n",
       "    </tr>\n",
       "    <tr>\n",
       "      <th>1</th>\n",
       "      <td>LP001003</td>\n",
       "      <td>Male</td>\n",
       "      <td>Yes</td>\n",
       "      <td>1</td>\n",
       "      <td>Graduate</td>\n",
       "      <td>No</td>\n",
       "      <td>4583</td>\n",
       "      <td>1508.0</td>\n",
       "      <td>128.0</td>\n",
       "      <td>360.0</td>\n",
       "      <td>1.0</td>\n",
       "      <td>Rural</td>\n",
       "      <td>N</td>\n",
       "    </tr>\n",
       "    <tr>\n",
       "      <th>2</th>\n",
       "      <td>LP001005</td>\n",
       "      <td>Male</td>\n",
       "      <td>Yes</td>\n",
       "      <td>0</td>\n",
       "      <td>Graduate</td>\n",
       "      <td>Yes</td>\n",
       "      <td>3000</td>\n",
       "      <td>0.0</td>\n",
       "      <td>66.0</td>\n",
       "      <td>360.0</td>\n",
       "      <td>1.0</td>\n",
       "      <td>Urban</td>\n",
       "      <td>Y</td>\n",
       "    </tr>\n",
       "    <tr>\n",
       "      <th>3</th>\n",
       "      <td>LP001006</td>\n",
       "      <td>Male</td>\n",
       "      <td>Yes</td>\n",
       "      <td>0</td>\n",
       "      <td>Not Graduate</td>\n",
       "      <td>No</td>\n",
       "      <td>2583</td>\n",
       "      <td>2358.0</td>\n",
       "      <td>120.0</td>\n",
       "      <td>360.0</td>\n",
       "      <td>1.0</td>\n",
       "      <td>Urban</td>\n",
       "      <td>Y</td>\n",
       "    </tr>\n",
       "    <tr>\n",
       "      <th>4</th>\n",
       "      <td>LP001008</td>\n",
       "      <td>Male</td>\n",
       "      <td>No</td>\n",
       "      <td>0</td>\n",
       "      <td>Graduate</td>\n",
       "      <td>No</td>\n",
       "      <td>6000</td>\n",
       "      <td>0.0</td>\n",
       "      <td>141.0</td>\n",
       "      <td>360.0</td>\n",
       "      <td>1.0</td>\n",
       "      <td>Urban</td>\n",
       "      <td>Y</td>\n",
       "    </tr>\n",
       "    <tr>\n",
       "      <th>...</th>\n",
       "      <td>...</td>\n",
       "      <td>...</td>\n",
       "      <td>...</td>\n",
       "      <td>...</td>\n",
       "      <td>...</td>\n",
       "      <td>...</td>\n",
       "      <td>...</td>\n",
       "      <td>...</td>\n",
       "      <td>...</td>\n",
       "      <td>...</td>\n",
       "      <td>...</td>\n",
       "      <td>...</td>\n",
       "      <td>...</td>\n",
       "    </tr>\n",
       "    <tr>\n",
       "      <th>609</th>\n",
       "      <td>LP002978</td>\n",
       "      <td>Female</td>\n",
       "      <td>No</td>\n",
       "      <td>0</td>\n",
       "      <td>Graduate</td>\n",
       "      <td>No</td>\n",
       "      <td>2900</td>\n",
       "      <td>0.0</td>\n",
       "      <td>71.0</td>\n",
       "      <td>360.0</td>\n",
       "      <td>1.0</td>\n",
       "      <td>Rural</td>\n",
       "      <td>Y</td>\n",
       "    </tr>\n",
       "    <tr>\n",
       "      <th>610</th>\n",
       "      <td>LP002979</td>\n",
       "      <td>Male</td>\n",
       "      <td>Yes</td>\n",
       "      <td>3+</td>\n",
       "      <td>Graduate</td>\n",
       "      <td>No</td>\n",
       "      <td>4106</td>\n",
       "      <td>0.0</td>\n",
       "      <td>40.0</td>\n",
       "      <td>180.0</td>\n",
       "      <td>1.0</td>\n",
       "      <td>Rural</td>\n",
       "      <td>Y</td>\n",
       "    </tr>\n",
       "    <tr>\n",
       "      <th>611</th>\n",
       "      <td>LP002983</td>\n",
       "      <td>Male</td>\n",
       "      <td>Yes</td>\n",
       "      <td>1</td>\n",
       "      <td>Graduate</td>\n",
       "      <td>No</td>\n",
       "      <td>8072</td>\n",
       "      <td>240.0</td>\n",
       "      <td>253.0</td>\n",
       "      <td>360.0</td>\n",
       "      <td>1.0</td>\n",
       "      <td>Urban</td>\n",
       "      <td>Y</td>\n",
       "    </tr>\n",
       "    <tr>\n",
       "      <th>612</th>\n",
       "      <td>LP002984</td>\n",
       "      <td>Male</td>\n",
       "      <td>Yes</td>\n",
       "      <td>2</td>\n",
       "      <td>Graduate</td>\n",
       "      <td>No</td>\n",
       "      <td>7583</td>\n",
       "      <td>0.0</td>\n",
       "      <td>187.0</td>\n",
       "      <td>360.0</td>\n",
       "      <td>1.0</td>\n",
       "      <td>Urban</td>\n",
       "      <td>Y</td>\n",
       "    </tr>\n",
       "    <tr>\n",
       "      <th>613</th>\n",
       "      <td>LP002990</td>\n",
       "      <td>Female</td>\n",
       "      <td>No</td>\n",
       "      <td>0</td>\n",
       "      <td>Graduate</td>\n",
       "      <td>Yes</td>\n",
       "      <td>4583</td>\n",
       "      <td>0.0</td>\n",
       "      <td>133.0</td>\n",
       "      <td>360.0</td>\n",
       "      <td>0.0</td>\n",
       "      <td>Semiurban</td>\n",
       "      <td>N</td>\n",
       "    </tr>\n",
       "  </tbody>\n",
       "</table>\n",
       "<p>614 rows × 13 columns</p>\n",
       "</div>"
      ],
      "text/plain": [
       "      Loan_ID  Gender Married Dependents     Education Self_Employed  \\\n",
       "0    LP001002    Male      No          0      Graduate            No   \n",
       "1    LP001003    Male     Yes          1      Graduate            No   \n",
       "2    LP001005    Male     Yes          0      Graduate           Yes   \n",
       "3    LP001006    Male     Yes          0  Not Graduate            No   \n",
       "4    LP001008    Male      No          0      Graduate            No   \n",
       "..        ...     ...     ...        ...           ...           ...   \n",
       "609  LP002978  Female      No          0      Graduate            No   \n",
       "610  LP002979    Male     Yes         3+      Graduate            No   \n",
       "611  LP002983    Male     Yes          1      Graduate            No   \n",
       "612  LP002984    Male     Yes          2      Graduate            No   \n",
       "613  LP002990  Female      No          0      Graduate           Yes   \n",
       "\n",
       "     ApplicantIncome  CoapplicantIncome  LoanAmount  Loan_Amount_Term  \\\n",
       "0               5849                0.0         NaN             360.0   \n",
       "1               4583             1508.0       128.0             360.0   \n",
       "2               3000                0.0        66.0             360.0   \n",
       "3               2583             2358.0       120.0             360.0   \n",
       "4               6000                0.0       141.0             360.0   \n",
       "..               ...                ...         ...               ...   \n",
       "609             2900                0.0        71.0             360.0   \n",
       "610             4106                0.0        40.0             180.0   \n",
       "611             8072              240.0       253.0             360.0   \n",
       "612             7583                0.0       187.0             360.0   \n",
       "613             4583                0.0       133.0             360.0   \n",
       "\n",
       "     Credit_History Property_Area Loan_Status  \n",
       "0               1.0         Urban           Y  \n",
       "1               1.0         Rural           N  \n",
       "2               1.0         Urban           Y  \n",
       "3               1.0         Urban           Y  \n",
       "4               1.0         Urban           Y  \n",
       "..              ...           ...         ...  \n",
       "609             1.0         Rural           Y  \n",
       "610             1.0         Rural           Y  \n",
       "611             1.0         Urban           Y  \n",
       "612             1.0         Urban           Y  \n",
       "613             0.0     Semiurban           N  \n",
       "\n",
       "[614 rows x 13 columns]"
      ]
     },
     "execution_count": 2,
     "metadata": {},
     "output_type": "execute_result"
    }
   ],
   "source": [
    "df=pd.read_csv(\"https://raw.githubusercontent.com/dsrscientist/DSData/master/loan_prediction.csv\")\n",
    "df"
   ]
  },
  {
   "cell_type": "markdown",
   "id": "6760e753",
   "metadata": {},
   "source": [
    "## Exploratory Data Analysis"
   ]
  },
  {
   "cell_type": "markdown",
   "id": "74e2186d",
   "metadata": {},
   "source": [
    "## checking nulls"
   ]
  },
  {
   "cell_type": "code",
   "execution_count": 4,
   "id": "78f50182",
   "metadata": {},
   "outputs": [
    {
     "data": {
      "text/plain": [
       "Loan_ID               0\n",
       "Gender               13\n",
       "Married               3\n",
       "Dependents           15\n",
       "Education             0\n",
       "Self_Employed        32\n",
       "ApplicantIncome       0\n",
       "CoapplicantIncome     0\n",
       "LoanAmount           22\n",
       "Loan_Amount_Term     14\n",
       "Credit_History       50\n",
       "Property_Area         0\n",
       "Loan_Status           0\n",
       "dtype: int64"
      ]
     },
     "execution_count": 4,
     "metadata": {},
     "output_type": "execute_result"
    }
   ],
   "source": [
    "df.isna().sum()"
   ]
  },
  {
   "cell_type": "markdown",
   "id": "dc075aba",
   "metadata": {},
   "source": [
    "## Checking data types"
   ]
  },
  {
   "cell_type": "code",
   "execution_count": 5,
   "id": "d75ef43e",
   "metadata": {},
   "outputs": [
    {
     "data": {
      "text/plain": [
       "Loan_ID               object\n",
       "Gender                object\n",
       "Married               object\n",
       "Dependents            object\n",
       "Education             object\n",
       "Self_Employed         object\n",
       "ApplicantIncome        int64\n",
       "CoapplicantIncome    float64\n",
       "LoanAmount           float64\n",
       "Loan_Amount_Term     float64\n",
       "Credit_History       float64\n",
       "Property_Area         object\n",
       "Loan_Status           object\n",
       "dtype: object"
      ]
     },
     "execution_count": 5,
     "metadata": {},
     "output_type": "execute_result"
    }
   ],
   "source": [
    "df.dtypes"
   ]
  },
  {
   "cell_type": "markdown",
   "id": "37e5b27c",
   "metadata": {},
   "source": [
    "## Treating nulls"
   ]
  },
  {
   "cell_type": "code",
   "execution_count": 3,
   "id": "a1eb4d77",
   "metadata": {},
   "outputs": [],
   "source": [
    "df['Gender']=df['Gender'].fillna(df['Gender'].mode()[0])"
   ]
  },
  {
   "cell_type": "code",
   "execution_count": 4,
   "id": "27c38b43",
   "metadata": {},
   "outputs": [],
   "source": [
    "df['Dependents']=df['Dependents'].fillna(df['Dependents'].mode()[0])\n",
    "df['Self_Employed']=df['Self_Employed'].fillna(df['Self_Employed'].mode()[0])\n",
    "df['LoanAmount']=df['LoanAmount'].fillna(df['LoanAmount'].mean())\n",
    "df['Loan_Amount_Term']=df['Loan_Amount_Term'].fillna(df['Loan_Amount_Term'].mean())\n",
    "df['Credit_History']=df['Credit_History'].fillna(df['Credit_History'].mean())"
   ]
  },
  {
   "cell_type": "code",
   "execution_count": 5,
   "id": "caae310f",
   "metadata": {},
   "outputs": [],
   "source": [
    "df['Married']=df['Married'].fillna(df['Married'].mode()[0])"
   ]
  },
  {
   "cell_type": "code",
   "execution_count": 10,
   "id": "f63df4c1",
   "metadata": {},
   "outputs": [
    {
     "data": {
      "text/plain": [
       "Loan_ID              0\n",
       "Gender               0\n",
       "Married              0\n",
       "Dependents           0\n",
       "Education            0\n",
       "Self_Employed        0\n",
       "ApplicantIncome      0\n",
       "CoapplicantIncome    0\n",
       "LoanAmount           0\n",
       "Loan_Amount_Term     0\n",
       "Credit_History       0\n",
       "Property_Area        0\n",
       "Loan_Status          0\n",
       "dtype: int64"
      ]
     },
     "execution_count": 10,
     "metadata": {},
     "output_type": "execute_result"
    }
   ],
   "source": [
    "df.isna().sum()"
   ]
  },
  {
   "cell_type": "markdown",
   "id": "e3a92171",
   "metadata": {},
   "source": [
    "## Analysing relationship between features and label"
   ]
  },
  {
   "cell_type": "code",
   "execution_count": 11,
   "id": "db1382d4",
   "metadata": {
    "scrolled": true
   },
   "outputs": [
    {
     "data": {
      "image/png": "[encoded data removed]",
      "text/plain": [
       "<Figure size 432x288 with 1 Axes>"
      ]
     },
     "metadata": {
      "needs_background": "light"
     },
     "output_type": "display_data"
    },
    {
     "data": {
      "image/png": "[encoded data removed]",
      "text/plain": [
       "<Figure size 432x288 with 1 Axes>"
      ]
     },
     "metadata": {
      "needs_background": "light"
     },
     "output_type": "display_data"
    },
    {
     "data": {
      "image/png": "[encoded data removed]",
      "text/plain": [
       "<Figure size 432x288 with 1 Axes>"
      ]
     },
     "metadata": {
      "needs_background": "light"
     },
     "output_type": "display_data"
    },
    {
     "data": {
      "image/png": "[encoded data removed]",
      "text/plain": [
       "<Figure size 432x288 with 1 Axes>"
      ]
     },
     "metadata": {
      "needs_background": "light"
     },
     "output_type": "display_data"
    },
    {
     "data": {
      "image/png": "[encoded data removed]",
      "text/plain": [
       "<Figure size 432x288 with 1 Axes>"
      ]
     },
     "metadata": {
      "needs_background": "light"
     },
     "output_type": "display_data"
    },
    {
     "data": {
      "image/png": "[encoded data removed]",
      "text/plain": [
       "<Figure size 432x288 with 1 Axes>"
      ]
     },
     "metadata": {
      "needs_background": "light"
     },
     "output_type": "display_data"
    }
   ],
   "source": [
    "category=['Gender','Married','Dependents','Education','Self_Employed','Property_Area']\n",
    "#Plotting count plot for each feature\n",
    "for i in category:\n",
    "    a=sns.countplot(x=df[i],hue=df['Loan_Status'],data=df)\n",
    "    plt.xlabel(i)\n",
    "    plt.xticks(rotation=90)\n",
    "    plt.show()"
   ]
  },
  {
   "cell_type": "raw",
   "id": "d21c69e9",
   "metadata": {},
   "source": [
    "Observation: We could make following observation:\n",
    "        1)Gender:There are more male applicants then female but the probability of loan getting approved is more for \n",
    "            female applicants.\n",
    "        2)Married:More loan applications are from married people and these loan application has higher chance of getting\n",
    "            approved.\n",
    "        3)Dependents:Higher chance of loan approval for no dependents people.\n",
    "        4)Education:Higher chance of loan approval for Graduates then non graduates.\n",
    "        5)Self_Employed:People who are not self employeed means those people who are into any kind of service and not \n",
    "            business has higher chance of loan approval.\n",
    "        6)Property_Area:Loan approval change is higher for Semiurban property area and least in Rural property area."
   ]
  },
  {
   "cell_type": "code",
   "execution_count": 12,
   "id": "e33d3f51",
   "metadata": {
    "scrolled": true
   },
   "outputs": [
    {
     "data": {
      "image/png": "[encoded data removed]",
      "text/plain": [
       "<Figure size 432x288 with 1 Axes>"
      ]
     },
     "metadata": {
      "needs_background": "light"
     },
     "output_type": "display_data"
    },
    {
     "data": {
      "image/png": "[encoded data removed]",
      "text/plain": [
       "<Figure size 432x288 with 1 Axes>"
      ]
     },
     "metadata": {
      "needs_background": "light"
     },
     "output_type": "display_data"
    },
    {
     "data": {
      "image/png": "[encoded data removed]",
      "text/plain": [
       "<Figure size 432x288 with 1 Axes>"
      ]
     },
     "metadata": {
      "needs_background": "light"
     },
     "output_type": "display_data"
    },
    {
     "data": {
      "image/png": "[encoded data removed]",
      "text/plain": [
       "<Figure size 432x288 with 1 Axes>"
      ]
     },
     "metadata": {
      "needs_background": "light"
     },
     "output_type": "display_data"
    },
    {
     "data": {
      "image/png": "[encoded data removed]",
      "text/plain": [
       "<Figure size 432x288 with 1 Axes>"
      ]
     },
     "metadata": {
      "needs_background": "light"
     },
     "output_type": "display_data"
    }
   ],
   "source": [
    "col=['ApplicantIncome','CoapplicantIncome','LoanAmount','Loan_Amount_Term','Credit_History']\n",
    "for i in col:\n",
    "    a=sns.histplot(x=df[i],hue=df['Loan_Status'],data=df)\n",
    "    plt.xlabel(i)\n",
    "    plt.xticks(rotation=90)\n",
    "    plt.show()"
   ]
  },
  {
   "cell_type": "markdown",
   "id": "ba9b80d1",
   "metadata": {},
   "source": [
    "## Encoding"
   ]
  },
  {
   "cell_type": "code",
   "execution_count": 6,
   "id": "840c2621",
   "metadata": {},
   "outputs": [
    {
     "data": {
      "text/html": [
       "<div>\n",
       "<style scoped>\n",
       "    .dataframe tbody tr th:only-of-type {\n",
       "        vertical-align: middle;\n",
       "    }\n",
       "\n",
       "    .dataframe tbody tr th {\n",
       "        vertical-align: top;\n",
       "    }\n",
       "\n",
       "    .dataframe thead th {\n",
       "        text-align: right;\n",
       "    }\n",
       "</style>\n",
       "<table border=\"1\" class=\"dataframe\">\n",
       "  <thead>\n",
       "    <tr style=\"text-align: right;\">\n",
       "      <th></th>\n",
       "      <th>Loan_ID</th>\n",
       "      <th>Gender</th>\n",
       "      <th>Married</th>\n",
       "      <th>Dependents</th>\n",
       "      <th>Education</th>\n",
       "      <th>Self_Employed</th>\n",
       "      <th>ApplicantIncome</th>\n",
       "      <th>CoapplicantIncome</th>\n",
       "      <th>LoanAmount</th>\n",
       "      <th>Loan_Amount_Term</th>\n",
       "      <th>Credit_History</th>\n",
       "      <th>Property_Area</th>\n",
       "      <th>Loan_Status</th>\n",
       "    </tr>\n",
       "  </thead>\n",
       "  <tbody>\n",
       "    <tr>\n",
       "      <th>0</th>\n",
       "      <td>0.0</td>\n",
       "      <td>1.0</td>\n",
       "      <td>0.0</td>\n",
       "      <td>0.0</td>\n",
       "      <td>0.0</td>\n",
       "      <td>0.0</td>\n",
       "      <td>5849</td>\n",
       "      <td>0.0</td>\n",
       "      <td>146.412162</td>\n",
       "      <td>360.0</td>\n",
       "      <td>1.0</td>\n",
       "      <td>2.0</td>\n",
       "      <td>Y</td>\n",
       "    </tr>\n",
       "    <tr>\n",
       "      <th>1</th>\n",
       "      <td>1.0</td>\n",
       "      <td>1.0</td>\n",
       "      <td>1.0</td>\n",
       "      <td>1.0</td>\n",
       "      <td>0.0</td>\n",
       "      <td>0.0</td>\n",
       "      <td>4583</td>\n",
       "      <td>1508.0</td>\n",
       "      <td>128.000000</td>\n",
       "      <td>360.0</td>\n",
       "      <td>1.0</td>\n",
       "      <td>0.0</td>\n",
       "      <td>N</td>\n",
       "    </tr>\n",
       "    <tr>\n",
       "      <th>2</th>\n",
       "      <td>2.0</td>\n",
       "      <td>1.0</td>\n",
       "      <td>1.0</td>\n",
       "      <td>0.0</td>\n",
       "      <td>0.0</td>\n",
       "      <td>1.0</td>\n",
       "      <td>3000</td>\n",
       "      <td>0.0</td>\n",
       "      <td>66.000000</td>\n",
       "      <td>360.0</td>\n",
       "      <td>1.0</td>\n",
       "      <td>2.0</td>\n",
       "      <td>Y</td>\n",
       "    </tr>\n",
       "    <tr>\n",
       "      <th>3</th>\n",
       "      <td>3.0</td>\n",
       "      <td>1.0</td>\n",
       "      <td>1.0</td>\n",
       "      <td>0.0</td>\n",
       "      <td>1.0</td>\n",
       "      <td>0.0</td>\n",
       "      <td>2583</td>\n",
       "      <td>2358.0</td>\n",
       "      <td>120.000000</td>\n",
       "      <td>360.0</td>\n",
       "      <td>1.0</td>\n",
       "      <td>2.0</td>\n",
       "      <td>Y</td>\n",
       "    </tr>\n",
       "    <tr>\n",
       "      <th>4</th>\n",
       "      <td>4.0</td>\n",
       "      <td>1.0</td>\n",
       "      <td>0.0</td>\n",
       "      <td>0.0</td>\n",
       "      <td>0.0</td>\n",
       "      <td>0.0</td>\n",
       "      <td>6000</td>\n",
       "      <td>0.0</td>\n",
       "      <td>141.000000</td>\n",
       "      <td>360.0</td>\n",
       "      <td>1.0</td>\n",
       "      <td>2.0</td>\n",
       "      <td>Y</td>\n",
       "    </tr>\n",
       "  </tbody>\n",
       "</table>\n",
       "</div>"
      ],
      "text/plain": [
       "   Loan_ID  Gender  Married  Dependents  Education  Self_Employed  \\\n",
       "0      0.0     1.0      0.0         0.0        0.0            0.0   \n",
       "1      1.0     1.0      1.0         1.0        0.0            0.0   \n",
       "2      2.0     1.0      1.0         0.0        0.0            1.0   \n",
       "3      3.0     1.0      1.0         0.0        1.0            0.0   \n",
       "4      4.0     1.0      0.0         0.0        0.0            0.0   \n",
       "\n",
       "   ApplicantIncome  CoapplicantIncome  LoanAmount  Loan_Amount_Term  \\\n",
       "0             5849                0.0  146.412162             360.0   \n",
       "1             4583             1508.0  128.000000             360.0   \n",
       "2             3000                0.0   66.000000             360.0   \n",
       "3             2583             2358.0  120.000000             360.0   \n",
       "4             6000                0.0  141.000000             360.0   \n",
       "\n",
       "   Credit_History  Property_Area Loan_Status  \n",
       "0             1.0            2.0           Y  \n",
       "1             1.0            0.0           N  \n",
       "2             1.0            2.0           Y  \n",
       "3             1.0            2.0           Y  \n",
       "4             1.0            2.0           Y  "
      ]
     },
     "execution_count": 6,
     "metadata": {},
     "output_type": "execute_result"
    }
   ],
   "source": [
    "#Using ordinal encoder\n",
    "oe=OrdinalEncoder()\n",
    "df1=oe.fit_transform(df[['Gender']])\n",
    "df['Gender']=df1\n",
    "df2=oe.fit_transform(df[['Married']])\n",
    "df['Married']=df2\n",
    "df3=oe.fit_transform(df[['Dependents']])\n",
    "df['Dependents']=df3\n",
    "df1=oe.fit_transform(df[['Education']])\n",
    "df['Education']=df1\n",
    "df2=oe.fit_transform(df[['Self_Employed']])\n",
    "df['Self_Employed']=df2\n",
    "df1=oe.fit_transform(df[['Property_Area']])\n",
    "df['Property_Area']=df1\n",
    "df1=oe.fit_transform(df[['Loan_ID']])\n",
    "df['Loan_ID']=df1\n",
    "\n",
    "df.head()"
   ]
  },
  {
   "cell_type": "markdown",
   "id": "68170f1d",
   "metadata": {},
   "source": [
    "## Label Encoding"
   ]
  },
  {
   "cell_type": "code",
   "execution_count": 7,
   "id": "a7213adf",
   "metadata": {},
   "outputs": [
    {
     "name": "stderr",
     "output_type": "stream",
     "text": [
      "C:\\Users\\user\\anaconda3\\lib\\site-packages\\sklearn\\utils\\validation.py:63: DataConversionWarning: A column-vector y was passed when a 1d array was expected. Please change the shape of y to (n_samples, ), for example using ravel().\n",
      "  return f(*args, **kwargs)\n"
     ]
    },
    {
     "data": {
      "text/html": [
       "<div>\n",
       "<style scoped>\n",
       "    .dataframe tbody tr th:only-of-type {\n",
       "        vertical-align: middle;\n",
       "    }\n",
       "\n",
       "    .dataframe tbody tr th {\n",
       "        vertical-align: top;\n",
       "    }\n",
       "\n",
       "    .dataframe thead th {\n",
       "        text-align: right;\n",
       "    }\n",
       "</style>\n",
       "<table border=\"1\" class=\"dataframe\">\n",
       "  <thead>\n",
       "    <tr style=\"text-align: right;\">\n",
       "      <th></th>\n",
       "      <th>Loan_ID</th>\n",
       "      <th>Gender</th>\n",
       "      <th>Married</th>\n",
       "      <th>Dependents</th>\n",
       "      <th>Education</th>\n",
       "      <th>Self_Employed</th>\n",
       "      <th>ApplicantIncome</th>\n",
       "      <th>CoapplicantIncome</th>\n",
       "      <th>LoanAmount</th>\n",
       "      <th>Loan_Amount_Term</th>\n",
       "      <th>Credit_History</th>\n",
       "      <th>Property_Area</th>\n",
       "      <th>Loan_Status</th>\n",
       "    </tr>\n",
       "  </thead>\n",
       "  <tbody>\n",
       "    <tr>\n",
       "      <th>0</th>\n",
       "      <td>0.0</td>\n",
       "      <td>1.0</td>\n",
       "      <td>0.0</td>\n",
       "      <td>0.0</td>\n",
       "      <td>0.0</td>\n",
       "      <td>0.0</td>\n",
       "      <td>5849</td>\n",
       "      <td>0.0</td>\n",
       "      <td>146.412162</td>\n",
       "      <td>360.0</td>\n",
       "      <td>1.000000</td>\n",
       "      <td>2.0</td>\n",
       "      <td>1</td>\n",
       "    </tr>\n",
       "    <tr>\n",
       "      <th>1</th>\n",
       "      <td>1.0</td>\n",
       "      <td>1.0</td>\n",
       "      <td>1.0</td>\n",
       "      <td>1.0</td>\n",
       "      <td>0.0</td>\n",
       "      <td>0.0</td>\n",
       "      <td>4583</td>\n",
       "      <td>1508.0</td>\n",
       "      <td>128.000000</td>\n",
       "      <td>360.0</td>\n",
       "      <td>1.000000</td>\n",
       "      <td>0.0</td>\n",
       "      <td>0</td>\n",
       "    </tr>\n",
       "    <tr>\n",
       "      <th>2</th>\n",
       "      <td>2.0</td>\n",
       "      <td>1.0</td>\n",
       "      <td>1.0</td>\n",
       "      <td>0.0</td>\n",
       "      <td>0.0</td>\n",
       "      <td>1.0</td>\n",
       "      <td>3000</td>\n",
       "      <td>0.0</td>\n",
       "      <td>66.000000</td>\n",
       "      <td>360.0</td>\n",
       "      <td>1.000000</td>\n",
       "      <td>2.0</td>\n",
       "      <td>1</td>\n",
       "    </tr>\n",
       "    <tr>\n",
       "      <th>3</th>\n",
       "      <td>3.0</td>\n",
       "      <td>1.0</td>\n",
       "      <td>1.0</td>\n",
       "      <td>0.0</td>\n",
       "      <td>1.0</td>\n",
       "      <td>0.0</td>\n",
       "      <td>2583</td>\n",
       "      <td>2358.0</td>\n",
       "      <td>120.000000</td>\n",
       "      <td>360.0</td>\n",
       "      <td>1.000000</td>\n",
       "      <td>2.0</td>\n",
       "      <td>1</td>\n",
       "    </tr>\n",
       "    <tr>\n",
       "      <th>4</th>\n",
       "      <td>4.0</td>\n",
       "      <td>1.0</td>\n",
       "      <td>0.0</td>\n",
       "      <td>0.0</td>\n",
       "      <td>0.0</td>\n",
       "      <td>0.0</td>\n",
       "      <td>6000</td>\n",
       "      <td>0.0</td>\n",
       "      <td>141.000000</td>\n",
       "      <td>360.0</td>\n",
       "      <td>1.000000</td>\n",
       "      <td>2.0</td>\n",
       "      <td>1</td>\n",
       "    </tr>\n",
       "    <tr>\n",
       "      <th>5</th>\n",
       "      <td>5.0</td>\n",
       "      <td>1.0</td>\n",
       "      <td>1.0</td>\n",
       "      <td>2.0</td>\n",
       "      <td>0.0</td>\n",
       "      <td>1.0</td>\n",
       "      <td>5417</td>\n",
       "      <td>4196.0</td>\n",
       "      <td>267.000000</td>\n",
       "      <td>360.0</td>\n",
       "      <td>1.000000</td>\n",
       "      <td>2.0</td>\n",
       "      <td>1</td>\n",
       "    </tr>\n",
       "    <tr>\n",
       "      <th>6</th>\n",
       "      <td>6.0</td>\n",
       "      <td>1.0</td>\n",
       "      <td>1.0</td>\n",
       "      <td>0.0</td>\n",
       "      <td>1.0</td>\n",
       "      <td>0.0</td>\n",
       "      <td>2333</td>\n",
       "      <td>1516.0</td>\n",
       "      <td>95.000000</td>\n",
       "      <td>360.0</td>\n",
       "      <td>1.000000</td>\n",
       "      <td>2.0</td>\n",
       "      <td>1</td>\n",
       "    </tr>\n",
       "    <tr>\n",
       "      <th>7</th>\n",
       "      <td>7.0</td>\n",
       "      <td>1.0</td>\n",
       "      <td>1.0</td>\n",
       "      <td>3.0</td>\n",
       "      <td>0.0</td>\n",
       "      <td>0.0</td>\n",
       "      <td>3036</td>\n",
       "      <td>2504.0</td>\n",
       "      <td>158.000000</td>\n",
       "      <td>360.0</td>\n",
       "      <td>0.000000</td>\n",
       "      <td>1.0</td>\n",
       "      <td>0</td>\n",
       "    </tr>\n",
       "    <tr>\n",
       "      <th>8</th>\n",
       "      <td>8.0</td>\n",
       "      <td>1.0</td>\n",
       "      <td>1.0</td>\n",
       "      <td>2.0</td>\n",
       "      <td>0.0</td>\n",
       "      <td>0.0</td>\n",
       "      <td>4006</td>\n",
       "      <td>1526.0</td>\n",
       "      <td>168.000000</td>\n",
       "      <td>360.0</td>\n",
       "      <td>1.000000</td>\n",
       "      <td>2.0</td>\n",
       "      <td>1</td>\n",
       "    </tr>\n",
       "    <tr>\n",
       "      <th>9</th>\n",
       "      <td>9.0</td>\n",
       "      <td>1.0</td>\n",
       "      <td>1.0</td>\n",
       "      <td>1.0</td>\n",
       "      <td>0.0</td>\n",
       "      <td>0.0</td>\n",
       "      <td>12841</td>\n",
       "      <td>10968.0</td>\n",
       "      <td>349.000000</td>\n",
       "      <td>360.0</td>\n",
       "      <td>1.000000</td>\n",
       "      <td>1.0</td>\n",
       "      <td>0</td>\n",
       "    </tr>\n",
       "    <tr>\n",
       "      <th>10</th>\n",
       "      <td>10.0</td>\n",
       "      <td>1.0</td>\n",
       "      <td>1.0</td>\n",
       "      <td>2.0</td>\n",
       "      <td>0.0</td>\n",
       "      <td>0.0</td>\n",
       "      <td>3200</td>\n",
       "      <td>700.0</td>\n",
       "      <td>70.000000</td>\n",
       "      <td>360.0</td>\n",
       "      <td>1.000000</td>\n",
       "      <td>2.0</td>\n",
       "      <td>1</td>\n",
       "    </tr>\n",
       "    <tr>\n",
       "      <th>11</th>\n",
       "      <td>11.0</td>\n",
       "      <td>1.0</td>\n",
       "      <td>1.0</td>\n",
       "      <td>2.0</td>\n",
       "      <td>0.0</td>\n",
       "      <td>0.0</td>\n",
       "      <td>2500</td>\n",
       "      <td>1840.0</td>\n",
       "      <td>109.000000</td>\n",
       "      <td>360.0</td>\n",
       "      <td>1.000000</td>\n",
       "      <td>2.0</td>\n",
       "      <td>1</td>\n",
       "    </tr>\n",
       "    <tr>\n",
       "      <th>12</th>\n",
       "      <td>12.0</td>\n",
       "      <td>1.0</td>\n",
       "      <td>1.0</td>\n",
       "      <td>2.0</td>\n",
       "      <td>0.0</td>\n",
       "      <td>0.0</td>\n",
       "      <td>3073</td>\n",
       "      <td>8106.0</td>\n",
       "      <td>200.000000</td>\n",
       "      <td>360.0</td>\n",
       "      <td>1.000000</td>\n",
       "      <td>2.0</td>\n",
       "      <td>1</td>\n",
       "    </tr>\n",
       "    <tr>\n",
       "      <th>13</th>\n",
       "      <td>13.0</td>\n",
       "      <td>1.0</td>\n",
       "      <td>0.0</td>\n",
       "      <td>0.0</td>\n",
       "      <td>0.0</td>\n",
       "      <td>0.0</td>\n",
       "      <td>1853</td>\n",
       "      <td>2840.0</td>\n",
       "      <td>114.000000</td>\n",
       "      <td>360.0</td>\n",
       "      <td>1.000000</td>\n",
       "      <td>0.0</td>\n",
       "      <td>0</td>\n",
       "    </tr>\n",
       "    <tr>\n",
       "      <th>14</th>\n",
       "      <td>14.0</td>\n",
       "      <td>1.0</td>\n",
       "      <td>1.0</td>\n",
       "      <td>2.0</td>\n",
       "      <td>0.0</td>\n",
       "      <td>0.0</td>\n",
       "      <td>1299</td>\n",
       "      <td>1086.0</td>\n",
       "      <td>17.000000</td>\n",
       "      <td>120.0</td>\n",
       "      <td>1.000000</td>\n",
       "      <td>2.0</td>\n",
       "      <td>1</td>\n",
       "    </tr>\n",
       "    <tr>\n",
       "      <th>15</th>\n",
       "      <td>15.0</td>\n",
       "      <td>1.0</td>\n",
       "      <td>0.0</td>\n",
       "      <td>0.0</td>\n",
       "      <td>0.0</td>\n",
       "      <td>0.0</td>\n",
       "      <td>4950</td>\n",
       "      <td>0.0</td>\n",
       "      <td>125.000000</td>\n",
       "      <td>360.0</td>\n",
       "      <td>1.000000</td>\n",
       "      <td>2.0</td>\n",
       "      <td>1</td>\n",
       "    </tr>\n",
       "    <tr>\n",
       "      <th>16</th>\n",
       "      <td>16.0</td>\n",
       "      <td>1.0</td>\n",
       "      <td>0.0</td>\n",
       "      <td>1.0</td>\n",
       "      <td>1.0</td>\n",
       "      <td>0.0</td>\n",
       "      <td>3596</td>\n",
       "      <td>0.0</td>\n",
       "      <td>100.000000</td>\n",
       "      <td>240.0</td>\n",
       "      <td>0.842199</td>\n",
       "      <td>2.0</td>\n",
       "      <td>1</td>\n",
       "    </tr>\n",
       "    <tr>\n",
       "      <th>17</th>\n",
       "      <td>17.0</td>\n",
       "      <td>0.0</td>\n",
       "      <td>0.0</td>\n",
       "      <td>0.0</td>\n",
       "      <td>0.0</td>\n",
       "      <td>0.0</td>\n",
       "      <td>3510</td>\n",
       "      <td>0.0</td>\n",
       "      <td>76.000000</td>\n",
       "      <td>360.0</td>\n",
       "      <td>0.000000</td>\n",
       "      <td>2.0</td>\n",
       "      <td>0</td>\n",
       "    </tr>\n",
       "    <tr>\n",
       "      <th>18</th>\n",
       "      <td>18.0</td>\n",
       "      <td>1.0</td>\n",
       "      <td>1.0</td>\n",
       "      <td>0.0</td>\n",
       "      <td>1.0</td>\n",
       "      <td>0.0</td>\n",
       "      <td>4887</td>\n",
       "      <td>0.0</td>\n",
       "      <td>133.000000</td>\n",
       "      <td>360.0</td>\n",
       "      <td>1.000000</td>\n",
       "      <td>0.0</td>\n",
       "      <td>0</td>\n",
       "    </tr>\n",
       "    <tr>\n",
       "      <th>19</th>\n",
       "      <td>19.0</td>\n",
       "      <td>1.0</td>\n",
       "      <td>1.0</td>\n",
       "      <td>0.0</td>\n",
       "      <td>0.0</td>\n",
       "      <td>0.0</td>\n",
       "      <td>2600</td>\n",
       "      <td>3500.0</td>\n",
       "      <td>115.000000</td>\n",
       "      <td>342.0</td>\n",
       "      <td>1.000000</td>\n",
       "      <td>2.0</td>\n",
       "      <td>1</td>\n",
       "    </tr>\n",
       "  </tbody>\n",
       "</table>\n",
       "</div>"
      ],
      "text/plain": [
       "    Loan_ID  Gender  Married  Dependents  Education  Self_Employed  \\\n",
       "0       0.0     1.0      0.0         0.0        0.0            0.0   \n",
       "1       1.0     1.0      1.0         1.0        0.0            0.0   \n",
       "2       2.0     1.0      1.0         0.0        0.0            1.0   \n",
       "3       3.0     1.0      1.0         0.0        1.0            0.0   \n",
       "4       4.0     1.0      0.0         0.0        0.0            0.0   \n",
       "5       5.0     1.0      1.0         2.0        0.0            1.0   \n",
       "6       6.0     1.0      1.0         0.0        1.0            0.0   \n",
       "7       7.0     1.0      1.0         3.0        0.0            0.0   \n",
       "8       8.0     1.0      1.0         2.0        0.0            0.0   \n",
       "9       9.0     1.0      1.0         1.0        0.0            0.0   \n",
       "10     10.0     1.0      1.0         2.0        0.0            0.0   \n",
       "11     11.0     1.0      1.0         2.0        0.0            0.0   \n",
       "12     12.0     1.0      1.0         2.0        0.0            0.0   \n",
       "13     13.0     1.0      0.0         0.0        0.0            0.0   \n",
       "14     14.0     1.0      1.0         2.0        0.0            0.0   \n",
       "15     15.0     1.0      0.0         0.0        0.0            0.0   \n",
       "16     16.0     1.0      0.0         1.0        1.0            0.0   \n",
       "17     17.0     0.0      0.0         0.0        0.0            0.0   \n",
       "18     18.0     1.0      1.0         0.0        1.0            0.0   \n",
       "19     19.0     1.0      1.0         0.0        0.0            0.0   \n",
       "\n",
       "    ApplicantIncome  CoapplicantIncome  LoanAmount  Loan_Amount_Term  \\\n",
       "0              5849                0.0  146.412162             360.0   \n",
       "1              4583             1508.0  128.000000             360.0   \n",
       "2              3000                0.0   66.000000             360.0   \n",
       "3              2583             2358.0  120.000000             360.0   \n",
       "4              6000                0.0  141.000000             360.0   \n",
       "5              5417             4196.0  267.000000             360.0   \n",
       "6              2333             1516.0   95.000000             360.0   \n",
       "7              3036             2504.0  158.000000             360.0   \n",
       "8              4006             1526.0  168.000000             360.0   \n",
       "9             12841            10968.0  349.000000             360.0   \n",
       "10             3200              700.0   70.000000             360.0   \n",
       "11             2500             1840.0  109.000000             360.0   \n",
       "12             3073             8106.0  200.000000             360.0   \n",
       "13             1853             2840.0  114.000000             360.0   \n",
       "14             1299             1086.0   17.000000             120.0   \n",
       "15             4950                0.0  125.000000             360.0   \n",
       "16             3596                0.0  100.000000             240.0   \n",
       "17             3510                0.0   76.000000             360.0   \n",
       "18             4887                0.0  133.000000             360.0   \n",
       "19             2600             3500.0  115.000000             342.0   \n",
       "\n",
       "    Credit_History  Property_Area  Loan_Status  \n",
       "0         1.000000            2.0            1  \n",
       "1         1.000000            0.0            0  \n",
       "2         1.000000            2.0            1  \n",
       "3         1.000000            2.0            1  \n",
       "4         1.000000            2.0            1  \n",
       "5         1.000000            2.0            1  \n",
       "6         1.000000            2.0            1  \n",
       "7         0.000000            1.0            0  \n",
       "8         1.000000            2.0            1  \n",
       "9         1.000000            1.0            0  \n",
       "10        1.000000            2.0            1  \n",
       "11        1.000000            2.0            1  \n",
       "12        1.000000            2.0            1  \n",
       "13        1.000000            0.0            0  \n",
       "14        1.000000            2.0            1  \n",
       "15        1.000000            2.0            1  \n",
       "16        0.842199            2.0            1  \n",
       "17        0.000000            2.0            0  \n",
       "18        1.000000            0.0            0  \n",
       "19        1.000000            2.0            1  "
      ]
     },
     "execution_count": 7,
     "metadata": {},
     "output_type": "execute_result"
    }
   ],
   "source": [
    "le=LabelEncoder()\n",
    "df1=le.fit_transform(df[['Loan_Status']])\n",
    "df['Loan_Status']=df1\n",
    "df.head(20)"
   ]
  },
  {
   "cell_type": "markdown",
   "id": "fa4519f1",
   "metadata": {},
   "source": [
    "## Describing the data"
   ]
  },
  {
   "cell_type": "code",
   "execution_count": 16,
   "id": "f19448dc",
   "metadata": {},
   "outputs": [
    {
     "data": {
      "text/html": [
       "<div>\n",
       "<style scoped>\n",
       "    .dataframe tbody tr th:only-of-type {\n",
       "        vertical-align: middle;\n",
       "    }\n",
       "\n",
       "    .dataframe tbody tr th {\n",
       "        vertical-align: top;\n",
       "    }\n",
       "\n",
       "    .dataframe thead th {\n",
       "        text-align: right;\n",
       "    }\n",
       "</style>\n",
       "<table border=\"1\" class=\"dataframe\">\n",
       "  <thead>\n",
       "    <tr style=\"text-align: right;\">\n",
       "      <th></th>\n",
       "      <th>Loan_ID</th>\n",
       "      <th>Gender</th>\n",
       "      <th>Married</th>\n",
       "      <th>Dependents</th>\n",
       "      <th>Education</th>\n",
       "      <th>Self_Employed</th>\n",
       "      <th>ApplicantIncome</th>\n",
       "      <th>CoapplicantIncome</th>\n",
       "      <th>LoanAmount</th>\n",
       "      <th>Loan_Amount_Term</th>\n",
       "      <th>Credit_History</th>\n",
       "      <th>Property_Area</th>\n",
       "      <th>Loan_Status</th>\n",
       "    </tr>\n",
       "  </thead>\n",
       "  <tbody>\n",
       "    <tr>\n",
       "      <th>count</th>\n",
       "      <td>614.000000</td>\n",
       "      <td>614.000000</td>\n",
       "      <td>614.000000</td>\n",
       "      <td>614.000000</td>\n",
       "      <td>614.000000</td>\n",
       "      <td>614.000000</td>\n",
       "      <td>614.000000</td>\n",
       "      <td>614.000000</td>\n",
       "      <td>614.000000</td>\n",
       "      <td>614.000000</td>\n",
       "      <td>614.000000</td>\n",
       "      <td>614.000000</td>\n",
       "      <td>614.000000</td>\n",
       "    </tr>\n",
       "    <tr>\n",
       "      <th>mean</th>\n",
       "      <td>306.500000</td>\n",
       "      <td>0.817590</td>\n",
       "      <td>0.653094</td>\n",
       "      <td>0.744300</td>\n",
       "      <td>0.218241</td>\n",
       "      <td>0.133550</td>\n",
       "      <td>5403.459283</td>\n",
       "      <td>1621.245798</td>\n",
       "      <td>146.412162</td>\n",
       "      <td>342.000000</td>\n",
       "      <td>0.842199</td>\n",
       "      <td>1.037459</td>\n",
       "      <td>0.687296</td>\n",
       "    </tr>\n",
       "    <tr>\n",
       "      <th>std</th>\n",
       "      <td>177.390811</td>\n",
       "      <td>0.386497</td>\n",
       "      <td>0.476373</td>\n",
       "      <td>1.009623</td>\n",
       "      <td>0.413389</td>\n",
       "      <td>0.340446</td>\n",
       "      <td>6109.041673</td>\n",
       "      <td>2926.248369</td>\n",
       "      <td>84.037468</td>\n",
       "      <td>64.372489</td>\n",
       "      <td>0.349681</td>\n",
       "      <td>0.787482</td>\n",
       "      <td>0.463973</td>\n",
       "    </tr>\n",
       "    <tr>\n",
       "      <th>min</th>\n",
       "      <td>0.000000</td>\n",
       "      <td>0.000000</td>\n",
       "      <td>0.000000</td>\n",
       "      <td>0.000000</td>\n",
       "      <td>0.000000</td>\n",
       "      <td>0.000000</td>\n",
       "      <td>150.000000</td>\n",
       "      <td>0.000000</td>\n",
       "      <td>9.000000</td>\n",
       "      <td>12.000000</td>\n",
       "      <td>0.000000</td>\n",
       "      <td>0.000000</td>\n",
       "      <td>0.000000</td>\n",
       "    </tr>\n",
       "    <tr>\n",
       "      <th>25%</th>\n",
       "      <td>153.250000</td>\n",
       "      <td>1.000000</td>\n",
       "      <td>0.000000</td>\n",
       "      <td>0.000000</td>\n",
       "      <td>0.000000</td>\n",
       "      <td>0.000000</td>\n",
       "      <td>2877.500000</td>\n",
       "      <td>0.000000</td>\n",
       "      <td>100.250000</td>\n",
       "      <td>360.000000</td>\n",
       "      <td>1.000000</td>\n",
       "      <td>0.000000</td>\n",
       "      <td>0.000000</td>\n",
       "    </tr>\n",
       "    <tr>\n",
       "      <th>50%</th>\n",
       "      <td>306.500000</td>\n",
       "      <td>1.000000</td>\n",
       "      <td>1.000000</td>\n",
       "      <td>0.000000</td>\n",
       "      <td>0.000000</td>\n",
       "      <td>0.000000</td>\n",
       "      <td>3812.500000</td>\n",
       "      <td>1188.500000</td>\n",
       "      <td>129.000000</td>\n",
       "      <td>360.000000</td>\n",
       "      <td>1.000000</td>\n",
       "      <td>1.000000</td>\n",
       "      <td>1.000000</td>\n",
       "    </tr>\n",
       "    <tr>\n",
       "      <th>75%</th>\n",
       "      <td>459.750000</td>\n",
       "      <td>1.000000</td>\n",
       "      <td>1.000000</td>\n",
       "      <td>1.000000</td>\n",
       "      <td>0.000000</td>\n",
       "      <td>0.000000</td>\n",
       "      <td>5795.000000</td>\n",
       "      <td>2297.250000</td>\n",
       "      <td>164.750000</td>\n",
       "      <td>360.000000</td>\n",
       "      <td>1.000000</td>\n",
       "      <td>2.000000</td>\n",
       "      <td>1.000000</td>\n",
       "    </tr>\n",
       "    <tr>\n",
       "      <th>max</th>\n",
       "      <td>613.000000</td>\n",
       "      <td>1.000000</td>\n",
       "      <td>1.000000</td>\n",
       "      <td>3.000000</td>\n",
       "      <td>1.000000</td>\n",
       "      <td>1.000000</td>\n",
       "      <td>81000.000000</td>\n",
       "      <td>41667.000000</td>\n",
       "      <td>700.000000</td>\n",
       "      <td>480.000000</td>\n",
       "      <td>1.000000</td>\n",
       "      <td>2.000000</td>\n",
       "      <td>1.000000</td>\n",
       "    </tr>\n",
       "  </tbody>\n",
       "</table>\n",
       "</div>"
      ],
      "text/plain": [
       "          Loan_ID      Gender     Married  Dependents   Education  \\\n",
       "count  614.000000  614.000000  614.000000  614.000000  614.000000   \n",
       "mean   306.500000    0.817590    0.653094    0.744300    0.218241   \n",
       "std    177.390811    0.386497    0.476373    1.009623    0.413389   \n",
       "min      0.000000    0.000000    0.000000    0.000000    0.000000   \n",
       "25%    153.250000    1.000000    0.000000    0.000000    0.000000   \n",
       "50%    306.500000    1.000000    1.000000    0.000000    0.000000   \n",
       "75%    459.750000    1.000000    1.000000    1.000000    0.000000   \n",
       "max    613.000000    1.000000    1.000000    3.000000    1.000000   \n",
       "\n",
       "       Self_Employed  ApplicantIncome  CoapplicantIncome  LoanAmount  \\\n",
       "count     614.000000       614.000000         614.000000  614.000000   \n",
       "mean        0.133550      5403.459283        1621.245798  146.412162   \n",
       "std         0.340446      6109.041673        2926.248369   84.037468   \n",
       "min         0.000000       150.000000           0.000000    9.000000   \n",
       "25%         0.000000      2877.500000           0.000000  100.250000   \n",
       "50%         0.000000      3812.500000        1188.500000  129.000000   \n",
       "75%         0.000000      5795.000000        2297.250000  164.750000   \n",
       "max         1.000000     81000.000000       41667.000000  700.000000   \n",
       "\n",
       "       Loan_Amount_Term  Credit_History  Property_Area  Loan_Status  \n",
       "count        614.000000      614.000000     614.000000   614.000000  \n",
       "mean         342.000000        0.842199       1.037459     0.687296  \n",
       "std           64.372489        0.349681       0.787482     0.463973  \n",
       "min           12.000000        0.000000       0.000000     0.000000  \n",
       "25%          360.000000        1.000000       0.000000     0.000000  \n",
       "50%          360.000000        1.000000       1.000000     1.000000  \n",
       "75%          360.000000        1.000000       2.000000     1.000000  \n",
       "max          480.000000        1.000000       2.000000     1.000000  "
      ]
     },
     "execution_count": 16,
     "metadata": {},
     "output_type": "execute_result"
    }
   ],
   "source": [
    "df.describe()"
   ]
  },
  {
   "cell_type": "code",
   "execution_count": 17,
   "id": "bea03700",
   "metadata": {},
   "outputs": [
    {
     "data": {
      "text/plain": [
       "<AxesSubplot:>"
      ]
     },
     "execution_count": 17,
     "metadata": {},
     "output_type": "execute_result"
    },
    {
     "data": {
      "image/png": "[encoded data removed]",
      "text/plain": [
       "<Figure size 1440x720 with 2 Axes>"
      ]
     },
     "metadata": {
      "needs_background": "light"
     },
     "output_type": "display_data"
    }
   ],
   "source": [
    "# Plotting heat map for better analysis\n",
    "plt.figure(figsize=(20,10))\n",
    "sns.heatmap(df.corr().abs(),annot=True,linewidth=0.5,linecolor='black',fmt='.2f')"
   ]
  },
  {
   "cell_type": "markdown",
   "id": "b1cdc9c7",
   "metadata": {},
   "source": [
    "Observation: Multicollinearity could exists as per above heatmap. So we need to check VIF score once."
   ]
  },
  {
   "cell_type": "markdown",
   "id": "a183ef73",
   "metadata": {},
   "source": [
    "## VIF"
   ]
  },
  {
   "cell_type": "code",
   "execution_count": 18,
   "id": "eaa35f96",
   "metadata": {
    "scrolled": true
   },
   "outputs": [
    {
     "data": {
      "text/html": [
       "<div>\n",
       "<style scoped>\n",
       "    .dataframe tbody tr th:only-of-type {\n",
       "        vertical-align: middle;\n",
       "    }\n",
       "\n",
       "    .dataframe tbody tr th {\n",
       "        vertical-align: top;\n",
       "    }\n",
       "\n",
       "    .dataframe thead th {\n",
       "        text-align: right;\n",
       "    }\n",
       "</style>\n",
       "<table border=\"1\" class=\"dataframe\">\n",
       "  <thead>\n",
       "    <tr style=\"text-align: right;\">\n",
       "      <th></th>\n",
       "      <th>vif</th>\n",
       "      <th>features</th>\n",
       "    </tr>\n",
       "  </thead>\n",
       "  <tbody>\n",
       "    <tr>\n",
       "      <th>0</th>\n",
       "      <td>3.775999</td>\n",
       "      <td>Loan_ID</td>\n",
       "    </tr>\n",
       "    <tr>\n",
       "      <th>1</th>\n",
       "      <td>6.022065</td>\n",
       "      <td>Gender</td>\n",
       "    </tr>\n",
       "    <tr>\n",
       "      <th>2</th>\n",
       "      <td>3.698536</td>\n",
       "      <td>Married</td>\n",
       "    </tr>\n",
       "    <tr>\n",
       "      <th>3</th>\n",
       "      <td>1.799741</td>\n",
       "      <td>Dependents</td>\n",
       "    </tr>\n",
       "    <tr>\n",
       "      <th>4</th>\n",
       "      <td>1.321371</td>\n",
       "      <td>Education</td>\n",
       "    </tr>\n",
       "    <tr>\n",
       "      <th>5</th>\n",
       "      <td>1.178468</td>\n",
       "      <td>Self_Employed</td>\n",
       "    </tr>\n",
       "    <tr>\n",
       "      <th>6</th>\n",
       "      <td>2.892357</td>\n",
       "      <td>ApplicantIncome</td>\n",
       "    </tr>\n",
       "    <tr>\n",
       "      <th>7</th>\n",
       "      <td>1.492461</td>\n",
       "      <td>CoapplicantIncome</td>\n",
       "    </tr>\n",
       "    <tr>\n",
       "      <th>8</th>\n",
       "      <td>6.876728</td>\n",
       "      <td>LoanAmount</td>\n",
       "    </tr>\n",
       "    <tr>\n",
       "      <th>9</th>\n",
       "      <td>11.707767</td>\n",
       "      <td>Loan_Amount_Term</td>\n",
       "    </tr>\n",
       "    <tr>\n",
       "      <th>10</th>\n",
       "      <td>8.983411</td>\n",
       "      <td>Credit_History</td>\n",
       "    </tr>\n",
       "    <tr>\n",
       "      <th>11</th>\n",
       "      <td>2.588509</td>\n",
       "      <td>Property_Area</td>\n",
       "    </tr>\n",
       "    <tr>\n",
       "      <th>12</th>\n",
       "      <td>4.640768</td>\n",
       "      <td>Loan_Status</td>\n",
       "    </tr>\n",
       "  </tbody>\n",
       "</table>\n",
       "</div>"
      ],
      "text/plain": [
       "          vif           features\n",
       "0    3.775999            Loan_ID\n",
       "1    6.022065             Gender\n",
       "2    3.698536            Married\n",
       "3    1.799741         Dependents\n",
       "4    1.321371          Education\n",
       "5    1.178468      Self_Employed\n",
       "6    2.892357    ApplicantIncome\n",
       "7    1.492461  CoapplicantIncome\n",
       "8    6.876728         LoanAmount\n",
       "9   11.707767   Loan_Amount_Term\n",
       "10   8.983411     Credit_History\n",
       "11   2.588509      Property_Area\n",
       "12   4.640768        Loan_Status"
      ]
     },
     "execution_count": 18,
     "metadata": {},
     "output_type": "execute_result"
    }
   ],
   "source": [
    "vif=pd.DataFrame()\n",
    "vif['vif']=[variance_inflation_factor(df.values,i) for i in range(len(df.columns))]\n",
    "vif['features']=df.columns\n",
    "vif"
   ]
  },
  {
   "cell_type": "markdown",
   "id": "cbc52072",
   "metadata": {},
   "source": [
    "## Checking Outliers"
   ]
  },
  {
   "cell_type": "code",
   "execution_count": 23,
   "id": "6675f19d",
   "metadata": {},
   "outputs": [
    {
     "data": {
      "image/png": "[encoded data removed]",
      "text/plain": [
       "<Figure size 2160x6480 with 5 Axes>"
      ]
     },
     "metadata": {
      "needs_background": "light"
     },
     "output_type": "display_data"
    }
   ],
   "source": [
    "col=['ApplicantIncome','CoapplicantIncome','LoanAmount','Loan_Amount_Term','Credit_History']\n",
    "plt.figure(figsize=(30,90))\n",
    "for i in range(len(col)):\n",
    "    plt.subplot(20,20,i+1)\n",
    "    sns.boxplot(data=df[col[i]],color='green',orient='v')\n",
    "    plt.xlabel(col[i],fontsize=10)\n",
    "    plt.tight_layout()"
   ]
  },
  {
   "cell_type": "markdown",
   "id": "e4b4e652",
   "metadata": {},
   "source": [
    "Observation: We could see outliers in all the continuous features"
   ]
  },
  {
   "cell_type": "markdown",
   "id": "b0d1dd13",
   "metadata": {},
   "source": [
    "## Checking skewness"
   ]
  },
  {
   "cell_type": "code",
   "execution_count": 24,
   "id": "2921f98b",
   "metadata": {
    "scrolled": false
   },
   "outputs": [
    {
     "data": {
      "text/plain": [
       "Loan_ID              0.000000\n",
       "Gender              -1.648795\n",
       "Married             -0.644850\n",
       "Dependents           1.015551\n",
       "Education            1.367622\n",
       "Self_Employed        2.159796\n",
       "ApplicantIncome      6.539513\n",
       "CoapplicantIncome    7.491531\n",
       "LoanAmount           2.726601\n",
       "Loan_Amount_Term    -2.389680\n",
       "Credit_History      -1.963600\n",
       "Property_Area       -0.066196\n",
       "Loan_Status         -0.809998\n",
       "dtype: float64"
      ]
     },
     "execution_count": 24,
     "metadata": {},
     "output_type": "execute_result"
    }
   ],
   "source": [
    "df.skew()"
   ]
  },
  {
   "cell_type": "markdown",
   "id": "1a52fa57",
   "metadata": {},
   "source": [
    "Observation: Considering the best range of skewness as -0.5 to 0.5, we could observe that ApplicantIncome,CoapplicantIncome,\n",
    "    LoanAmount,Loan_Amount_Term and credit_History are skewed."
   ]
  },
  {
   "cell_type": "code",
   "execution_count": 26,
   "id": "b46a608d",
   "metadata": {},
   "outputs": [
    {
     "data": {
      "image/png": "[encoded data removed]",
      "text/plain": [
       "<Figure size 720x360 with 1 Axes>"
      ]
     },
     "metadata": {
      "needs_background": "light"
     },
     "output_type": "display_data"
    },
    {
     "data": {
      "image/png": "[encoded data removed]",
      "text/plain": [
       "<Figure size 720x360 with 1 Axes>"
      ]
     },
     "metadata": {
      "needs_background": "light"
     },
     "output_type": "display_data"
    },
    {
     "data": {
      "image/png": "[encoded data removed]",
      "text/plain": [
       "<Figure size 720x360 with 1 Axes>"
      ]
     },
     "metadata": {
      "needs_background": "light"
     },
     "output_type": "display_data"
    },
    {
     "data": {
      "image/png": "[encoded data removed]",
      "text/plain": [
       "<Figure size 720x360 with 1 Axes>"
      ]
     },
     "metadata": {
      "needs_background": "light"
     },
     "output_type": "display_data"
    },
    {
     "data": {
      "image/png": "[encoded data removed]",
      "text/plain": [
       "<Figure size 720x360 with 1 Axes>"
      ]
     },
     "metadata": {
      "needs_background": "light"
     },
     "output_type": "display_data"
    }
   ],
   "source": [
    "# Ploting Distribution plot to cross check skewness\n",
    "import warnings\n",
    "warnings.filterwarnings('ignore')\n",
    "\n",
    "# for feature Length\n",
    "for i in range(len(col)):\n",
    "    plt.figure(figsize=(10,5))\n",
    "    sns.distplot(df[col[i]])\n",
    "    plt.xlabel(col[i],fontsize=10)"
   ]
  },
  {
   "cell_type": "markdown",
   "id": "726fc8bf",
   "metadata": {},
   "source": [
    "Our skewness observation is correct."
   ]
  },
  {
   "cell_type": "markdown",
   "id": "53566c72",
   "metadata": {},
   "source": [
    "Observation: We could observe that the vif score of Loan_Amount_Term is >10 thus causing multicollinearity, it also has \n",
    "    lot of outliers and is also skewed so we would drop this feature as it is only 2% related with Loan_Status."
   ]
  },
  {
   "cell_type": "code",
   "execution_count": 8,
   "id": "94f1f347",
   "metadata": {},
   "outputs": [],
   "source": [
    "df=df.drop(['Loan_Amount_Term'],axis=1)"
   ]
  },
  {
   "cell_type": "markdown",
   "id": "e2727579",
   "metadata": {},
   "source": [
    "## Treating Outliers"
   ]
  },
  {
   "cell_type": "code",
   "execution_count": 9,
   "id": "731e5cd9",
   "metadata": {},
   "outputs": [
    {
     "name": "stdout",
     "output_type": "stream",
     "text": [
      "Outliers index-\n",
      " {130, 9, 523, 525, 402, 278, 409, 155, 417, 171, 432, 177, 561, 308, 183, 185, 443, 581, 333, 600, 604, 487, 369, 506, 126}\n",
      "\n",
      "\n",
      "Number of rows to be eliminated-\n",
      " 25\n"
     ]
    }
   ],
   "source": [
    "#Getting sure of outliers using z score\n",
    "x=df.drop(['Gender','Married','Dependents','Education','Self_Employed','Property_Area'],axis=1)\n",
    "z=np.abs(zscore(x))\n",
    "i=np.where(z>3)\n",
    "print(\"Outliers index-\\n\",set(i[0]))\n",
    "print(\"\\n\\nNumber of rows to be eliminated-\\n\",len(set(i[0])))"
   ]
  },
  {
   "cell_type": "code",
   "execution_count": 11,
   "id": "7f3c961c",
   "metadata": {},
   "outputs": [
    {
     "name": "stdout",
     "output_type": "stream",
     "text": [
      "The data loss- 4.0716612377850225 %\n"
     ]
    }
   ],
   "source": [
    "#Calculating Data Loss\n",
    "loss=((614-25)/614)*100\n",
    "print(\"The data loss-\",100-loss,\"%\")"
   ]
  },
  {
   "cell_type": "markdown",
   "id": "13e90d88",
   "metadata": {},
   "source": [
    "We could bear with 4% data loss as we have huge dataset, so lets drop these rows."
   ]
  },
  {
   "cell_type": "code",
   "execution_count": 12,
   "id": "d7d6360f",
   "metadata": {},
   "outputs": [
    {
     "data": {
      "text/html": [
       "<div>\n",
       "<style scoped>\n",
       "    .dataframe tbody tr th:only-of-type {\n",
       "        vertical-align: middle;\n",
       "    }\n",
       "\n",
       "    .dataframe tbody tr th {\n",
       "        vertical-align: top;\n",
       "    }\n",
       "\n",
       "    .dataframe thead th {\n",
       "        text-align: right;\n",
       "    }\n",
       "</style>\n",
       "<table border=\"1\" class=\"dataframe\">\n",
       "  <thead>\n",
       "    <tr style=\"text-align: right;\">\n",
       "      <th></th>\n",
       "      <th>Loan_ID</th>\n",
       "      <th>Gender</th>\n",
       "      <th>Married</th>\n",
       "      <th>Dependents</th>\n",
       "      <th>Education</th>\n",
       "      <th>Self_Employed</th>\n",
       "      <th>ApplicantIncome</th>\n",
       "      <th>CoapplicantIncome</th>\n",
       "      <th>LoanAmount</th>\n",
       "      <th>Credit_History</th>\n",
       "      <th>Property_Area</th>\n",
       "      <th>Loan_Status</th>\n",
       "    </tr>\n",
       "  </thead>\n",
       "  <tbody>\n",
       "    <tr>\n",
       "      <th>0</th>\n",
       "      <td>0.0</td>\n",
       "      <td>1.0</td>\n",
       "      <td>0.0</td>\n",
       "      <td>0.0</td>\n",
       "      <td>0.0</td>\n",
       "      <td>0.0</td>\n",
       "      <td>5849</td>\n",
       "      <td>0.0</td>\n",
       "      <td>146.412162</td>\n",
       "      <td>1.0</td>\n",
       "      <td>2.0</td>\n",
       "      <td>1</td>\n",
       "    </tr>\n",
       "    <tr>\n",
       "      <th>1</th>\n",
       "      <td>1.0</td>\n",
       "      <td>1.0</td>\n",
       "      <td>1.0</td>\n",
       "      <td>1.0</td>\n",
       "      <td>0.0</td>\n",
       "      <td>0.0</td>\n",
       "      <td>4583</td>\n",
       "      <td>1508.0</td>\n",
       "      <td>128.000000</td>\n",
       "      <td>1.0</td>\n",
       "      <td>0.0</td>\n",
       "      <td>0</td>\n",
       "    </tr>\n",
       "    <tr>\n",
       "      <th>2</th>\n",
       "      <td>2.0</td>\n",
       "      <td>1.0</td>\n",
       "      <td>1.0</td>\n",
       "      <td>0.0</td>\n",
       "      <td>0.0</td>\n",
       "      <td>1.0</td>\n",
       "      <td>3000</td>\n",
       "      <td>0.0</td>\n",
       "      <td>66.000000</td>\n",
       "      <td>1.0</td>\n",
       "      <td>2.0</td>\n",
       "      <td>1</td>\n",
       "    </tr>\n",
       "    <tr>\n",
       "      <th>3</th>\n",
       "      <td>3.0</td>\n",
       "      <td>1.0</td>\n",
       "      <td>1.0</td>\n",
       "      <td>0.0</td>\n",
       "      <td>1.0</td>\n",
       "      <td>0.0</td>\n",
       "      <td>2583</td>\n",
       "      <td>2358.0</td>\n",
       "      <td>120.000000</td>\n",
       "      <td>1.0</td>\n",
       "      <td>2.0</td>\n",
       "      <td>1</td>\n",
       "    </tr>\n",
       "    <tr>\n",
       "      <th>4</th>\n",
       "      <td>4.0</td>\n",
       "      <td>1.0</td>\n",
       "      <td>0.0</td>\n",
       "      <td>0.0</td>\n",
       "      <td>0.0</td>\n",
       "      <td>0.0</td>\n",
       "      <td>6000</td>\n",
       "      <td>0.0</td>\n",
       "      <td>141.000000</td>\n",
       "      <td>1.0</td>\n",
       "      <td>2.0</td>\n",
       "      <td>1</td>\n",
       "    </tr>\n",
       "    <tr>\n",
       "      <th>...</th>\n",
       "      <td>...</td>\n",
       "      <td>...</td>\n",
       "      <td>...</td>\n",
       "      <td>...</td>\n",
       "      <td>...</td>\n",
       "      <td>...</td>\n",
       "      <td>...</td>\n",
       "      <td>...</td>\n",
       "      <td>...</td>\n",
       "      <td>...</td>\n",
       "      <td>...</td>\n",
       "      <td>...</td>\n",
       "    </tr>\n",
       "    <tr>\n",
       "      <th>609</th>\n",
       "      <td>609.0</td>\n",
       "      <td>0.0</td>\n",
       "      <td>0.0</td>\n",
       "      <td>0.0</td>\n",
       "      <td>0.0</td>\n",
       "      <td>0.0</td>\n",
       "      <td>2900</td>\n",
       "      <td>0.0</td>\n",
       "      <td>71.000000</td>\n",
       "      <td>1.0</td>\n",
       "      <td>0.0</td>\n",
       "      <td>1</td>\n",
       "    </tr>\n",
       "    <tr>\n",
       "      <th>610</th>\n",
       "      <td>610.0</td>\n",
       "      <td>1.0</td>\n",
       "      <td>1.0</td>\n",
       "      <td>3.0</td>\n",
       "      <td>0.0</td>\n",
       "      <td>0.0</td>\n",
       "      <td>4106</td>\n",
       "      <td>0.0</td>\n",
       "      <td>40.000000</td>\n",
       "      <td>1.0</td>\n",
       "      <td>0.0</td>\n",
       "      <td>1</td>\n",
       "    </tr>\n",
       "    <tr>\n",
       "      <th>611</th>\n",
       "      <td>611.0</td>\n",
       "      <td>1.0</td>\n",
       "      <td>1.0</td>\n",
       "      <td>1.0</td>\n",
       "      <td>0.0</td>\n",
       "      <td>0.0</td>\n",
       "      <td>8072</td>\n",
       "      <td>240.0</td>\n",
       "      <td>253.000000</td>\n",
       "      <td>1.0</td>\n",
       "      <td>2.0</td>\n",
       "      <td>1</td>\n",
       "    </tr>\n",
       "    <tr>\n",
       "      <th>612</th>\n",
       "      <td>612.0</td>\n",
       "      <td>1.0</td>\n",
       "      <td>1.0</td>\n",
       "      <td>2.0</td>\n",
       "      <td>0.0</td>\n",
       "      <td>0.0</td>\n",
       "      <td>7583</td>\n",
       "      <td>0.0</td>\n",
       "      <td>187.000000</td>\n",
       "      <td>1.0</td>\n",
       "      <td>2.0</td>\n",
       "      <td>1</td>\n",
       "    </tr>\n",
       "    <tr>\n",
       "      <th>613</th>\n",
       "      <td>613.0</td>\n",
       "      <td>0.0</td>\n",
       "      <td>0.0</td>\n",
       "      <td>0.0</td>\n",
       "      <td>0.0</td>\n",
       "      <td>1.0</td>\n",
       "      <td>4583</td>\n",
       "      <td>0.0</td>\n",
       "      <td>133.000000</td>\n",
       "      <td>0.0</td>\n",
       "      <td>1.0</td>\n",
       "      <td>0</td>\n",
       "    </tr>\n",
       "  </tbody>\n",
       "</table>\n",
       "<p>589 rows × 12 columns</p>\n",
       "</div>"
      ],
      "text/plain": [
       "     Loan_ID  Gender  Married  Dependents  Education  Self_Employed  \\\n",
       "0        0.0     1.0      0.0         0.0        0.0            0.0   \n",
       "1        1.0     1.0      1.0         1.0        0.0            0.0   \n",
       "2        2.0     1.0      1.0         0.0        0.0            1.0   \n",
       "3        3.0     1.0      1.0         0.0        1.0            0.0   \n",
       "4        4.0     1.0      0.0         0.0        0.0            0.0   \n",
       "..       ...     ...      ...         ...        ...            ...   \n",
       "609    609.0     0.0      0.0         0.0        0.0            0.0   \n",
       "610    610.0     1.0      1.0         3.0        0.0            0.0   \n",
       "611    611.0     1.0      1.0         1.0        0.0            0.0   \n",
       "612    612.0     1.0      1.0         2.0        0.0            0.0   \n",
       "613    613.0     0.0      0.0         0.0        0.0            1.0   \n",
       "\n",
       "     ApplicantIncome  CoapplicantIncome  LoanAmount  Credit_History  \\\n",
       "0               5849                0.0  146.412162             1.0   \n",
       "1               4583             1508.0  128.000000             1.0   \n",
       "2               3000                0.0   66.000000             1.0   \n",
       "3               2583             2358.0  120.000000             1.0   \n",
       "4               6000                0.0  141.000000             1.0   \n",
       "..               ...                ...         ...             ...   \n",
       "609             2900                0.0   71.000000             1.0   \n",
       "610             4106                0.0   40.000000             1.0   \n",
       "611             8072              240.0  253.000000             1.0   \n",
       "612             7583                0.0  187.000000             1.0   \n",
       "613             4583                0.0  133.000000             0.0   \n",
       "\n",
       "     Property_Area  Loan_Status  \n",
       "0              2.0            1  \n",
       "1              0.0            0  \n",
       "2              2.0            1  \n",
       "3              2.0            1  \n",
       "4              2.0            1  \n",
       "..             ...          ...  \n",
       "609            0.0            1  \n",
       "610            0.0            1  \n",
       "611            2.0            1  \n",
       "612            2.0            1  \n",
       "613            1.0            0  \n",
       "\n",
       "[589 rows x 12 columns]"
      ]
     },
     "execution_count": 12,
     "metadata": {},
     "output_type": "execute_result"
    }
   ],
   "source": [
    "#removing rows with outliers\n",
    "df=df.drop(x.index[i[0]])\n",
    "df"
   ]
  },
  {
   "cell_type": "code",
   "execution_count": 13,
   "id": "caf6fe92",
   "metadata": {},
   "outputs": [
    {
     "data": {
      "text/plain": [
       "Loan_ID              0.011067\n",
       "Gender              -1.626104\n",
       "Married             -0.631755\n",
       "Dependents           1.038787\n",
       "Education            1.303332\n",
       "Self_Employed        2.218831\n",
       "ApplicantIncome      2.164762\n",
       "CoapplicantIncome    1.353191\n",
       "LoanAmount           1.076221\n",
       "Credit_History      -1.953298\n",
       "Property_Area       -0.063183\n",
       "Loan_Status         -0.828815\n",
       "dtype: float64"
      ]
     },
     "execution_count": 13,
     "metadata": {},
     "output_type": "execute_result"
    }
   ],
   "source": [
    "#Checking skewness again\n",
    "df.skew()"
   ]
  },
  {
   "cell_type": "markdown",
   "id": "cb42c6e7",
   "metadata": {},
   "source": [
    "Still skewness exists so lets treat it."
   ]
  },
  {
   "cell_type": "markdown",
   "id": "fddf8e13",
   "metadata": {},
   "source": [
    "## Checking dataset is balanced or notm"
   ]
  },
  {
   "cell_type": "code",
   "execution_count": 14,
   "id": "c8660b4d",
   "metadata": {},
   "outputs": [
    {
     "data": {
      "text/plain": [
       "1    407\n",
       "0    182\n",
       "Name: Loan_Status, dtype: int64"
      ]
     },
     "execution_count": 14,
     "metadata": {},
     "output_type": "execute_result"
    }
   ],
   "source": [
    "df['Loan_Status'].value_counts()"
   ]
  },
  {
   "cell_type": "markdown",
   "id": "c71c9921",
   "metadata": {},
   "source": [
    "Observation: Data is imbalanced so we have to treat it now."
   ]
  },
  {
   "cell_type": "markdown",
   "id": "0d2d047a",
   "metadata": {},
   "source": [
    "## Data Balancing"
   ]
  },
  {
   "cell_type": "code",
   "execution_count": 15,
   "id": "1d46ec7a",
   "metadata": {},
   "outputs": [
    {
     "data": {
      "text/plain": [
       "1    407\n",
       "0    407\n",
       "Name: Loan_Status, dtype: int64"
      ]
     },
     "execution_count": 15,
     "metadata": {},
     "output_type": "execute_result"
    }
   ],
   "source": [
    "from sklearn.utils import resample\n",
    "\n",
    "NoStatus=df[df.Loan_Status==0]\n",
    "YesStatus=df[df.Loan_Status==1]\n",
    "No_upsampled=resample(NoStatus,replace=True,n_samples=len(YesStatus),random_state=27)\n",
    "df_up=pd.concat([YesStatus,No_upsampled])\n",
    "df_up['Loan_Status'].value_counts()"
   ]
  },
  {
   "cell_type": "markdown",
   "id": "7f13da93",
   "metadata": {},
   "source": [
    "## Treating Skewness"
   ]
  },
  {
   "cell_type": "code",
   "execution_count": 16,
   "id": "df37c696",
   "metadata": {},
   "outputs": [],
   "source": [
    "x=df_up.drop(['Loan_Status'],axis=1)"
   ]
  },
  {
   "cell_type": "code",
   "execution_count": 17,
   "id": "835976d3",
   "metadata": {},
   "outputs": [
    {
     "data": {
      "text/plain": [
       "array([[-2.19276464,  0.50038388, -1.2884606 , ...,  0.26315815,\n",
       "         0.59611265,  1.17147287],\n",
       "       [-2.13655114,  0.50038388,  0.77611997, ..., -1.39723825,\n",
       "         0.59611265,  1.17147287],\n",
       "       [-2.11360738,  0.50038388,  0.77611997, ..., -0.20623603,\n",
       "         0.59611265,  1.17147287],\n",
       "       ...,\n",
       "       [-0.76505075, -1.99846567, -1.2884606 , ...,  1.42468944,\n",
       "         0.59611265, -1.33072239],\n",
       "       [ 1.27223597, -1.99846567, -1.2884606 , ..., -0.62349114,\n",
       "        -1.83293281,  0.0052363 ],\n",
       "       [ 0.68628119,  0.50038388,  0.77611997, ...,  1.33177562,\n",
       "        -1.83293281, -1.33072239]])"
      ]
     },
     "execution_count": 17,
     "metadata": {},
     "output_type": "execute_result"
    }
   ],
   "source": [
    "#using yeo-johnson transformation\n",
    "x=power_transform(x,method='yeo-johnson')\n",
    "x"
   ]
  },
  {
   "cell_type": "code",
   "execution_count": 18,
   "id": "e425eb8e",
   "metadata": {},
   "outputs": [],
   "source": [
    "y=df_up['Loan_Status']"
   ]
  },
  {
   "cell_type": "markdown",
   "id": "21f7ccb5",
   "metadata": {},
   "source": [
    "## Standardisation of data"
   ]
  },
  {
   "cell_type": "code",
   "execution_count": 19,
   "id": "52fc3817",
   "metadata": {},
   "outputs": [
    {
     "data": {
      "text/plain": [
       "array([[-2.19276464,  0.50038388, -1.2884606 , ...,  0.26315815,\n",
       "         0.59611265,  1.17147287],\n",
       "       [-2.13655114,  0.50038388,  0.77611997, ..., -1.39723825,\n",
       "         0.59611265,  1.17147287],\n",
       "       [-2.11360738,  0.50038388,  0.77611997, ..., -0.20623603,\n",
       "         0.59611265,  1.17147287],\n",
       "       ...,\n",
       "       [-0.76505075, -1.99846567, -1.2884606 , ...,  1.42468944,\n",
       "         0.59611265, -1.33072239],\n",
       "       [ 1.27223597, -1.99846567, -1.2884606 , ..., -0.62349114,\n",
       "        -1.83293281,  0.0052363 ],\n",
       "       [ 0.68628119,  0.50038388,  0.77611997, ...,  1.33177562,\n",
       "        -1.83293281, -1.33072239]])"
      ]
     },
     "execution_count": 19,
     "metadata": {},
     "output_type": "execute_result"
    }
   ],
   "source": [
    "scaler=StandardScaler()\n",
    "x=scaler.fit_transform(x)\n",
    "x"
   ]
  },
  {
   "cell_type": "markdown",
   "id": "a979790b",
   "metadata": {},
   "source": [
    "## Train test split"
   ]
  },
  {
   "cell_type": "code",
   "execution_count": 20,
   "id": "67e94beb",
   "metadata": {},
   "outputs": [
    {
     "name": "stdout",
     "output_type": "stream",
     "text": [
      "\n",
      "\n",
      "At random state: 447\n",
      "\n",
      "Train Accuracy-  69.9\n",
      "\n",
      "Test Accuracy-  69.9\n",
      "\n",
      "\n",
      " Best accuracy at random state- 447\n"
     ]
    }
   ],
   "source": [
    "from sklearn.linear_model import LogisticRegression\n",
    "from sklearn.metrics import accuracy_score\n",
    "max_ac=0\n",
    "randomState=0\n",
    "lr=LogisticRegression()\n",
    "for i in range(500):\n",
    "    x_train,x_test,y_train,y_test=train_test_split(x,y,random_state=i,test_size=0.20)\n",
    "    lr.fit(x_train,y_train)\n",
    "    pred_train=lr.predict(x_train)\n",
    "    pred_test=lr.predict(x_test)\n",
    "    if round(accuracy_score(y_train,pred_train)*100,1)==round(accuracy_score(y_test,pred_test)*100,1):\n",
    "        print(\"\\n\\nAt random state:\",i)\n",
    "        print(\"\\nTrain Accuracy- \",round(accuracy_score(y_train,pred_train)*100,1))\n",
    "        print(\"\\nTest Accuracy- \",round(accuracy_score(y_test,pred_test)*100,1))\n",
    "        if round(accuracy_score(y_test,pred_test)*100,1)>max_ac:\n",
    "            randomState=i\n",
    "            max_ac=round(accuracy_score(y_test,pred_test)*100,1)\n",
    "print(\"\\n\\n Best accuracy at random state-\",randomState)"
   ]
  },
  {
   "cell_type": "markdown",
   "id": "51fc5a0c",
   "metadata": {},
   "source": [
    "## Logistic Regression"
   ]
  },
  {
   "cell_type": "code",
   "execution_count": 21,
   "id": "90a09e87",
   "metadata": {},
   "outputs": [
    {
     "name": "stdout",
     "output_type": "stream",
     "text": [
      "\n",
      "train accuracy- 70.8\n",
      "\n",
      "test accuracy- 76.1\n"
     ]
    }
   ],
   "source": [
    "x_train,x_test,y_train,y_test=train_test_split(x,y,random_state=200,test_size=0.20)\n",
    "lr.fit(x_train,y_train)\n",
    "pred_train=lr.predict(x_train)\n",
    "pred_test=lr.predict(x_test)\n",
    "train_accuracy=round(accuracy_score(y_train,pred_train)*100,1)\n",
    "test_accuracy=round(accuracy_score(y_test,pred_test)*100,1)\n",
    "print(\"\\ntrain accuracy-\",train_accuracy)\n",
    "print(\"\\ntest accuracy-\",test_accuracy)"
   ]
  },
  {
   "cell_type": "markdown",
   "id": "0020b2da",
   "metadata": {},
   "source": [
    "## Cross Validation Score"
   ]
  },
  {
   "cell_type": "code",
   "execution_count": 22,
   "id": "c36a08cf",
   "metadata": {},
   "outputs": [
    {
     "name": "stdout",
     "output_type": "stream",
     "text": [
      "\n",
      "\n",
      "At cv- 4\n",
      "\n",
      " cross validation score is- 59.10062300782381\n",
      "\n",
      " Accuracy score is- 76.1\n",
      "\n",
      "\n",
      "At cv- 5\n",
      "\n",
      " cross validation score is- 62.28660152995531\n",
      "\n",
      " Accuracy score is- 76.1\n",
      "\n",
      "\n",
      "At cv- 6\n",
      "\n",
      " cross validation score is- 64.50617283950618\n",
      "\n",
      " Accuracy score is- 76.1\n",
      "\n",
      "\n",
      "At cv- 7\n",
      "\n",
      " cross validation score is- 66.72350637867879\n",
      "\n",
      " Accuracy score is- 76.1\n",
      "\n",
      "\n",
      "At cv- 8\n",
      "\n",
      " cross validation score is- 67.32915938652688\n",
      "\n",
      " Accuracy score is- 76.1\n",
      "\n",
      "\n",
      "At cv- 9\n",
      "\n",
      " cross validation score is- 67.21611721611721\n",
      "\n",
      " Accuracy score is- 76.1\n",
      "\n",
      "\n",
      "At cv- 10\n",
      "\n",
      " cross validation score is- 67.57904245709125\n",
      "\n",
      " Accuracy score is- 76.1\n",
      "\n",
      "\n",
      "At cv- 11\n",
      "\n",
      " cross validation score is- 68.7960687960688\n",
      "\n",
      " Accuracy score is- 76.1\n",
      "\n",
      "\n",
      "At cv- 12\n",
      "\n",
      " cross validation score is- 68.80121451565701\n",
      "\n",
      " Accuracy score is- 76.1\n",
      "\n",
      "\n",
      "At cv- 13\n",
      "\n",
      " cross validation score is- 68.56118791602664\n",
      "\n",
      " Accuracy score is- 76.1\n",
      "\n",
      "\n",
      "At cv- 14\n",
      "\n",
      " cross validation score is- 69.303665358604\n",
      "\n",
      " Accuracy score is- 76.1\n",
      "\n",
      "\n",
      "At cv- 15\n",
      "\n",
      " cross validation score is- 68.80583613916949\n",
      "\n",
      " Accuracy score is- 76.1\n",
      "\n",
      "\n",
      "At cv- 16\n",
      "\n",
      " cross validation score is- 69.16911764705883\n",
      "\n",
      " Accuracy score is- 76.1\n",
      "\n",
      "\n",
      "At cv- 17\n",
      "\n",
      " cross validation score is- 69.16979557780559\n",
      "\n",
      " Accuracy score is- 76.1\n",
      "\n",
      "\n",
      "At cv- 18\n",
      "\n",
      " cross validation score is- 69.65915190552872\n",
      "\n",
      " Accuracy score is- 76.1\n",
      "\n",
      "\n",
      "At cv- 19\n",
      "\n",
      " cross validation score is- 69.17001806842687\n",
      "\n",
      " Accuracy score is- 76.1\n"
     ]
    }
   ],
   "source": [
    "for i in range(4,20):\n",
    "    cv_score=cross_val_score(lr,x,y,cv=i)\n",
    "    cv_mean=cv_score.mean()\n",
    "    print(\"\\n\\nAt cv-\",i)\n",
    "    print(\"\\n cross validation score is-\",cv_mean*100)\n",
    "    print(\"\\n Accuracy score is-\",test_accuracy)"
   ]
  },
  {
   "cell_type": "markdown",
   "id": "4b1bf865",
   "metadata": {},
   "source": [
    "So we are getting the least difference between cross_val_score and accuracy score at cv=19"
   ]
  },
  {
   "cell_type": "code",
   "execution_count": 23,
   "id": "4ec9f998",
   "metadata": {},
   "outputs": [
    {
     "name": "stdout",
     "output_type": "stream",
     "text": [
      "cross validation score is- 69.17001806842687\n",
      "accuracy score for linear regression model is- 76.1\n"
     ]
    }
   ],
   "source": [
    "cv_score_best=cross_val_score(lr,x,y,cv=19).mean()*100\n",
    "print(\"cross validation score is-\",cv_score_best)\n",
    "print(\"accuracy score for linear regression model is-\",test_accuracy)"
   ]
  },
  {
   "cell_type": "markdown",
   "id": "5fdf59f7",
   "metadata": {},
   "source": [
    "## Confusion Matrix"
   ]
  },
  {
   "cell_type": "code",
   "execution_count": 24,
   "id": "a58cf40e",
   "metadata": {},
   "outputs": [
    {
     "data": {
      "image/png": "[encoded data removed]",
      "text/plain": [
       "<Figure size 432x288 with 2 Axes>"
      ]
     },
     "metadata": {
      "needs_background": "light"
     },
     "output_type": "display_data"
    }
   ],
   "source": [
    "confusion_matrix = metrics.confusion_matrix(y_test, pred_test)\n",
    "cm = metrics.ConfusionMatrixDisplay(confusion_matrix = confusion_matrix, display_labels = [False, True])\n",
    "cm.plot()\n",
    "plt.show()"
   ]
  },
  {
   "cell_type": "markdown",
   "id": "dcc2bdbd",
   "metadata": {},
   "source": [
    "## AUC-ROC Curve"
   ]
  },
  {
   "cell_type": "code",
   "execution_count": 25,
   "id": "46599fbe",
   "metadata": {},
   "outputs": [
    {
     "data": {
      "image/png": "[encoded data removed]",
      "text/plain": [
       "<Figure size 432x288 with 1 Axes>"
      ]
     },
     "metadata": {
      "needs_background": "light"
     },
     "output_type": "display_data"
    }
   ],
   "source": [
    "fpr,tpr,thresholds=roc_curve(pred_test,y_test)\n",
    "roc_auc=auc(fpr,tpr)\n",
    "\n",
    "plt.figure()\n",
    "plt.plot(fpr,tpr,color='orange',lw=10,label=\"ROC curve (area=%0.2f)\"%roc_auc)\n",
    "plt.plot([0,1],[0,1],color='navy',lw=10,linestyle=\"--\")\n",
    "plt.xlim([0.0,1.0])\n",
    "plt.ylim([0.0,1.05])\n",
    "plt.xlabel(\"false positive rate\")\n",
    "plt.ylabel(\"true positive rate\")\n",
    "plt.title(\"reciever operating characteristics\")\n",
    "plt.legend(loc=\"lower right\")\n",
    "plt.show()"
   ]
  },
  {
   "cell_type": "markdown",
   "id": "7ff54004",
   "metadata": {},
   "source": [
    "## Classification Report"
   ]
  },
  {
   "cell_type": "code",
   "execution_count": 26,
   "id": "c3e18d4c",
   "metadata": {},
   "outputs": [
    {
     "name": "stdout",
     "output_type": "stream",
     "text": [
      "              precision    recall  f1-score   support\n",
      "\n",
      "           0       0.86      0.65      0.74        85\n",
      "           1       0.70      0.88      0.78        78\n",
      "\n",
      "    accuracy                           0.76       163\n",
      "   macro avg       0.78      0.77      0.76       163\n",
      "weighted avg       0.78      0.76      0.76       163\n",
      "\n"
     ]
    }
   ],
   "source": [
    "print(classification_report(y_test, pred_test))"
   ]
  },
  {
   "cell_type": "markdown",
   "id": "8cd3e08e",
   "metadata": {},
   "source": [
    "## Decision Tree"
   ]
  },
  {
   "cell_type": "code",
   "execution_count": 27,
   "id": "a794f668",
   "metadata": {},
   "outputs": [
    {
     "name": "stdout",
     "output_type": "stream",
     "text": [
      "\n",
      " At random state: 0\n",
      "acc train 100.0\n",
      "acc test 83.4\n",
      "\n",
      " At random state: 1\n",
      "acc train 100.0\n",
      "acc test 82.8\n",
      "\n",
      " At random state: 2\n",
      "acc train 100.0\n",
      "acc test 89.0\n",
      "\n",
      " At random state: 3\n",
      "acc train 100.0\n",
      "acc test 85.3\n",
      "\n",
      " At random state: 4\n",
      "acc train 100.0\n",
      "acc test 85.3\n",
      "\n",
      " At random state: 5\n",
      "acc train 100.0\n",
      "acc test 84.0\n",
      "\n",
      " At random state: 6\n",
      "acc train 100.0\n",
      "acc test 80.4\n",
      "\n",
      " At random state: 7\n",
      "acc train 100.0\n",
      "acc test 86.5\n",
      "\n",
      " At random state: 8\n",
      "acc train 100.0\n",
      "acc test 87.7\n",
      "\n",
      " At random state: 9\n",
      "acc train 100.0\n",
      "acc test 81.6\n",
      "\n",
      " At random state: 10\n",
      "acc train 100.0\n",
      "acc test 87.7\n",
      "\n",
      " At random state: 11\n",
      "acc train 100.0\n",
      "acc test 83.4\n",
      "\n",
      " At random state: 12\n",
      "acc train 100.0\n",
      "acc test 85.3\n",
      "\n",
      " At random state: 13\n",
      "acc train 100.0\n",
      "acc test 82.2\n",
      "\n",
      " At random state: 14\n",
      "acc train 100.0\n",
      "acc test 81.6\n",
      "\n",
      " At random state: 15\n",
      "acc train 100.0\n",
      "acc test 87.1\n",
      "\n",
      " At random state: 16\n",
      "acc train 100.0\n",
      "acc test 85.3\n",
      "\n",
      " At random state: 17\n",
      "acc train 100.0\n",
      "acc test 90.2\n",
      "\n",
      " At random state: 18\n",
      "acc train 100.0\n",
      "acc test 84.0\n",
      "\n",
      " At random state: 19\n",
      "acc train 100.0\n",
      "acc test 90.8\n",
      "\n",
      " At random state: 20\n",
      "acc train 100.0\n",
      "acc test 90.2\n",
      "\n",
      " At random state: 21\n",
      "acc train 100.0\n",
      "acc test 87.1\n",
      "\n",
      " At random state: 22\n",
      "acc train 100.0\n",
      "acc test 84.7\n",
      "\n",
      " At random state: 23\n",
      "acc train 100.0\n",
      "acc test 84.7\n",
      "\n",
      " At random state: 24\n",
      "acc train 100.0\n",
      "acc test 87.1\n",
      "\n",
      " At random state: 25\n",
      "acc train 100.0\n",
      "acc test 84.0\n",
      "\n",
      " At random state: 26\n",
      "acc train 100.0\n",
      "acc test 84.7\n",
      "\n",
      " At random state: 27\n",
      "acc train 100.0\n",
      "acc test 85.9\n",
      "\n",
      " At random state: 28\n",
      "acc train 100.0\n",
      "acc test 85.9\n",
      "\n",
      " At random state: 29\n",
      "acc train 100.0\n",
      "acc test 87.7\n",
      "\n",
      " At random state: 30\n",
      "acc train 100.0\n",
      "acc test 87.1\n",
      "\n",
      " At random state: 31\n",
      "acc train 100.0\n",
      "acc test 83.4\n",
      "\n",
      " At random state: 32\n",
      "acc train 100.0\n",
      "acc test 87.1\n",
      "\n",
      " At random state: 33\n",
      "acc train 100.0\n",
      "acc test 83.4\n",
      "\n",
      " At random state: 34\n",
      "acc train 100.0\n",
      "acc test 84.0\n",
      "\n",
      " At random state: 35\n",
      "acc train 100.0\n",
      "acc test 81.0\n",
      "\n",
      " At random state: 36\n",
      "acc train 100.0\n",
      "acc test 82.2\n",
      "\n",
      " At random state: 37\n",
      "acc train 100.0\n",
      "acc test 84.0\n",
      "\n",
      " At random state: 38\n",
      "acc train 100.0\n",
      "acc test 89.0\n",
      "\n",
      " At random state: 39\n",
      "acc train 100.0\n",
      "acc test 87.7\n"
     ]
    }
   ],
   "source": [
    "from sklearn.tree import DecisionTreeClassifier\n",
    "dt=DecisionTreeClassifier()\n",
    "for i in range(40):\n",
    "    x_train,x_test,y_train,y_test=train_test_split(x,y,random_state=i,test_size=0.20)\n",
    "    dt.fit(x_train,y_train)\n",
    "    dt_pred_train=dt.predict(x_train)\n",
    "    dt_pred_test=dt.predict(x_test)\n",
    "    dt_acc_train=round(accuracy_score(y_train,dt_pred_train)*100,1)\n",
    "    dt_acc_test=round(accuracy_score(y_test,dt_pred_test)*100,1)\n",
    "    print(\"\\n At random state:\",i)\n",
    "    print(\"acc train\",dt_acc_train)\n",
    "    print(\"acc test\",dt_acc_test)"
   ]
  },
  {
   "cell_type": "code",
   "execution_count": 28,
   "id": "e8baf244",
   "metadata": {},
   "outputs": [
    {
     "name": "stdout",
     "output_type": "stream",
     "text": [
      "acc train 100.0\n",
      "acc test 90.2\n"
     ]
    }
   ],
   "source": [
    "x_train,x_test,y_train,y_test=train_test_split(x,y,random_state=19,test_size=0.20)\n",
    "dt=DecisionTreeClassifier()\n",
    "dt.fit(x_train,y_train)\n",
    "dt_pred_train=dt.predict(x_train)\n",
    "dt_pred_test=dt.predict(x_test)\n",
    "dt_acc_train=round(accuracy_score(y_train,dt_pred_train)*100,1)\n",
    "dt_acc_test=round(accuracy_score(y_test,dt_pred_test)*100,1)\n",
    "print(\"acc train\",dt_acc_train)\n",
    "print(\"acc test\",dt_acc_test)"
   ]
  },
  {
   "cell_type": "markdown",
   "id": "5052b078",
   "metadata": {},
   "source": [
    "## Cross Validation Score"
   ]
  },
  {
   "cell_type": "code",
   "execution_count": 29,
   "id": "39001edc",
   "metadata": {},
   "outputs": [
    {
     "name": "stdout",
     "output_type": "stream",
     "text": [
      "\n",
      "\n",
      "At cv- 30\n",
      "\n",
      " cross validation score is- 84.17989417989418\n",
      "\n",
      " Accuracy score is- 90.2\n",
      "\n",
      "\n",
      "At cv- 31\n",
      "\n",
      " cross validation score is- 82.96572006249424\n",
      "\n",
      " Accuracy score is- 90.2\n",
      "\n",
      "\n",
      "At cv- 32\n",
      "\n",
      " cross validation score is- 84.8173076923077\n",
      "\n",
      " Accuracy score is- 90.2\n",
      "\n",
      "\n",
      "At cv- 33\n",
      "\n",
      " cross validation score is- 84.79797979797979\n",
      "\n",
      " Accuracy score is- 90.2\n",
      "\n",
      "\n",
      "At cv- 34\n",
      "\n",
      " cross validation score is- 84.53751065643648\n",
      "\n",
      " Accuracy score is- 90.2\n",
      "\n",
      "\n",
      "At cv- 35\n",
      "\n",
      " cross validation score is- 84.5703933747412\n",
      "\n",
      " Accuracy score is- 90.2\n",
      "\n",
      "\n",
      "At cv- 36\n",
      "\n",
      " cross validation score is- 82.6086956521739\n",
      "\n",
      " Accuracy score is- 90.2\n",
      "\n",
      "\n",
      "At cv- 37\n",
      "\n",
      " cross validation score is- 84.88943488943488\n",
      "\n",
      " Accuracy score is- 90.2\n",
      "\n",
      "\n",
      "At cv- 38\n",
      "\n",
      " cross validation score is- 84.48393711551606\n",
      "\n",
      " Accuracy score is- 90.2\n",
      "\n",
      "\n",
      "At cv- 39\n",
      "\n",
      " cross validation score is- 84.65811965811966\n",
      "\n",
      " Accuracy score is- 90.2\n",
      "\n",
      "\n",
      "At cv- 40\n",
      "\n",
      " cross validation score is- 84.97619047619047\n",
      "\n",
      " Accuracy score is- 90.2\n",
      "\n",
      "\n",
      "At cv- 41\n",
      "\n",
      " cross validation score is- 85.2374839537869\n",
      "\n",
      " Accuracy score is- 90.2\n",
      "\n",
      "\n",
      "At cv- 42\n",
      "\n",
      " cross validation score is- 84.72431077694235\n",
      "\n",
      " Accuracy score is- 90.2\n",
      "\n",
      "\n",
      "At cv- 43\n",
      "\n",
      " cross validation score is- 85.38011695906432\n",
      "\n",
      " Accuracy score is- 90.2\n",
      "\n",
      "\n",
      "At cv- 44\n",
      "\n",
      " cross validation score is- 83.27352472089314\n",
      "\n",
      " Accuracy score is- 90.2\n",
      "\n",
      "\n",
      "At cv- 45\n",
      "\n",
      " cross validation score is- 83.94411955815465\n",
      "\n",
      " Accuracy score is- 90.2\n",
      "\n",
      "\n",
      "At cv- 46\n",
      "\n",
      " cross validation score is- 85.70616652458082\n",
      "\n",
      " Accuracy score is- 90.2\n",
      "\n",
      "\n",
      "At cv- 47\n",
      "\n",
      " cross validation score is- 85.11333611458767\n",
      "\n",
      " Accuracy score is- 90.2\n",
      "\n",
      "\n",
      "At cv- 48\n",
      "\n",
      " cross validation score is- 84.42095588235293\n",
      "\n",
      " Accuracy score is- 90.2\n",
      "\n",
      "\n",
      "At cv- 49\n",
      "\n",
      " cross validation score is- 85.80432172869148\n",
      "\n",
      " Accuracy score is- 90.2\n",
      "\n",
      "\n",
      "At cv- 50\n",
      "\n",
      " cross validation score is- 84.49264705882354\n",
      "\n",
      " Accuracy score is- 90.2\n",
      "\n",
      "\n",
      "At cv- 51\n",
      "\n",
      " cross validation score is- 85.76797385620914\n",
      "\n",
      " Accuracy score is- 90.2\n",
      "\n",
      "\n",
      "At cv- 52\n",
      "\n",
      " cross validation score is- 85.96153846153845\n",
      "\n",
      " Accuracy score is- 90.2\n",
      "\n",
      "\n",
      "At cv- 53\n",
      "\n",
      " cross validation score is- 86.69811320754717\n",
      "\n",
      " Accuracy score is- 90.2\n",
      "\n",
      "\n",
      "At cv- 54\n",
      "\n",
      " cross validation score is- 86.13425925925924\n",
      "\n",
      " Accuracy score is- 90.2\n",
      "\n",
      "\n",
      "At cv- 55\n",
      "\n",
      " cross validation score is- 84.83116883116882\n",
      "\n",
      " Accuracy score is- 90.2\n",
      "\n",
      "\n",
      "At cv- 56\n",
      "\n",
      " cross validation score is- 85.19557823129252\n",
      "\n",
      " Accuracy score is- 90.2\n",
      "\n",
      "\n",
      "At cv- 57\n",
      "\n",
      " cross validation score is- 85.55555555555554\n",
      "\n",
      " Accuracy score is- 90.2\n",
      "\n",
      "\n",
      "At cv- 58\n",
      "\n",
      " cross validation score is- 85.0574712643678\n",
      "\n",
      " Accuracy score is- 90.2\n",
      "\n",
      "\n",
      "At cv- 59\n",
      "\n",
      " cross validation score is- 85.57459489662878\n",
      "\n",
      " Accuracy score is- 90.2\n"
     ]
    }
   ],
   "source": [
    "for i in range(30,60):\n",
    "    cv_score=cross_val_score(dt,x,y,cv=i)\n",
    "    cv_mean=cv_score.mean()\n",
    "    print(\"\\n\\nAt cv-\",i)\n",
    "    print(\"\\n cross validation score is-\",cv_mean*100)\n",
    "    print(\"\\n Accuracy score is-\",dt_acc_test)"
   ]
  },
  {
   "cell_type": "markdown",
   "id": "c7f467dc",
   "metadata": {},
   "source": [
    "So we are getting the least difference between cross_val_score and accuracy score at cv=53"
   ]
  },
  {
   "cell_type": "code",
   "execution_count": 30,
   "id": "309d6a54",
   "metadata": {},
   "outputs": [
    {
     "name": "stdout",
     "output_type": "stream",
     "text": [
      "cross validation score is- 86.59591194968552\n",
      "accuracy score for decision tree classifier model is- 90.2\n"
     ]
    }
   ],
   "source": [
    "cv_score_best_dt=cross_val_score(dt,x,y,cv=53).mean()*100\n",
    "print(\"cross validation score is-\",cv_score_best_dt)\n",
    "print(\"accuracy score for decision tree classifier model is-\",dt_acc_test)"
   ]
  },
  {
   "cell_type": "markdown",
   "id": "346316c0",
   "metadata": {},
   "source": [
    "## Confusion Matrix"
   ]
  },
  {
   "cell_type": "code",
   "execution_count": 31,
   "id": "ecfc818d",
   "metadata": {},
   "outputs": [
    {
     "data": {
      "image/png": "[encoded data removed]",
      "text/plain": [
       "<Figure size 432x288 with 2 Axes>"
      ]
     },
     "metadata": {
      "needs_background": "light"
     },
     "output_type": "display_data"
    }
   ],
   "source": [
    "confusion_matrix = metrics.confusion_matrix(y_test, dt_pred_test)\n",
    "cm = metrics.ConfusionMatrixDisplay(confusion_matrix = confusion_matrix, display_labels = [False, True])\n",
    "cm.plot()\n",
    "plt.show()"
   ]
  },
  {
   "cell_type": "markdown",
   "id": "3275cbec",
   "metadata": {},
   "source": [
    "## AUC-ROC Curve"
   ]
  },
  {
   "cell_type": "code",
   "execution_count": 33,
   "id": "804579e7",
   "metadata": {},
   "outputs": [
    {
     "data": {
      "image/png": "[encoded data removed]",
      "text/plain": [
       "<Figure size 432x288 with 1 Axes>"
      ]
     },
     "metadata": {
      "needs_background": "light"
     },
     "output_type": "display_data"
    }
   ],
   "source": [
    "fpr,tpr,thresholds=roc_curve(dt_pred_test,y_test)\n",
    "roc_auc=auc(fpr,tpr)\n",
    "\n",
    "plt.figure()\n",
    "plt.plot(fpr,tpr,color='orange',lw=10,label=\"ROC curve (area=%0.2f)\"%roc_auc)\n",
    "plt.plot([0,1],[0,1],color='navy',lw=10,linestyle=\"--\")\n",
    "plt.xlim([0.0,1.0])\n",
    "plt.ylim([0.0,1.05])\n",
    "plt.xlabel(\"false positive rate\")\n",
    "plt.ylabel(\"true positive rate\")\n",
    "plt.title(\"reciever operating characteristics\")\n",
    "plt.legend(loc=\"lower right\")\n",
    "plt.show()"
   ]
  },
  {
   "cell_type": "markdown",
   "id": "3facf877",
   "metadata": {},
   "source": [
    "## Classification Report"
   ]
  },
  {
   "cell_type": "code",
   "execution_count": 34,
   "id": "0ac70ea2",
   "metadata": {},
   "outputs": [
    {
     "name": "stdout",
     "output_type": "stream",
     "text": [
      "              precision    recall  f1-score   support\n",
      "\n",
      "           0       0.88      0.97      0.92        96\n",
      "           1       0.95      0.81      0.87        67\n",
      "\n",
      "    accuracy                           0.90       163\n",
      "   macro avg       0.91      0.89      0.90       163\n",
      "weighted avg       0.91      0.90      0.90       163\n",
      "\n"
     ]
    }
   ],
   "source": [
    "print(classification_report(y_test, dt_pred_test))"
   ]
  },
  {
   "cell_type": "markdown",
   "id": "c085840e",
   "metadata": {},
   "source": [
    "## Random Forest Classifier"
   ]
  },
  {
   "cell_type": "code",
   "execution_count": 35,
   "id": "b141cbe1",
   "metadata": {},
   "outputs": [
    {
     "name": "stdout",
     "output_type": "stream",
     "text": [
      "\n",
      "\n",
      "At random state: 0\n",
      "\n",
      "Train Accuracy-  100.0\n",
      "\n",
      "Test Accuracy-  93.1\n",
      "\n",
      "\n",
      "At random state: 1\n",
      "\n",
      "Train Accuracy-  100.0\n",
      "\n",
      "Test Accuracy-  88.2\n",
      "\n",
      "\n",
      "At random state: 2\n",
      "\n",
      "Train Accuracy-  100.0\n",
      "\n",
      "Test Accuracy-  93.1\n",
      "\n",
      "\n",
      "At random state: 3\n",
      "\n",
      "Train Accuracy-  100.0\n",
      "\n",
      "Test Accuracy-  91.2\n",
      "\n",
      "\n",
      "At random state: 4\n",
      "\n",
      "Train Accuracy-  100.0\n",
      "\n",
      "Test Accuracy-  92.2\n",
      "\n",
      "\n",
      "At random state: 5\n",
      "\n",
      "Train Accuracy-  100.0\n",
      "\n",
      "Test Accuracy-  91.7\n",
      "\n",
      "\n",
      "At random state: 6\n",
      "\n",
      "Train Accuracy-  100.0\n",
      "\n",
      "Test Accuracy-  90.7\n",
      "\n",
      "\n",
      "At random state: 7\n",
      "\n",
      "Train Accuracy-  100.0\n",
      "\n",
      "Test Accuracy-  91.7\n",
      "\n",
      "\n",
      "At random state: 8\n",
      "\n",
      "Train Accuracy-  100.0\n",
      "\n",
      "Test Accuracy-  90.2\n",
      "\n",
      "\n",
      "At random state: 9\n",
      "\n",
      "Train Accuracy-  100.0\n",
      "\n",
      "Test Accuracy-  92.2\n",
      "\n",
      "\n",
      "At random state: 10\n",
      "\n",
      "Train Accuracy-  100.0\n",
      "\n",
      "Test Accuracy-  92.2\n",
      "\n",
      "\n",
      "At random state: 11\n",
      "\n",
      "Train Accuracy-  100.0\n",
      "\n",
      "Test Accuracy-  87.7\n",
      "\n",
      "\n",
      "At random state: 12\n",
      "\n",
      "Train Accuracy-  100.0\n",
      "\n",
      "Test Accuracy-  88.2\n",
      "\n",
      "\n",
      "At random state: 13\n",
      "\n",
      "Train Accuracy-  100.0\n",
      "\n",
      "Test Accuracy-  88.7\n",
      "\n",
      "\n",
      "At random state: 14\n",
      "\n",
      "Train Accuracy-  100.0\n",
      "\n",
      "Test Accuracy-  89.7\n",
      "\n",
      "\n",
      "At random state: 15\n",
      "\n",
      "Train Accuracy-  100.0\n",
      "\n",
      "Test Accuracy-  90.7\n",
      "\n",
      "\n",
      "At random state: 16\n",
      "\n",
      "Train Accuracy-  100.0\n",
      "\n",
      "Test Accuracy-  91.2\n",
      "\n",
      "\n",
      "At random state: 17\n",
      "\n",
      "Train Accuracy-  100.0\n",
      "\n",
      "Test Accuracy-  91.2\n",
      "\n",
      "\n",
      "At random state: 18\n",
      "\n",
      "Train Accuracy-  100.0\n",
      "\n",
      "Test Accuracy-  89.7\n",
      "\n",
      "\n",
      "At random state: 19\n",
      "\n",
      "Train Accuracy-  100.0\n",
      "\n",
      "Test Accuracy-  92.2\n",
      "\n",
      "\n",
      "At random state: 20\n",
      "\n",
      "Train Accuracy-  100.0\n",
      "\n",
      "Test Accuracy-  96.1\n",
      "\n",
      "\n",
      "At random state: 21\n",
      "\n",
      "Train Accuracy-  100.0\n",
      "\n",
      "Test Accuracy-  91.7\n",
      "\n",
      "\n",
      "At random state: 22\n",
      "\n",
      "Train Accuracy-  100.0\n",
      "\n",
      "Test Accuracy-  92.2\n",
      "\n",
      "\n",
      "At random state: 23\n",
      "\n",
      "Train Accuracy-  100.0\n",
      "\n",
      "Test Accuracy-  90.2\n",
      "\n",
      "\n",
      "At random state: 24\n",
      "\n",
      "Train Accuracy-  100.0\n",
      "\n",
      "Test Accuracy-  92.2\n",
      "\n",
      "\n",
      "At random state: 25\n",
      "\n",
      "Train Accuracy-  100.0\n",
      "\n",
      "Test Accuracy-  92.6\n",
      "\n",
      "\n",
      "At random state: 26\n",
      "\n",
      "Train Accuracy-  100.0\n",
      "\n",
      "Test Accuracy-  85.8\n",
      "\n",
      "\n",
      "At random state: 27\n",
      "\n",
      "Train Accuracy-  100.0\n",
      "\n",
      "Test Accuracy-  91.7\n",
      "\n",
      "\n",
      "At random state: 28\n",
      "\n",
      "Train Accuracy-  100.0\n",
      "\n",
      "Test Accuracy-  89.7\n",
      "\n",
      "\n",
      "At random state: 29\n",
      "\n",
      "Train Accuracy-  100.0\n",
      "\n",
      "Test Accuracy-  90.2\n",
      "\n",
      "\n",
      "At random state: 30\n",
      "\n",
      "Train Accuracy-  100.0\n",
      "\n",
      "Test Accuracy-  90.7\n",
      "\n",
      "\n",
      "At random state: 31\n",
      "\n",
      "Train Accuracy-  100.0\n",
      "\n",
      "Test Accuracy-  84.8\n",
      "\n",
      "\n",
      "At random state: 32\n",
      "\n",
      "Train Accuracy-  100.0\n",
      "\n",
      "Test Accuracy-  90.2\n",
      "\n",
      "\n",
      "At random state: 33\n",
      "\n",
      "Train Accuracy-  100.0\n",
      "\n",
      "Test Accuracy-  88.7\n",
      "\n",
      "\n",
      "At random state: 34\n",
      "\n",
      "Train Accuracy-  100.0\n",
      "\n",
      "Test Accuracy-  92.6\n",
      "\n",
      "\n",
      "At random state: 35\n",
      "\n",
      "Train Accuracy-  100.0\n",
      "\n",
      "Test Accuracy-  90.7\n",
      "\n",
      "\n",
      "At random state: 36\n",
      "\n",
      "Train Accuracy-  100.0\n",
      "\n",
      "Test Accuracy-  91.2\n",
      "\n",
      "\n",
      "At random state: 37\n",
      "\n",
      "Train Accuracy-  100.0\n",
      "\n",
      "Test Accuracy-  91.7\n",
      "\n",
      "\n",
      "At random state: 38\n",
      "\n",
      "Train Accuracy-  100.0\n",
      "\n",
      "Test Accuracy-  93.1\n",
      "\n",
      "\n",
      "At random state: 39\n",
      "\n",
      "Train Accuracy-  100.0\n",
      "\n",
      "Test Accuracy-  92.2\n",
      "\n",
      "\n",
      " Best accuracy at random state- 0\n"
     ]
    }
   ],
   "source": [
    "from sklearn.ensemble import RandomForestClassifier\n",
    "rf=RandomForestClassifier()\n",
    "max_ac=0\n",
    "randomState=0\n",
    "\n",
    "for i in range(40):\n",
    "    x_train,x_test,y_train,y_test=train_test_split(x,y,random_state=i,test_size=0.25)\n",
    "    rf.fit(x_train,y_train)\n",
    "    pred_train=rf.predict(x_train)\n",
    "    pred_test=rf.predict(x_test)\n",
    "    \n",
    "    print(\"\\n\\nAt random state:\",i)\n",
    "    print(\"\\nTrain Accuracy- \",round(accuracy_score(y_train,pred_train)*100,1))\n",
    "    print(\"\\nTest Accuracy- \",round(accuracy_score(y_test,pred_test)*100,1))\n",
    "        \n",
    "print(\"\\n\\n Best accuracy at random state-\",randomState)"
   ]
  },
  {
   "cell_type": "code",
   "execution_count": 36,
   "id": "12a23a77",
   "metadata": {},
   "outputs": [
    {
     "name": "stdout",
     "output_type": "stream",
     "text": [
      "\n",
      "Train Accuracy-  100.0\n",
      "\n",
      "Test Accuracy-  93.3\n"
     ]
    }
   ],
   "source": [
    "x_train,x_test,y_train,y_test=train_test_split(x,y,random_state=0,test_size=0.20)\n",
    "rf=RandomForestClassifier()\n",
    "rf.fit(x_train,y_train)\n",
    "pred_train=rf.predict(x_train)\n",
    "pred_test=rf.predict(x_test)\n",
    "rf_train_acc=round(accuracy_score(y_train,pred_train)*100,1)\n",
    "rf_test_acc=round(accuracy_score(y_test,pred_test)*100,1)\n",
    "print(\"\\nTrain Accuracy- \",rf_train_acc)\n",
    "print(\"\\nTest Accuracy- \",rf_test_acc)"
   ]
  },
  {
   "cell_type": "markdown",
   "id": "237cc596",
   "metadata": {},
   "source": [
    "## Cross Validation Score"
   ]
  },
  {
   "cell_type": "code",
   "execution_count": 37,
   "id": "ebee7497",
   "metadata": {},
   "outputs": [
    {
     "name": "stdout",
     "output_type": "stream",
     "text": [
      "\n",
      "\n",
      "At cv- 15\n",
      "\n",
      " cross validation score is- 82.71829405162738\n",
      "\n",
      " Accuracy score is- 93.3\n",
      "\n",
      "\n",
      "At cv- 16\n",
      "\n",
      " cross validation score is- 81.7892156862745\n",
      "\n",
      " Accuracy score is- 93.3\n",
      "\n",
      "\n",
      "At cv- 17\n",
      "\n",
      " cross validation score is- 83.63579474342929\n",
      "\n",
      " Accuracy score is- 93.3\n",
      "\n",
      "\n",
      "At cv- 18\n",
      "\n",
      " cross validation score is- 84.44981213097155\n",
      "\n",
      " Accuracy score is- 93.3\n",
      "\n",
      "\n",
      "At cv- 19\n",
      "\n",
      " cross validation score is- 85.23926094305531\n",
      "\n",
      " Accuracy score is- 93.3\n",
      "\n",
      "\n",
      "At cv- 20\n",
      "\n",
      " cross validation score is- 85.02134146341461\n",
      "\n",
      " Accuracy score is- 93.3\n",
      "\n",
      "\n",
      "At cv- 21\n",
      "\n",
      " cross validation score is- 86.86459739091316\n",
      "\n",
      " Accuracy score is- 93.3\n",
      "\n",
      "\n",
      "At cv- 22\n",
      "\n",
      " cross validation score is- 86.97788697788698\n",
      "\n",
      " Accuracy score is- 93.3\n",
      "\n",
      "\n",
      "At cv- 23\n",
      "\n",
      " cross validation score is- 88.50586611456177\n",
      "\n",
      " Accuracy score is- 93.3\n",
      "\n",
      "\n",
      "At cv- 24\n",
      "\n",
      " cross validation score is- 88.31699346405229\n",
      "\n",
      " Accuracy score is- 93.3\n",
      "\n",
      "\n",
      "At cv- 25\n",
      "\n",
      " cross validation score is- 88.74242424242425\n",
      "\n",
      " Accuracy score is- 93.3\n",
      "\n",
      "\n",
      "At cv- 26\n",
      "\n",
      " cross validation score is- 89.00821960297766\n",
      "\n",
      " Accuracy score is- 93.3\n",
      "\n",
      "\n",
      "At cv- 27\n",
      "\n",
      " cross validation score is- 89.35882118677819\n",
      "\n",
      " Accuracy score is- 93.3\n",
      "\n",
      "\n",
      "At cv- 28\n",
      "\n",
      " cross validation score is- 89.70443349753695\n",
      "\n",
      " Accuracy score is- 93.3\n",
      "\n",
      "\n",
      "At cv- 29\n",
      "\n",
      " cross validation score is- 90.57669441141498\n",
      "\n",
      " Accuracy score is- 93.3\n"
     ]
    }
   ],
   "source": [
    "for i in range(15,30):\n",
    "    cv_score=cross_val_score(rf,x,y,cv=i)\n",
    "    cv_mean=cv_score.mean()\n",
    "    print(\"\\n\\nAt cv-\",i)\n",
    "    print(\"\\n cross validation score is-\",cv_mean*100)\n",
    "    print(\"\\n Accuracy score is-\",rf_test_acc)"
   ]
  },
  {
   "cell_type": "markdown",
   "id": "59df79c1",
   "metadata": {},
   "source": [
    "So we are getting the least difference between cross_val_score and accuracy score at cv=29"
   ]
  },
  {
   "cell_type": "code",
   "execution_count": 38,
   "id": "5b635561",
   "metadata": {},
   "outputs": [
    {
     "name": "stdout",
     "output_type": "stream",
     "text": [
      "cross validation score is- 90.0755902836759\n",
      "accuracy score for random forest classifier model is- 93.3\n"
     ]
    }
   ],
   "source": [
    "cv_score_best_rf=cross_val_score(rf,x,y,cv=29).mean()*100\n",
    "print(\"cross validation score is-\",cv_score_best_rf)\n",
    "print(\"accuracy score for random forest classifier model is-\",rf_test_acc)"
   ]
  },
  {
   "cell_type": "markdown",
   "id": "c18dc00e",
   "metadata": {},
   "source": [
    "## Confusion Matrix"
   ]
  },
  {
   "cell_type": "code",
   "execution_count": 39,
   "id": "ad6311bc",
   "metadata": {},
   "outputs": [
    {
     "data": {
      "image/png": "[encoded data removed]",
      "text/plain": [
       "<Figure size 432x288 with 2 Axes>"
      ]
     },
     "metadata": {
      "needs_background": "light"
     },
     "output_type": "display_data"
    }
   ],
   "source": [
    "confusion_matrix = metrics.confusion_matrix(y_test, pred_test)\n",
    "cm = metrics.ConfusionMatrixDisplay(confusion_matrix = confusion_matrix, display_labels = [False, True])\n",
    "cm.plot()\n",
    "plt.show()"
   ]
  },
  {
   "cell_type": "markdown",
   "id": "9c3a3abc",
   "metadata": {},
   "source": [
    "## AUC-ROC Curve"
   ]
  },
  {
   "cell_type": "code",
   "execution_count": 40,
   "id": "e3996f49",
   "metadata": {},
   "outputs": [
    {
     "data": {
      "image/png": "[encoded data removed]",
      "text/plain": [
       "<Figure size 432x288 with 1 Axes>"
      ]
     },
     "metadata": {
      "needs_background": "light"
     },
     "output_type": "display_data"
    }
   ],
   "source": [
    "fpr,tpr,thresholds=roc_curve(pred_test,y_test)\n",
    "roc_auc=auc(fpr,tpr)\n",
    "\n",
    "plt.figure()\n",
    "plt.plot(fpr,tpr,color='orange',lw=10,label=\"ROC curve (area=%0.2f)\"%roc_auc)\n",
    "plt.plot([0,1],[0,1],color='navy',lw=10,linestyle=\"--\")\n",
    "plt.xlim([0.0,1.0])\n",
    "plt.ylim([0.0,1.05])\n",
    "plt.xlabel(\"false positive rate\")\n",
    "plt.ylabel(\"true positive rate\")\n",
    "plt.title(\"reciever operating characteristics\")\n",
    "plt.legend(loc=\"lower right\")\n",
    "plt.show()"
   ]
  },
  {
   "cell_type": "markdown",
   "id": "339dcf16",
   "metadata": {},
   "source": [
    "## Classification Report"
   ]
  },
  {
   "cell_type": "code",
   "execution_count": 41,
   "id": "56429018",
   "metadata": {},
   "outputs": [
    {
     "name": "stdout",
     "output_type": "stream",
     "text": [
      "              precision    recall  f1-score   support\n",
      "\n",
      "           0       0.95      0.92      0.94        89\n",
      "           1       0.91      0.95      0.93        74\n",
      "\n",
      "    accuracy                           0.93       163\n",
      "   macro avg       0.93      0.93      0.93       163\n",
      "weighted avg       0.93      0.93      0.93       163\n",
      "\n"
     ]
    }
   ],
   "source": [
    "print(classification_report(y_test, pred_test))"
   ]
  },
  {
   "cell_type": "markdown",
   "id": "4a4e7e9c",
   "metadata": {},
   "source": [
    "## Knn Classifier"
   ]
  },
  {
   "cell_type": "code",
   "execution_count": 42,
   "id": "6c6faaa7",
   "metadata": {},
   "outputs": [
    {
     "name": "stdout",
     "output_type": "stream",
     "text": [
      "\n",
      "\n",
      "At random state: 0\n",
      "\n",
      "Train Accuracy-  83.4\n",
      "\n",
      "Test Accuracy-  82.4\n",
      "\n",
      "\n",
      "At random state: 1\n",
      "\n",
      "Train Accuracy-  83.6\n",
      "\n",
      "Test Accuracy-  71.1\n",
      "\n",
      "\n",
      "At random state: 2\n",
      "\n",
      "Train Accuracy-  82.6\n",
      "\n",
      "Test Accuracy-  75.5\n",
      "\n",
      "\n",
      "At random state: 3\n",
      "\n",
      "Train Accuracy-  85.4\n",
      "\n",
      "Test Accuracy-  74.5\n",
      "\n",
      "\n",
      "At random state: 4\n",
      "\n",
      "Train Accuracy-  83.9\n",
      "\n",
      "Test Accuracy-  74.5\n",
      "\n",
      "\n",
      "At random state: 5\n",
      "\n",
      "Train Accuracy-  84.1\n",
      "\n",
      "Test Accuracy-  76.5\n",
      "\n",
      "\n",
      "At random state: 6\n",
      "\n",
      "Train Accuracy-  84.1\n",
      "\n",
      "Test Accuracy-  69.6\n",
      "\n",
      "\n",
      "At random state: 7\n",
      "\n",
      "Train Accuracy-  81.8\n",
      "\n",
      "Test Accuracy-  78.4\n",
      "\n",
      "\n",
      "At random state: 8\n",
      "\n",
      "Train Accuracy-  83.1\n",
      "\n",
      "Test Accuracy-  73.0\n",
      "\n",
      "\n",
      "At random state: 9\n",
      "\n",
      "Train Accuracy-  82.6\n",
      "\n",
      "Test Accuracy-  75.5\n",
      "\n",
      "\n",
      "At random state: 10\n",
      "\n",
      "Train Accuracy-  86.2\n",
      "\n",
      "Test Accuracy-  71.1\n",
      "\n",
      "\n",
      "At random state: 11\n",
      "\n",
      "Train Accuracy-  86.2\n",
      "\n",
      "Test Accuracy-  74.5\n",
      "\n",
      "\n",
      "At random state: 12\n",
      "\n",
      "Train Accuracy-  82.5\n",
      "\n",
      "Test Accuracy-  73.0\n",
      "\n",
      "\n",
      "At random state: 13\n",
      "\n",
      "Train Accuracy-  84.3\n",
      "\n",
      "Test Accuracy-  75.5\n",
      "\n",
      "\n",
      "At random state: 14\n",
      "\n",
      "Train Accuracy-  83.4\n",
      "\n",
      "Test Accuracy-  74.0\n",
      "\n",
      "\n",
      "At random state: 15\n",
      "\n",
      "Train Accuracy-  83.4\n",
      "\n",
      "Test Accuracy-  73.5\n",
      "\n",
      "\n",
      "At random state: 16\n",
      "\n",
      "Train Accuracy-  83.9\n",
      "\n",
      "Test Accuracy-  77.0\n",
      "\n",
      "\n",
      "At random state: 17\n",
      "\n",
      "Train Accuracy-  83.6\n",
      "\n",
      "Test Accuracy-  76.0\n",
      "\n",
      "\n",
      "At random state: 18\n",
      "\n",
      "Train Accuracy-  83.9\n",
      "\n",
      "Test Accuracy-  75.5\n",
      "\n",
      "\n",
      "At random state: 19\n",
      "\n",
      "Train Accuracy-  83.6\n",
      "\n",
      "Test Accuracy-  76.0\n",
      "\n",
      "\n",
      "At random state: 20\n",
      "\n",
      "Train Accuracy-  83.9\n",
      "\n",
      "Test Accuracy-  78.4\n",
      "\n",
      "\n",
      "At random state: 21\n",
      "\n",
      "Train Accuracy-  83.1\n",
      "\n",
      "Test Accuracy-  75.5\n",
      "\n",
      "\n",
      "At random state: 22\n",
      "\n",
      "Train Accuracy-  83.4\n",
      "\n",
      "Test Accuracy-  79.4\n",
      "\n",
      "\n",
      "At random state: 23\n",
      "\n",
      "Train Accuracy-  82.5\n",
      "\n",
      "Test Accuracy-  75.5\n",
      "\n",
      "\n",
      "At random state: 24\n",
      "\n",
      "Train Accuracy-  84.1\n",
      "\n",
      "Test Accuracy-  72.1\n",
      "\n",
      "\n",
      "At random state: 25\n",
      "\n",
      "Train Accuracy-  82.8\n",
      "\n",
      "Test Accuracy-  73.0\n",
      "\n",
      "\n",
      "At random state: 26\n",
      "\n",
      "Train Accuracy-  84.3\n",
      "\n",
      "Test Accuracy-  69.6\n",
      "\n",
      "\n",
      "At random state: 27\n",
      "\n",
      "Train Accuracy-  85.2\n",
      "\n",
      "Test Accuracy-  74.0\n",
      "\n",
      "\n",
      "At random state: 28\n",
      "\n",
      "Train Accuracy-  84.9\n",
      "\n",
      "Test Accuracy-  64.2\n",
      "\n",
      "\n",
      "At random state: 29\n",
      "\n",
      "Train Accuracy-  83.6\n",
      "\n",
      "Test Accuracy-  76.0\n",
      "\n",
      "\n",
      "At random state: 30\n",
      "\n",
      "Train Accuracy-  83.9\n",
      "\n",
      "Test Accuracy-  71.6\n",
      "\n",
      "\n",
      "At random state: 31\n",
      "\n",
      "Train Accuracy-  83.8\n",
      "\n",
      "Test Accuracy-  72.5\n",
      "\n",
      "\n",
      "At random state: 32\n",
      "\n",
      "Train Accuracy-  82.5\n",
      "\n",
      "Test Accuracy-  68.6\n",
      "\n",
      "\n",
      "At random state: 33\n",
      "\n",
      "Train Accuracy-  84.4\n",
      "\n",
      "Test Accuracy-  72.5\n",
      "\n",
      "\n",
      "At random state: 34\n",
      "\n",
      "Train Accuracy-  82.3\n",
      "\n",
      "Test Accuracy-  77.5\n",
      "\n",
      "\n",
      "At random state: 35\n",
      "\n",
      "Train Accuracy-  83.0\n",
      "\n",
      "Test Accuracy-  77.0\n",
      "\n",
      "\n",
      "At random state: 36\n",
      "\n",
      "Train Accuracy-  83.0\n",
      "\n",
      "Test Accuracy-  77.5\n",
      "\n",
      "\n",
      "At random state: 37\n",
      "\n",
      "Train Accuracy-  84.3\n",
      "\n",
      "Test Accuracy-  73.5\n",
      "\n",
      "\n",
      "At random state: 38\n",
      "\n",
      "Train Accuracy-  81.6\n",
      "\n",
      "Test Accuracy-  81.9\n",
      "\n",
      "\n",
      "At random state: 39\n",
      "\n",
      "Train Accuracy-  84.8\n",
      "\n",
      "Test Accuracy-  72.1\n",
      "\n",
      "\n",
      " Best accuracy at random state- 0\n"
     ]
    }
   ],
   "source": [
    "from sklearn.neighbors import KNeighborsClassifier\n",
    "max_ac=0\n",
    "randomState=0\n",
    "knn=KNeighborsClassifier()\n",
    "for i in range(40):\n",
    "    x_train,x_test,y_train,y_test=train_test_split(x,y,random_state=i,test_size=0.25)\n",
    "    knn.fit(x_train,y_train)\n",
    "    pred_train=knn.predict(x_train)\n",
    "    pred_test=knn.predict(x_test)\n",
    "    \n",
    "    print(\"\\n\\nAt random state:\",i)\n",
    "    print(\"\\nTrain Accuracy- \",round(accuracy_score(y_train,pred_train)*100,1))\n",
    "    print(\"\\nTest Accuracy- \",round(accuracy_score(y_test,pred_test)*100,1))\n",
    "        \n",
    "print(\"\\n\\n Best accuracy at random state-\",randomState)"
   ]
  },
  {
   "cell_type": "code",
   "execution_count": 49,
   "id": "bc2cd715",
   "metadata": {},
   "outputs": [
    {
     "name": "stdout",
     "output_type": "stream",
     "text": [
      "\n",
      "Train Accuracy-  84.8\n",
      "\n",
      "Test Accuracy-  79.1\n"
     ]
    }
   ],
   "source": [
    "knn=KNeighborsClassifier()\n",
    "x_train,x_test,y_train,y_test=train_test_split(x,y,random_state=0,test_size=0.20)\n",
    "knn.fit(x_train,y_train)\n",
    "pred_train=knn.predict(x_train)\n",
    "pred_test=knn.predict(x_test)\n",
    "knn_train_acc=round(accuracy_score(y_train,pred_train)*100,1)\n",
    "knn_test_acc=round(accuracy_score(y_test,pred_test)*100,1)\n",
    "print(\"\\nTrain Accuracy- \",knn_train_acc)\n",
    "print(\"\\nTest Accuracy- \",knn_test_acc)"
   ]
  },
  {
   "cell_type": "markdown",
   "id": "ae0035f7",
   "metadata": {},
   "source": [
    "## Cross Validation score"
   ]
  },
  {
   "cell_type": "code",
   "execution_count": 50,
   "id": "e1b9c6fa",
   "metadata": {},
   "outputs": [
    {
     "name": "stdout",
     "output_type": "stream",
     "text": [
      "\n",
      "\n",
      "At cv- 4\n",
      "\n",
      " cross validation score is- 70.27069448469042\n",
      "\n",
      " Accuracy score is- 79.1\n",
      "\n",
      "\n",
      "At cv- 5\n",
      "\n",
      " cross validation score is- 73.45451791259562\n",
      "\n",
      " Accuracy score is- 79.1\n",
      "\n",
      "\n",
      "At cv- 6\n",
      "\n",
      " cross validation score is- 73.70098039215685\n",
      "\n",
      " Accuracy score is- 79.1\n",
      "\n",
      "\n",
      "At cv- 7\n",
      "\n",
      " cross validation score is- 73.95688602585155\n",
      "\n",
      " Accuracy score is- 79.1\n",
      "\n",
      "\n",
      "At cv- 8\n",
      "\n",
      " cross validation score is- 73.33284799068143\n",
      "\n",
      " Accuracy score is- 79.1\n",
      "\n",
      "\n",
      "At cv- 9\n",
      "\n",
      " cross validation score is- 74.31691765025099\n",
      "\n",
      " Accuracy score is- 79.1\n",
      "\n",
      "\n",
      "At cv- 10\n",
      "\n",
      " cross validation score is- 73.58476362541404\n",
      "\n",
      " Accuracy score is- 79.1\n",
      "\n",
      "\n",
      "At cv- 11\n",
      "\n",
      " cross validation score is- 74.44717444717445\n",
      "\n",
      " Accuracy score is- 79.1\n",
      "\n",
      "\n",
      "At cv- 12\n",
      "\n",
      " cross validation score is- 74.43664032777289\n",
      "\n",
      " Accuracy score is- 79.1\n",
      "\n",
      "\n",
      "At cv- 13\n",
      "\n",
      " cross validation score is- 74.92811847650557\n",
      "\n",
      " Accuracy score is- 79.1\n",
      "\n",
      "\n",
      "At cv- 14\n",
      "\n",
      " cross validation score is- 75.43416548384404\n",
      "\n",
      " Accuracy score is- 79.1\n"
     ]
    }
   ],
   "source": [
    "for i in range(4,15):\n",
    "    cv_score=cross_val_score(knn,x,y,cv=i)\n",
    "    cv_mean=cv_score.mean()\n",
    "    print(\"\\n\\nAt cv-\",i)\n",
    "    print(\"\\n cross validation score is-\",cv_mean*100)\n",
    "    print(\"\\n Accuracy score is-\",knn_test_acc)"
   ]
  },
  {
   "cell_type": "markdown",
   "id": "5aec955b",
   "metadata": {},
   "source": [
    "So we are getting the least difference between cross_val_score and accuracy score at cv=14"
   ]
  },
  {
   "cell_type": "code",
   "execution_count": 51,
   "id": "1b225e16",
   "metadata": {},
   "outputs": [
    {
     "name": "stdout",
     "output_type": "stream",
     "text": [
      "cross validation score is- 75.43416548384404\n",
      "accuracy score for Knn classifier model is- 79.1\n"
     ]
    }
   ],
   "source": [
    "cv_score_best_knn=cross_val_score(knn,x,y,cv=14).mean()*100\n",
    "print(\"cross validation score is-\",cv_score_best_knn)\n",
    "print(\"accuracy score for Knn classifier model is-\",knn_test_acc)"
   ]
  },
  {
   "cell_type": "markdown",
   "id": "d2b643c2",
   "metadata": {},
   "source": [
    "## Confusion Matrix"
   ]
  },
  {
   "cell_type": "code",
   "execution_count": 52,
   "id": "07d47bcb",
   "metadata": {},
   "outputs": [
    {
     "data": {
      "image/png": "[encoded data removed]",
      "text/plain": [
       "<Figure size 432x288 with 2 Axes>"
      ]
     },
     "metadata": {
      "needs_background": "light"
     },
     "output_type": "display_data"
    }
   ],
   "source": [
    "confusion_matrix = metrics.confusion_matrix(y_test, pred_test)\n",
    "cm = metrics.ConfusionMatrixDisplay(confusion_matrix = confusion_matrix, display_labels = [False, True])\n",
    "cm.plot()\n",
    "plt.show()"
   ]
  },
  {
   "cell_type": "markdown",
   "id": "6162d756",
   "metadata": {},
   "source": [
    "## AUC-ROC Curve"
   ]
  },
  {
   "cell_type": "code",
   "execution_count": 53,
   "id": "8020eef7",
   "metadata": {},
   "outputs": [
    {
     "data": {
      "image/png": "[encoded data removed]",
      "text/plain": [
       "<Figure size 432x288 with 1 Axes>"
      ]
     },
     "metadata": {
      "needs_background": "light"
     },
     "output_type": "display_data"
    }
   ],
   "source": [
    "fpr,tpr,thresholds=roc_curve(pred_test,y_test)\n",
    "roc_auc=auc(fpr,tpr)\n",
    "\n",
    "plt.figure()\n",
    "plt.plot(fpr,tpr,color='orange',lw=10,label=\"ROC curve (area=%0.2f)\"%roc_auc)\n",
    "plt.plot([0,1],[0,1],color='navy',lw=10,linestyle=\"--\")\n",
    "plt.xlim([0.0,1.0])\n",
    "plt.ylim([0.0,1.05])\n",
    "plt.xlabel(\"false positive rate\")\n",
    "plt.ylabel(\"true positive rate\")\n",
    "plt.title(\"reciever operating characteristics\")\n",
    "plt.legend(loc=\"lower right\")\n",
    "plt.show()"
   ]
  },
  {
   "cell_type": "markdown",
   "id": "9ce03a43",
   "metadata": {},
   "source": [
    "## Classification Report"
   ]
  },
  {
   "cell_type": "code",
   "execution_count": 54,
   "id": "85eab13c",
   "metadata": {},
   "outputs": [
    {
     "name": "stdout",
     "output_type": "stream",
     "text": [
      "              precision    recall  f1-score   support\n",
      "\n",
      "           0       0.80      0.82      0.81        89\n",
      "           1       0.78      0.76      0.77        74\n",
      "\n",
      "    accuracy                           0.79       163\n",
      "   macro avg       0.79      0.79      0.79       163\n",
      "weighted avg       0.79      0.79      0.79       163\n",
      "\n"
     ]
    }
   ],
   "source": [
    "print(classification_report(y_test, pred_test))"
   ]
  },
  {
   "cell_type": "markdown",
   "id": "a6a147a9",
   "metadata": {},
   "source": [
    "## XGBoost Classifier"
   ]
  },
  {
   "cell_type": "code",
   "execution_count": 55,
   "id": "0977a45c",
   "metadata": {},
   "outputs": [
    {
     "name": "stdout",
     "output_type": "stream",
     "text": [
      "\n",
      " at random state- 0\n",
      "\n",
      "Train Accuracy-  100.0\n",
      "\n",
      "Test Accuracy-  86.3\n",
      "\n",
      " at random state- 1\n",
      "\n",
      "Train Accuracy-  100.0\n",
      "\n",
      "Test Accuracy-  91.7\n",
      "\n",
      " at random state- 2\n",
      "\n",
      "Train Accuracy-  100.0\n",
      "\n",
      "Test Accuracy-  91.2\n",
      "\n",
      " at random state- 3\n",
      "\n",
      "Train Accuracy-  100.0\n",
      "\n",
      "Test Accuracy-  89.7\n",
      "\n",
      " at random state- 4\n",
      "\n",
      "Train Accuracy-  100.0\n",
      "\n",
      "Test Accuracy-  87.7\n",
      "\n",
      " at random state- 5\n",
      "\n",
      "Train Accuracy-  100.0\n",
      "\n",
      "Test Accuracy-  85.3\n",
      "\n",
      " at random state- 6\n",
      "\n",
      "Train Accuracy-  100.0\n",
      "\n",
      "Test Accuracy-  87.7\n",
      "\n",
      " at random state- 7\n",
      "\n",
      "Train Accuracy-  100.0\n",
      "\n",
      "Test Accuracy-  89.2\n",
      "\n",
      " at random state- 8\n",
      "\n",
      "Train Accuracy-  100.0\n",
      "\n",
      "Test Accuracy-  90.2\n",
      "\n",
      " at random state- 9\n",
      "\n",
      "Train Accuracy-  100.0\n",
      "\n",
      "Test Accuracy-  89.7\n",
      "\n",
      " at random state- 10\n",
      "\n",
      "Train Accuracy-  100.0\n",
      "\n",
      "Test Accuracy-  87.7\n",
      "\n",
      " at random state- 11\n",
      "\n",
      "Train Accuracy-  100.0\n",
      "\n",
      "Test Accuracy-  86.3\n",
      "\n",
      " at random state- 12\n",
      "\n",
      "Train Accuracy-  100.0\n",
      "\n",
      "Test Accuracy-  87.7\n",
      "\n",
      " at random state- 13\n",
      "\n",
      "Train Accuracy-  100.0\n",
      "\n",
      "Test Accuracy-  84.3\n",
      "\n",
      " at random state- 14\n",
      "\n",
      "Train Accuracy-  100.0\n",
      "\n",
      "Test Accuracy-  85.8\n",
      "\n",
      " at random state- 15\n",
      "\n",
      "Train Accuracy-  100.0\n",
      "\n",
      "Test Accuracy-  88.7\n",
      "\n",
      " at random state- 16\n",
      "\n",
      "Train Accuracy-  100.0\n",
      "\n",
      "Test Accuracy-  91.2\n",
      "\n",
      " at random state- 17\n",
      "\n",
      "Train Accuracy-  100.0\n",
      "\n",
      "Test Accuracy-  89.2\n",
      "\n",
      " at random state- 18\n",
      "\n",
      "Train Accuracy-  100.0\n",
      "\n",
      "Test Accuracy-  88.7\n",
      "\n",
      " at random state- 19\n",
      "\n",
      "Train Accuracy-  100.0\n",
      "\n",
      "Test Accuracy-  91.7\n",
      "\n",
      " at random state- 20\n",
      "\n",
      "Train Accuracy-  100.0\n",
      "\n",
      "Test Accuracy-  90.7\n",
      "\n",
      " at random state- 21\n",
      "\n",
      "Train Accuracy-  100.0\n",
      "\n",
      "Test Accuracy-  88.7\n",
      "\n",
      " at random state- 22\n",
      "\n",
      "Train Accuracy-  100.0\n",
      "\n",
      "Test Accuracy-  88.7\n",
      "\n",
      " at random state- 23\n",
      "\n",
      "Train Accuracy-  100.0\n",
      "\n",
      "Test Accuracy-  88.7\n",
      "\n",
      " at random state- 24\n",
      "\n",
      "Train Accuracy-  100.0\n",
      "\n",
      "Test Accuracy-  90.2\n",
      "\n",
      " at random state- 25\n",
      "\n",
      "Train Accuracy-  100.0\n",
      "\n",
      "Test Accuracy-  89.7\n",
      "\n",
      " at random state- 26\n",
      "\n",
      "Train Accuracy-  100.0\n",
      "\n",
      "Test Accuracy-  85.8\n",
      "\n",
      " at random state- 27\n",
      "\n",
      "Train Accuracy-  100.0\n",
      "\n",
      "Test Accuracy-  86.8\n",
      "\n",
      " at random state- 28\n",
      "\n",
      "Train Accuracy-  100.0\n",
      "\n",
      "Test Accuracy-  86.8\n",
      "\n",
      " at random state- 29\n",
      "\n",
      "Train Accuracy-  100.0\n",
      "\n",
      "Test Accuracy-  89.2\n",
      "\n",
      " at random state- 30\n",
      "\n",
      "Train Accuracy-  100.0\n",
      "\n",
      "Test Accuracy-  88.2\n",
      "\n",
      " at random state- 31\n",
      "\n",
      "Train Accuracy-  100.0\n",
      "\n",
      "Test Accuracy-  86.3\n",
      "\n",
      " at random state- 32\n",
      "\n",
      "Train Accuracy-  100.0\n",
      "\n",
      "Test Accuracy-  86.3\n",
      "\n",
      " at random state- 33\n",
      "\n",
      "Train Accuracy-  100.0\n",
      "\n",
      "Test Accuracy-  84.3\n",
      "\n",
      " at random state- 34\n",
      "\n",
      "Train Accuracy-  100.0\n",
      "\n",
      "Test Accuracy-  89.2\n",
      "\n",
      " at random state- 35\n",
      "\n",
      "Train Accuracy-  100.0\n",
      "\n",
      "Test Accuracy-  89.2\n",
      "\n",
      " at random state- 36\n",
      "\n",
      "Train Accuracy-  100.0\n",
      "\n",
      "Test Accuracy-  88.2\n",
      "\n",
      " at random state- 37\n",
      "\n",
      "Train Accuracy-  100.0\n",
      "\n",
      "Test Accuracy-  92.2\n",
      "\n",
      " at random state- 38\n",
      "\n",
      "Train Accuracy-  100.0\n",
      "\n",
      "Test Accuracy-  91.7\n",
      "\n",
      " at random state- 39\n",
      "\n",
      "Train Accuracy-  100.0\n",
      "\n",
      "Test Accuracy-  93.1\n"
     ]
    }
   ],
   "source": [
    "from xgboost import XGBClassifier\n",
    "xgmod=XGBClassifier()\n",
    "for i in range(40):\n",
    "    x_train,x_test,y_train,y_test=train_test_split(x,y,random_state=i,test_size=0.25)\n",
    "    xgmod.fit(x_train,y_train)\n",
    "    pred_train=xgmod.predict(x_train)\n",
    "    pred_test=xgmod.predict(x_test)\n",
    "    xg_train_acc=round(accuracy_score(y_train,pred_train)*100,1)\n",
    "    xg_test_acc=round(accuracy_score(y_test,pred_test)*100,1)\n",
    "    print(\"\\n at random state-\",i)\n",
    "    print(\"\\nTrain Accuracy- \",xg_train_acc)\n",
    "    print(\"\\nTest Accuracy- \",xg_test_acc)"
   ]
  },
  {
   "cell_type": "code",
   "execution_count": 57,
   "id": "75801ef6",
   "metadata": {},
   "outputs": [
    {
     "name": "stdout",
     "output_type": "stream",
     "text": [
      "\n",
      "Train Accuracy-  100.0\n",
      "\n",
      "Test Accuracy-  94.5\n"
     ]
    }
   ],
   "source": [
    "xgmod=XGBClassifier()\n",
    "x_train,x_test,y_train,y_test=train_test_split(x,y,random_state=38,test_size=0.20)\n",
    "xgmod.fit(x_train,y_train)\n",
    "pred_train=xgmod.predict(x_train)\n",
    "pred_test=xgmod.predict(x_test)\n",
    "xg_train_acc=round(accuracy_score(y_train,pred_train)*100,1)\n",
    "xg_test_acc=round(accuracy_score(y_test,pred_test)*100,1)\n",
    "print(\"\\nTrain Accuracy- \",xg_train_acc)\n",
    "print(\"\\nTest Accuracy- \",xg_test_acc)"
   ]
  },
  {
   "cell_type": "markdown",
   "id": "4b62573a",
   "metadata": {},
   "source": [
    "## Cross Validation Report"
   ]
  },
  {
   "cell_type": "code",
   "execution_count": 58,
   "id": "81815b7a",
   "metadata": {},
   "outputs": [
    {
     "name": "stdout",
     "output_type": "stream",
     "text": [
      "\n",
      "\n",
      "At cv- 40\n",
      "\n",
      " cross validation score is- 85.44642857142858\n",
      "\n",
      " Accuracy score is- 94.5\n",
      "\n",
      "\n",
      "At cv- 41\n",
      "\n",
      " cross validation score is- 85.87291399229781\n",
      "\n",
      " Accuracy score is- 94.5\n",
      "\n",
      "\n",
      "At cv- 42\n",
      "\n",
      " cross validation score is- 86.54761904761905\n",
      "\n",
      " Accuracy score is- 94.5\n",
      "\n",
      "\n",
      "At cv- 43\n",
      "\n",
      " cross validation score is- 86.7265061879505\n",
      "\n",
      " Accuracy score is- 94.5\n",
      "\n",
      "\n",
      "At cv- 44\n",
      "\n",
      " cross validation score is- 86.31047315257841\n",
      "\n",
      " Accuracy score is- 94.5\n",
      "\n",
      "\n",
      "At cv- 45\n",
      "\n",
      " cross validation score is- 87.35542560103964\n",
      "\n",
      " Accuracy score is- 94.5\n",
      "\n",
      "\n",
      "At cv- 46\n",
      "\n",
      " cross validation score is- 86.99914748508098\n",
      "\n",
      " Accuracy score is- 94.5\n",
      "\n",
      "\n",
      "At cv- 47\n",
      "\n",
      " cross validation score is- 86.99763593380614\n",
      "\n",
      " Accuracy score is- 94.5\n",
      "\n",
      "\n",
      "At cv- 48\n",
      "\n",
      " cross validation score is- 86.73406862745098\n",
      "\n",
      " Accuracy score is- 94.5\n",
      "\n",
      "\n",
      "At cv- 49\n",
      "\n",
      " cross validation score is- 87.0048019207683\n",
      "\n",
      " Accuracy score is- 94.5\n",
      "\n",
      "\n",
      "At cv- 50\n",
      "\n",
      " cross validation score is- 87.63970588235293\n",
      "\n",
      " Accuracy score is- 94.5\n",
      "\n",
      "\n",
      "At cv- 51\n",
      "\n",
      " cross validation score is- 88.45588235294117\n",
      "\n",
      " Accuracy score is- 94.5\n",
      "\n",
      "\n",
      "At cv- 52\n",
      "\n",
      " cross validation score is- 88.64583333333334\n",
      "\n",
      " Accuracy score is- 94.5\n",
      "\n",
      "\n",
      "At cv- 53\n",
      "\n",
      " cross validation score is- 87.52358490566037\n",
      "\n",
      " Accuracy score is- 94.5\n",
      "\n",
      "\n",
      "At cv- 54\n",
      "\n",
      " cross validation score is- 87.09104938271605\n",
      "\n",
      " Accuracy score is- 94.5\n",
      "\n",
      "\n",
      "At cv- 55\n",
      "\n",
      " cross validation score is- 87.46320346320346\n",
      "\n",
      " Accuracy score is- 94.5\n",
      "\n",
      "\n",
      "At cv- 56\n",
      "\n",
      " cross validation score is- 88.01020408163266\n",
      "\n",
      " Accuracy score is- 94.5\n",
      "\n",
      "\n",
      "At cv- 57\n",
      "\n",
      " cross validation score is- 88.14536340852129\n",
      "\n",
      " Accuracy score is- 94.5\n",
      "\n",
      "\n",
      "At cv- 58\n",
      "\n",
      " cross validation score is- 88.07881773399015\n",
      "\n",
      " Accuracy score is- 94.5\n",
      "\n",
      "\n",
      "At cv- 59\n",
      "\n",
      " cross validation score is- 87.2508847085118\n",
      "\n",
      " Accuracy score is- 94.5\n",
      "\n",
      "\n",
      "At cv- 60\n",
      "\n",
      " cross validation score is- 87.88461538461537\n",
      "\n",
      " Accuracy score is- 94.5\n",
      "\n",
      "\n",
      "At cv- 61\n",
      "\n",
      " cross validation score is- 88.1823094937849\n",
      "\n",
      " Accuracy score is- 94.5\n",
      "\n",
      "\n",
      "At cv- 62\n",
      "\n",
      " cross validation score is- 88.25771003190357\n",
      "\n",
      " Accuracy score is- 94.5\n",
      "\n",
      "\n",
      "At cv- 63\n",
      "\n",
      " cross validation score is- 89.04151404151403\n",
      "\n",
      " Accuracy score is- 94.5\n",
      "\n",
      "\n",
      "At cv- 64\n",
      "\n",
      " cross validation score is- 88.74198717948718\n",
      "\n",
      " Accuracy score is- 94.5\n",
      "\n",
      "\n",
      "At cv- 65\n",
      "\n",
      " cross validation score is- 89.58579881656806\n",
      "\n",
      " Accuracy score is- 94.5\n",
      "\n",
      "\n",
      "At cv- 66\n",
      "\n",
      " cross validation score is- 89.25796425796425\n",
      "\n",
      " Accuracy score is- 94.5\n",
      "\n",
      "\n",
      "At cv- 67\n",
      "\n",
      " cross validation score is- 89.08342900880216\n",
      "\n",
      " Accuracy score is- 94.5\n",
      "\n",
      "\n",
      "At cv- 68\n",
      "\n",
      " cross validation score is- 88.56951871657755\n",
      "\n",
      " Accuracy score is- 94.5\n",
      "\n",
      "\n",
      "At cv- 69\n",
      "\n",
      " cross validation score is- 88.9437856829161\n",
      "\n",
      " Accuracy score is- 94.5\n"
     ]
    }
   ],
   "source": [
    "for i in range(40,70):\n",
    "    cv_score=cross_val_score(xgmod,x,y,cv=i)\n",
    "    cv_mean=cv_score.mean()\n",
    "    print(\"\\n\\nAt cv-\",i)\n",
    "    print(\"\\n cross validation score is-\",cv_mean*100)\n",
    "    print(\"\\n Accuracy score is-\",xg_test_acc)"
   ]
  },
  {
   "cell_type": "markdown",
   "id": "871ffd5e",
   "metadata": {},
   "source": [
    "So we are getting the least difference between cross_val_score and accuracy score at cv=65"
   ]
  },
  {
   "cell_type": "code",
   "execution_count": 59,
   "id": "c32aea45",
   "metadata": {},
   "outputs": [
    {
     "name": "stdout",
     "output_type": "stream",
     "text": [
      "cross validation score is- 89.58579881656806\n",
      "accuracy score for Knn classifier model is- 94.5\n"
     ]
    }
   ],
   "source": [
    "cv_score_best_xg=cross_val_score(xgmod,x,y,cv=65).mean()*100\n",
    "print(\"cross validation score is-\",cv_score_best_xg)\n",
    "print(\"accuracy score for Knn classifier model is-\",xg_test_acc)"
   ]
  },
  {
   "cell_type": "markdown",
   "id": "1608ffdd",
   "metadata": {},
   "source": [
    "## Confusion Matrix"
   ]
  },
  {
   "cell_type": "code",
   "execution_count": 60,
   "id": "d213346b",
   "metadata": {},
   "outputs": [
    {
     "data": {
      "image/png": "[encoded data removed]",
      "text/plain": [
       "<Figure size 432x288 with 2 Axes>"
      ]
     },
     "metadata": {
      "needs_background": "light"
     },
     "output_type": "display_data"
    }
   ],
   "source": [
    "confusion_matrix = metrics.confusion_matrix(y_test, pred_test)\n",
    "cm = metrics.ConfusionMatrixDisplay(confusion_matrix = confusion_matrix, display_labels = [False, True])\n",
    "cm.plot()\n",
    "plt.show()"
   ]
  },
  {
   "cell_type": "markdown",
   "id": "53532c14",
   "metadata": {},
   "source": [
    "## AUC-ROC Curve"
   ]
  },
  {
   "cell_type": "code",
   "execution_count": 61,
   "id": "1286c4e5",
   "metadata": {},
   "outputs": [
    {
     "data": {
      "image/png": "[encoded data removed]",
      "text/plain": [
       "<Figure size 432x288 with 1 Axes>"
      ]
     },
     "metadata": {
      "needs_background": "light"
     },
     "output_type": "display_data"
    }
   ],
   "source": [
    "fpr,tpr,thresholds=roc_curve(pred_test,y_test)\n",
    "roc_auc=auc(fpr,tpr)\n",
    "\n",
    "plt.figure()\n",
    "plt.plot(fpr,tpr,color='orange',lw=10,label=\"ROC curve (area=%0.2f)\"%roc_auc)\n",
    "plt.plot([0,1],[0,1],color='navy',lw=10,linestyle=\"--\")\n",
    "plt.xlim([0.0,1.0])\n",
    "plt.ylim([0.0,1.05])\n",
    "plt.xlabel(\"false positive rate\")\n",
    "plt.ylabel(\"true positive rate\")\n",
    "plt.title(\"reciever operating characteristics\")\n",
    "plt.legend(loc=\"lower right\")\n",
    "plt.show()"
   ]
  },
  {
   "cell_type": "markdown",
   "id": "f791cc40",
   "metadata": {},
   "source": [
    "## Classification Report"
   ]
  },
  {
   "cell_type": "code",
   "execution_count": 62,
   "id": "903873c3",
   "metadata": {},
   "outputs": [
    {
     "name": "stdout",
     "output_type": "stream",
     "text": [
      "              precision    recall  f1-score   support\n",
      "\n",
      "           0       0.95      0.94      0.94        77\n",
      "           1       0.94      0.95      0.95        86\n",
      "\n",
      "    accuracy                           0.94       163\n",
      "   macro avg       0.94      0.94      0.94       163\n",
      "weighted avg       0.94      0.94      0.94       163\n",
      "\n"
     ]
    }
   ],
   "source": [
    "print(classification_report(y_test, pred_test))"
   ]
  },
  {
   "cell_type": "markdown",
   "id": "4c3419aa",
   "metadata": {},
   "source": [
    "## Model Summary"
   ]
  },
  {
   "cell_type": "code",
   "execution_count": 63,
   "id": "83d0afd2",
   "metadata": {},
   "outputs": [
    {
     "data": {
      "text/html": [
       "<div>\n",
       "<style scoped>\n",
       "    .dataframe tbody tr th:only-of-type {\n",
       "        vertical-align: middle;\n",
       "    }\n",
       "\n",
       "    .dataframe tbody tr th {\n",
       "        vertical-align: top;\n",
       "    }\n",
       "\n",
       "    .dataframe thead th {\n",
       "        text-align: right;\n",
       "    }\n",
       "</style>\n",
       "<table border=\"1\" class=\"dataframe\">\n",
       "  <thead>\n",
       "    <tr style=\"text-align: right;\">\n",
       "      <th></th>\n",
       "      <th>Models</th>\n",
       "      <th>Test Accuracy</th>\n",
       "      <th>CV Score</th>\n",
       "    </tr>\n",
       "  </thead>\n",
       "  <tbody>\n",
       "    <tr>\n",
       "      <th>0</th>\n",
       "      <td>Logistic Regression</td>\n",
       "      <td>76.1</td>\n",
       "      <td>69.170018</td>\n",
       "    </tr>\n",
       "    <tr>\n",
       "      <th>1</th>\n",
       "      <td>Decision Tree Classifier</td>\n",
       "      <td>90.2</td>\n",
       "      <td>86.595912</td>\n",
       "    </tr>\n",
       "    <tr>\n",
       "      <th>2</th>\n",
       "      <td>Knn Classifier</td>\n",
       "      <td>79.1</td>\n",
       "      <td>75.434165</td>\n",
       "    </tr>\n",
       "    <tr>\n",
       "      <th>3</th>\n",
       "      <td>Random Forest Classifier</td>\n",
       "      <td>93.3</td>\n",
       "      <td>90.075590</td>\n",
       "    </tr>\n",
       "    <tr>\n",
       "      <th>4</th>\n",
       "      <td>XGBoost</td>\n",
       "      <td>94.5</td>\n",
       "      <td>89.585799</td>\n",
       "    </tr>\n",
       "  </tbody>\n",
       "</table>\n",
       "</div>"
      ],
      "text/plain": [
       "                     Models  Test Accuracy   CV Score\n",
       "0       Logistic Regression           76.1  69.170018\n",
       "1  Decision Tree Classifier           90.2  86.595912\n",
       "2            Knn Classifier           79.1  75.434165\n",
       "3  Random Forest Classifier           93.3  90.075590\n",
       "4                   XGBoost           94.5  89.585799"
      ]
     },
     "execution_count": 63,
     "metadata": {},
     "output_type": "execute_result"
    }
   ],
   "source": [
    "models=['Logistic Regression','Decision Tree Classifier','Knn Classifier','Random Forest Classifier','XGBoost']\n",
    "test_acc=[test_accuracy,dt_acc_test,knn_test_acc,rf_test_acc,xg_test_acc]\n",
    "cv_score=[cv_score_best,cv_score_best_dt,cv_score_best_knn,cv_score_best_rf,cv_score_best_xg]\n",
    "dfm=pd.DataFrame(list(zip(models,test_acc,cv_score)),columns=['Models','Test Accuracy','CV Score'])\n",
    "dfm"
   ]
  },
  {
   "cell_type": "markdown",
   "id": "f3cf965a",
   "metadata": {},
   "source": [
    "We will finalize Random Forest classifier as our model because it is giving best accuracy and there is least difference between accuracy score and cv score, the area under AUC-ROC Curve is also highest among all other models and its classification report is better then others. So lets try to improve its accuracy by performing hyperparameter tuning on it."
   ]
  },
  {
   "cell_type": "markdown",
   "id": "9f25b25e",
   "metadata": {},
   "source": [
    "## Hyperparameter tuning on Random Forest Classifier"
   ]
  },
  {
   "cell_type": "code",
   "execution_count": 64,
   "id": "8d052f20",
   "metadata": {},
   "outputs": [
    {
     "name": "stdout",
     "output_type": "stream",
     "text": [
      "Fitting 3 folds for each of 162 candidates, totalling 486 fits\n"
     ]
    },
    {
     "data": {
      "text/plain": [
       "RandomForestClassifier(bootstrap=False, max_depth=40, min_samples_split=5,\n",
       "                       n_estimators=600)"
      ]
     },
     "execution_count": 64,
     "metadata": {},
     "output_type": "execute_result"
    }
   ],
   "source": [
    "from sklearn.ensemble import RandomForestClassifier\n",
    "param_grid = {\n",
    "    'bootstrap': [True, False],\n",
    " 'max_depth': [40, 50, 60],\n",
    " 'min_samples_leaf': [1, 2, 4],\n",
    " 'min_samples_split': [2, 5, 10],\n",
    " 'n_estimators': [200, 400, 600] \n",
    "}\n",
    "\n",
    "rf_reg = RandomForestClassifier()\n",
    "\n",
    "rf_reg_tuned = GridSearchCV(estimator=rf_reg,\n",
    "                            param_grid=param_grid,\n",
    "                            cv=3,\n",
    "                            n_jobs=-1,\n",
    "                            verbose=2)\n",
    "\n",
    "rf_reg_tuned.fit(x_train, y_train)\n",
    "rf_reg_tuned.best_estimator_"
   ]
  },
  {
   "cell_type": "code",
   "execution_count": 65,
   "id": "cee73513",
   "metadata": {},
   "outputs": [
    {
     "name": "stdout",
     "output_type": "stream",
     "text": [
      "\n",
      "Train Accuracy-  100.0\n",
      "\n",
      "Test Accuracy-  95.1\n"
     ]
    }
   ],
   "source": [
    "rf1=RandomForestClassifier(n_estimators=600,max_depth=40,bootstrap=False,min_samples_split=5)\n",
    "rf1.fit(x_train,y_train)\n",
    "pred_train=rf1.predict(x_train)\n",
    "pred_test=rf1.predict(x_test)\n",
    "train_acc=round(accuracy_score(y_train,pred_train)*100,1)\n",
    "test_acc=round(accuracy_score(y_test,pred_test)*100,1)\n",
    "print(\"\\nTrain Accuracy- \",train_acc)\n",
    "print(\"\\nTest Accuracy- \",test_acc)"
   ]
  },
  {
   "cell_type": "markdown",
   "id": "d4b6588a",
   "metadata": {},
   "source": [
    "## Conclusion"
   ]
  },
  {
   "cell_type": "markdown",
   "id": "4f9a9b6a",
   "metadata": {},
   "source": [
    "After performing hyperparameter tuning on Random Forest classifier we found that accuracy increased by 2% to 95% so we would save this tunned model."
   ]
  },
  {
   "cell_type": "markdown",
   "id": "394cb4aa",
   "metadata": {},
   "source": [
    "## Model Saving"
   ]
  },
  {
   "cell_type": "code",
   "execution_count": null,
   "id": "fb67a360",
   "metadata": {},
   "outputs": [],
   "source": [
    "import pickle\n",
    "filename = 'finalized_model.pkl'\n",
    "pickle.dump(rf1, open(filename, 'wb'))"
   ]
  }
 ],
 "metadata": {
  "kernelspec": {
   "display_name": "Python 3 (ipykernel)",
   "language": "python",
   "name": "python3"
  },
  "language_info": {
   "codemirror_mode": {
    "name": "ipython",
    "version": 3
   },
   "file_extension": ".py",
   "mimetype": "text/x-python",
   "name": "python",
   "nbconvert_exporter": "python",
   "pygments_lexer": "ipython3",
   "version": "3.9.7"
  }
 },
 "nbformat": 4,
 "nbformat_minor": 5
}
