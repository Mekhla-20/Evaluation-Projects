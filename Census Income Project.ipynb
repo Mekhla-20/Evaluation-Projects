{
 "cells": [
  {
   "cell_type": "code",
   "execution_count": 1,
   "id": "e07b875c",
   "metadata": {},
   "outputs": [],
   "source": [
    "import pandas as pd\n",
    "import numpy as np\n",
    "import matplotlib.pyplot as plt\n",
    "import seaborn as sns\n",
    "from sklearn.preprocessing import OrdinalEncoder\n",
    "from sklearn.preprocessing import LabelEncoder\n",
    "from statsmodels.stats.outliers_influence import variance_inflation_factor\n",
    "from scipy.stats import zscore\n",
    "from sklearn.model_selection import GridSearchCV\n",
    "from sklearn.preprocessing import StandardScaler\n",
    "from sklearn.preprocessing import power_transform\n",
    "from sklearn.model_selection import train_test_split\n",
    "from sklearn.model_selection import cross_val_score\n",
    "from sklearn import metrics\n",
    "from sklearn.metrics import roc_curve,auc,accuracy_score\n",
    "from sklearn.metrics import classification_report"
   ]
  },
  {
   "cell_type": "code",
   "execution_count": 2,
   "id": "a5d3d5ac",
   "metadata": {},
   "outputs": [
    {
     "data": {
      "text/html": [
       "<div>\n",
       "<style scoped>\n",
       "    .dataframe tbody tr th:only-of-type {\n",
       "        vertical-align: middle;\n",
       "    }\n",
       "\n",
       "    .dataframe tbody tr th {\n",
       "        vertical-align: top;\n",
       "    }\n",
       "\n",
       "    .dataframe thead th {\n",
       "        text-align: right;\n",
       "    }\n",
       "</style>\n",
       "<table border=\"1\" class=\"dataframe\">\n",
       "  <thead>\n",
       "    <tr style=\"text-align: right;\">\n",
       "      <th></th>\n",
       "      <th>Age</th>\n",
       "      <th>Workclass</th>\n",
       "      <th>Fnlwgt</th>\n",
       "      <th>Education</th>\n",
       "      <th>Education_num</th>\n",
       "      <th>Marital_status</th>\n",
       "      <th>Occupation</th>\n",
       "      <th>Relationship</th>\n",
       "      <th>Race</th>\n",
       "      <th>Sex</th>\n",
       "      <th>Capital_gain</th>\n",
       "      <th>Capital_loss</th>\n",
       "      <th>Hours_per_week</th>\n",
       "      <th>Native_country</th>\n",
       "      <th>Income</th>\n",
       "    </tr>\n",
       "  </thead>\n",
       "  <tbody>\n",
       "    <tr>\n",
       "      <th>0</th>\n",
       "      <td>50</td>\n",
       "      <td>Self-emp-not-inc</td>\n",
       "      <td>83311</td>\n",
       "      <td>Bachelors</td>\n",
       "      <td>13</td>\n",
       "      <td>Married-civ-spouse</td>\n",
       "      <td>Exec-managerial</td>\n",
       "      <td>Husband</td>\n",
       "      <td>White</td>\n",
       "      <td>Male</td>\n",
       "      <td>0</td>\n",
       "      <td>0</td>\n",
       "      <td>13</td>\n",
       "      <td>United-States</td>\n",
       "      <td>&lt;=50K</td>\n",
       "    </tr>\n",
       "    <tr>\n",
       "      <th>1</th>\n",
       "      <td>38</td>\n",
       "      <td>Private</td>\n",
       "      <td>215646</td>\n",
       "      <td>HS-grad</td>\n",
       "      <td>9</td>\n",
       "      <td>Divorced</td>\n",
       "      <td>Handlers-cleaners</td>\n",
       "      <td>Not-in-family</td>\n",
       "      <td>White</td>\n",
       "      <td>Male</td>\n",
       "      <td>0</td>\n",
       "      <td>0</td>\n",
       "      <td>40</td>\n",
       "      <td>United-States</td>\n",
       "      <td>&lt;=50K</td>\n",
       "    </tr>\n",
       "    <tr>\n",
       "      <th>2</th>\n",
       "      <td>53</td>\n",
       "      <td>Private</td>\n",
       "      <td>234721</td>\n",
       "      <td>11th</td>\n",
       "      <td>7</td>\n",
       "      <td>Married-civ-spouse</td>\n",
       "      <td>Handlers-cleaners</td>\n",
       "      <td>Husband</td>\n",
       "      <td>Black</td>\n",
       "      <td>Male</td>\n",
       "      <td>0</td>\n",
       "      <td>0</td>\n",
       "      <td>40</td>\n",
       "      <td>United-States</td>\n",
       "      <td>&lt;=50K</td>\n",
       "    </tr>\n",
       "    <tr>\n",
       "      <th>3</th>\n",
       "      <td>28</td>\n",
       "      <td>Private</td>\n",
       "      <td>338409</td>\n",
       "      <td>Bachelors</td>\n",
       "      <td>13</td>\n",
       "      <td>Married-civ-spouse</td>\n",
       "      <td>Prof-specialty</td>\n",
       "      <td>Wife</td>\n",
       "      <td>Black</td>\n",
       "      <td>Female</td>\n",
       "      <td>0</td>\n",
       "      <td>0</td>\n",
       "      <td>40</td>\n",
       "      <td>Cuba</td>\n",
       "      <td>&lt;=50K</td>\n",
       "    </tr>\n",
       "    <tr>\n",
       "      <th>4</th>\n",
       "      <td>37</td>\n",
       "      <td>Private</td>\n",
       "      <td>284582</td>\n",
       "      <td>Masters</td>\n",
       "      <td>14</td>\n",
       "      <td>Married-civ-spouse</td>\n",
       "      <td>Exec-managerial</td>\n",
       "      <td>Wife</td>\n",
       "      <td>White</td>\n",
       "      <td>Female</td>\n",
       "      <td>0</td>\n",
       "      <td>0</td>\n",
       "      <td>40</td>\n",
       "      <td>United-States</td>\n",
       "      <td>&lt;=50K</td>\n",
       "    </tr>\n",
       "  </tbody>\n",
       "</table>\n",
       "</div>"
      ],
      "text/plain": [
       "   Age          Workclass  Fnlwgt   Education  Education_num  \\\n",
       "0   50   Self-emp-not-inc   83311   Bachelors             13   \n",
       "1   38            Private  215646     HS-grad              9   \n",
       "2   53            Private  234721        11th              7   \n",
       "3   28            Private  338409   Bachelors             13   \n",
       "4   37            Private  284582     Masters             14   \n",
       "\n",
       "        Marital_status          Occupation    Relationship    Race      Sex  \\\n",
       "0   Married-civ-spouse     Exec-managerial         Husband   White     Male   \n",
       "1             Divorced   Handlers-cleaners   Not-in-family   White     Male   \n",
       "2   Married-civ-spouse   Handlers-cleaners         Husband   Black     Male   \n",
       "3   Married-civ-spouse      Prof-specialty            Wife   Black   Female   \n",
       "4   Married-civ-spouse     Exec-managerial            Wife   White   Female   \n",
       "\n",
       "   Capital_gain  Capital_loss  Hours_per_week  Native_country  Income  \n",
       "0             0             0              13   United-States   <=50K  \n",
       "1             0             0              40   United-States   <=50K  \n",
       "2             0             0              40   United-States   <=50K  \n",
       "3             0             0              40            Cuba   <=50K  \n",
       "4             0             0              40   United-States   <=50K  "
      ]
     },
     "execution_count": 2,
     "metadata": {},
     "output_type": "execute_result"
    }
   ],
   "source": [
    "df=pd.read_csv(\"https://raw.githubusercontent.com/dsrscientist/dataset1/master/census_income.csv\")\n",
    "df.head()"
   ]
  },
  {
   "cell_type": "markdown",
   "id": "a550eb33",
   "metadata": {},
   "source": [
    "## Checking nulls"
   ]
  },
  {
   "cell_type": "code",
   "execution_count": 3,
   "id": "c8f24af2",
   "metadata": {},
   "outputs": [
    {
     "data": {
      "text/plain": [
       "Age               0\n",
       "Workclass         0\n",
       "Fnlwgt            0\n",
       "Education         0\n",
       "Education_num     0\n",
       "Marital_status    0\n",
       "Occupation        0\n",
       "Relationship      0\n",
       "Race              0\n",
       "Sex               0\n",
       "Capital_gain      0\n",
       "Capital_loss      0\n",
       "Hours_per_week    0\n",
       "Native_country    0\n",
       "Income            0\n",
       "dtype: int64"
      ]
     },
     "execution_count": 3,
     "metadata": {},
     "output_type": "execute_result"
    }
   ],
   "source": [
    "df.isna().sum()"
   ]
  },
  {
   "cell_type": "markdown",
   "id": "27694fb1",
   "metadata": {},
   "source": [
    "## Checking data type"
   ]
  },
  {
   "cell_type": "code",
   "execution_count": 4,
   "id": "714cbbc7",
   "metadata": {},
   "outputs": [
    {
     "data": {
      "text/plain": [
       "Age                int64\n",
       "Workclass         object\n",
       "Fnlwgt             int64\n",
       "Education         object\n",
       "Education_num      int64\n",
       "Marital_status    object\n",
       "Occupation        object\n",
       "Relationship      object\n",
       "Race              object\n",
       "Sex               object\n",
       "Capital_gain       int64\n",
       "Capital_loss       int64\n",
       "Hours_per_week     int64\n",
       "Native_country    object\n",
       "Income            object\n",
       "dtype: object"
      ]
     },
     "execution_count": 4,
     "metadata": {},
     "output_type": "execute_result"
    }
   ],
   "source": [
    "df.dtypes"
   ]
  },
  {
   "cell_type": "markdown",
   "id": "25bedd7d",
   "metadata": {},
   "source": [
    "## Analysing relationship between features and label"
   ]
  },
  {
   "cell_type": "code",
   "execution_count": 9,
   "id": "3c141d80",
   "metadata": {},
   "outputs": [
    {
     "data": {
      "image/png": "[encoded data removed]",
      "text/plain": [
       "<Figure size 432x288 with 1 Axes>"
      ]
     },
     "metadata": {
      "needs_background": "light"
     },
     "output_type": "display_data"
    },
    {
     "data": {
      "image/png": "[encoded data removed]",
      "text/plain": [
       "<Figure size 432x288 with 1 Axes>"
      ]
     },
     "metadata": {
      "needs_background": "light"
     },
     "output_type": "display_data"
    },
    {
     "data": {
      "image/png": "[encoded data removed]",
      "text/plain": [
       "<Figure size 432x288 with 1 Axes>"
      ]
     },
     "metadata": {
      "needs_background": "light"
     },
     "output_type": "display_data"
    },
    {
     "data": {
      "image/png": "[encoded data removed]",
      "text/plain": [
       "<Figure size 432x288 with 1 Axes>"
      ]
     },
     "metadata": {
      "needs_background": "light"
     },
     "output_type": "display_data"
    },
    {
     "data": {
      "image/png": "[encoded data removed]",
      "text/plain": [
       "<Figure size 432x288 with 1 Axes>"
      ]
     },
     "metadata": {
      "needs_background": "light"
     },
     "output_type": "display_data"
    },
    {
     "data": {
      "image/png": "[encoded data removed]",
      "text/plain": [
       "<Figure size 432x288 with 1 Axes>"
      ]
     },
     "metadata": {
      "needs_background": "light"
     },
     "output_type": "display_data"
    },
    {
     "data": {
      "image/png": "[encoded data removed]",
      "text/plain": [
       "<Figure size 432x288 with 1 Axes>"
      ]
     },
     "metadata": {
      "needs_background": "light"
     },
     "output_type": "display_data"
    },
    {
     "data": {
      "image/png": "[encoded data removed]",
      "text/plain": [
       "<Figure size 432x288 with 1 Axes>"
      ]
     },
     "metadata": {
      "needs_background": "light"
     },
     "output_type": "display_data"
    }
   ],
   "source": [
    "category=['Workclass','Education','Education_num','Marital_status','Occupation','Race','Sex','Native_country']\n",
    "#Plotting count plot for each feature\n",
    "for i in category:\n",
    "    a=sns.countplot(x=df[i],hue=df['Income'],data=df)\n",
    "    plt.xlabel(i)\n",
    "    plt.xticks(rotation=90)\n",
    "    plt.show()"
   ]
  },
  {
   "cell_type": "raw",
   "id": "48c71b1c",
   "metadata": {},
   "source": [
    "Observation:: We can conclude the following-\n",
    "        1)Workclass: Most of the employees of Private sector has Income <=`50K. Self-emp-inc is the only workclass in which \n",
    "            number of employee with income>=50 is greater than number of employee with income<=50K.\n",
    "        2)Education:If a person is doctorate or Prof-School then there income>=50K most of the time but if the person is \n",
    "            HS-grad or some-college then more chances of having income<=50K. Whereas if a person is having Bachelors degree\n",
    "            then almost equal chance of income<=50k or income>=50k.\n",
    "        3)Education_num:It seems to be numerical representation of education feature.\n",
    "        4)Marital_status:Most of the married people has income>=50k and most of the unmarried people earn<=50k.\n",
    "        5)Occupation:Exec-managerial and Prof-speciality occupations has high chance of income>=50k.\n",
    "        6)Race:Most of the working people are of white race and has high chance of income<=50k.\n",
    "        7)Sex:Males are more employeed than females thus having more income greater than or less than 50k then females.\n",
    "        8)Native_country:This data set is more about people in US, which shows comparatively higher number of people \n",
    "            having income<=50."
   ]
  },
  {
   "cell_type": "code",
   "execution_count": 6,
   "id": "aafd5753",
   "metadata": {
    "scrolled": true
   },
   "outputs": [
    {
     "data": {
      "image/png": "[encoded data removed]",
      "text/plain": [
       "<Figure size 432x288 with 1 Axes>"
      ]
     },
     "metadata": {
      "needs_background": "light"
     },
     "output_type": "display_data"
    },
    {
     "data": {
      "image/png": "[encoded data removed]",
      "text/plain": [
       "<Figure size 432x288 with 1 Axes>"
      ]
     },
     "metadata": {
      "needs_background": "light"
     },
     "output_type": "display_data"
    },
    {
     "data": {
      "image/png": "[encoded data removed]",
      "text/plain": [
       "<Figure size 432x288 with 1 Axes>"
      ]
     },
     "metadata": {
      "needs_background": "light"
     },
     "output_type": "display_data"
    },
    {
     "data": {
      "image/png": "[encoded data removed]",
      "text/plain": [
       "<Figure size 432x288 with 1 Axes>"
      ]
     },
     "metadata": {
      "needs_background": "light"
     },
     "output_type": "display_data"
    },
    {
     "data": {
      "image/png": "[encoded data removed]",
      "text/plain": [
       "<Figure size 432x288 with 1 Axes>"
      ]
     },
     "metadata": {
      "needs_background": "light"
     },
     "output_type": "display_data"
    },
    {
     "data": {
      "image/png": "[encoded data removed]",
      "text/plain": [
       "<Figure size 432x288 with 1 Axes>"
      ]
     },
     "metadata": {
      "needs_background": "light"
     },
     "output_type": "display_data"
    }
   ],
   "source": [
    "col=['Age','Fnlwgt','Capital_gain','Capital_loss','Hours_per_week']\n",
    "for i in col:\n",
    "    a=sns.histplot(x=df[i],hue=df['Income'],data=df)\n",
    "    plt.xlabel(i)\n",
    "    plt.xticks(rotation=90)\n",
    "    plt.show()"
   ]
  },
  {
   "cell_type": "raw",
   "id": "815d848b",
   "metadata": {},
   "source": [
    "Observation: We can conclude the following observations:\n",
    "        1)Age: People in age 37-39 and 54-56 has the highest chance of earning>=50k whereas younger people having less \n",
    "            experience has higher chance of income<=50k.\n",
    "        2)Fnlwgt:Its graph for income>=50k is similar to income<=50k. We could observe that there are more employees with \n",
    "            income<=50k then employees with income>=50k.Highest number of people in each income group lies in this Fnlwgt\n",
    "            range 0.18 to 0.25.\n",
    "        3)Capital_gain:Highest capital gain for both the income groups is in the range 0 to 7000.\n",
    "        4)Capital_loss:Highest capital loss for both the income groups is in the range 0 to 2500.\n",
    "        5)Hours_per_week: highest number of employees in both the income group works for 40 hours per week."
   ]
  },
  {
   "cell_type": "markdown",
   "id": "ea40446d",
   "metadata": {},
   "source": [
    "## Encoding"
   ]
  },
  {
   "cell_type": "code",
   "execution_count": 3,
   "id": "332eb7e7",
   "metadata": {},
   "outputs": [
    {
     "data": {
      "text/html": [
       "<div>\n",
       "<style scoped>\n",
       "    .dataframe tbody tr th:only-of-type {\n",
       "        vertical-align: middle;\n",
       "    }\n",
       "\n",
       "    .dataframe tbody tr th {\n",
       "        vertical-align: top;\n",
       "    }\n",
       "\n",
       "    .dataframe thead th {\n",
       "        text-align: right;\n",
       "    }\n",
       "</style>\n",
       "<table border=\"1\" class=\"dataframe\">\n",
       "  <thead>\n",
       "    <tr style=\"text-align: right;\">\n",
       "      <th></th>\n",
       "      <th>Age</th>\n",
       "      <th>Workclass</th>\n",
       "      <th>Fnlwgt</th>\n",
       "      <th>Education</th>\n",
       "      <th>Education_num</th>\n",
       "      <th>Marital_status</th>\n",
       "      <th>Occupation</th>\n",
       "      <th>Relationship</th>\n",
       "      <th>Race</th>\n",
       "      <th>Sex</th>\n",
       "      <th>Capital_gain</th>\n",
       "      <th>Capital_loss</th>\n",
       "      <th>Hours_per_week</th>\n",
       "      <th>Native_country</th>\n",
       "      <th>Income</th>\n",
       "    </tr>\n",
       "  </thead>\n",
       "  <tbody>\n",
       "    <tr>\n",
       "      <th>0</th>\n",
       "      <td>50</td>\n",
       "      <td>6.0</td>\n",
       "      <td>83311</td>\n",
       "      <td>9.0</td>\n",
       "      <td>13</td>\n",
       "      <td>2.0</td>\n",
       "      <td>4.0</td>\n",
       "      <td>0.0</td>\n",
       "      <td>4.0</td>\n",
       "      <td>1.0</td>\n",
       "      <td>0</td>\n",
       "      <td>0</td>\n",
       "      <td>13</td>\n",
       "      <td>39.0</td>\n",
       "      <td>&lt;=50K</td>\n",
       "    </tr>\n",
       "    <tr>\n",
       "      <th>1</th>\n",
       "      <td>38</td>\n",
       "      <td>4.0</td>\n",
       "      <td>215646</td>\n",
       "      <td>11.0</td>\n",
       "      <td>9</td>\n",
       "      <td>0.0</td>\n",
       "      <td>6.0</td>\n",
       "      <td>1.0</td>\n",
       "      <td>4.0</td>\n",
       "      <td>1.0</td>\n",
       "      <td>0</td>\n",
       "      <td>0</td>\n",
       "      <td>40</td>\n",
       "      <td>39.0</td>\n",
       "      <td>&lt;=50K</td>\n",
       "    </tr>\n",
       "    <tr>\n",
       "      <th>2</th>\n",
       "      <td>53</td>\n",
       "      <td>4.0</td>\n",
       "      <td>234721</td>\n",
       "      <td>1.0</td>\n",
       "      <td>7</td>\n",
       "      <td>2.0</td>\n",
       "      <td>6.0</td>\n",
       "      <td>0.0</td>\n",
       "      <td>2.0</td>\n",
       "      <td>1.0</td>\n",
       "      <td>0</td>\n",
       "      <td>0</td>\n",
       "      <td>40</td>\n",
       "      <td>39.0</td>\n",
       "      <td>&lt;=50K</td>\n",
       "    </tr>\n",
       "    <tr>\n",
       "      <th>3</th>\n",
       "      <td>28</td>\n",
       "      <td>4.0</td>\n",
       "      <td>338409</td>\n",
       "      <td>9.0</td>\n",
       "      <td>13</td>\n",
       "      <td>2.0</td>\n",
       "      <td>10.0</td>\n",
       "      <td>5.0</td>\n",
       "      <td>2.0</td>\n",
       "      <td>0.0</td>\n",
       "      <td>0</td>\n",
       "      <td>0</td>\n",
       "      <td>40</td>\n",
       "      <td>5.0</td>\n",
       "      <td>&lt;=50K</td>\n",
       "    </tr>\n",
       "    <tr>\n",
       "      <th>4</th>\n",
       "      <td>37</td>\n",
       "      <td>4.0</td>\n",
       "      <td>284582</td>\n",
       "      <td>12.0</td>\n",
       "      <td>14</td>\n",
       "      <td>2.0</td>\n",
       "      <td>4.0</td>\n",
       "      <td>5.0</td>\n",
       "      <td>4.0</td>\n",
       "      <td>0.0</td>\n",
       "      <td>0</td>\n",
       "      <td>0</td>\n",
       "      <td>40</td>\n",
       "      <td>39.0</td>\n",
       "      <td>&lt;=50K</td>\n",
       "    </tr>\n",
       "  </tbody>\n",
       "</table>\n",
       "</div>"
      ],
      "text/plain": [
       "   Age  Workclass  Fnlwgt  Education  Education_num  Marital_status  \\\n",
       "0   50        6.0   83311        9.0             13             2.0   \n",
       "1   38        4.0  215646       11.0              9             0.0   \n",
       "2   53        4.0  234721        1.0              7             2.0   \n",
       "3   28        4.0  338409        9.0             13             2.0   \n",
       "4   37        4.0  284582       12.0             14             2.0   \n",
       "\n",
       "   Occupation  Relationship  Race  Sex  Capital_gain  Capital_loss  \\\n",
       "0         4.0           0.0   4.0  1.0             0             0   \n",
       "1         6.0           1.0   4.0  1.0             0             0   \n",
       "2         6.0           0.0   2.0  1.0             0             0   \n",
       "3        10.0           5.0   2.0  0.0             0             0   \n",
       "4         4.0           5.0   4.0  0.0             0             0   \n",
       "\n",
       "   Hours_per_week  Native_country  Income  \n",
       "0              13            39.0   <=50K  \n",
       "1              40            39.0   <=50K  \n",
       "2              40            39.0   <=50K  \n",
       "3              40             5.0   <=50K  \n",
       "4              40            39.0   <=50K  "
      ]
     },
     "execution_count": 3,
     "metadata": {},
     "output_type": "execute_result"
    }
   ],
   "source": [
    "#Using ordinal encoder\n",
    "oe=OrdinalEncoder()\n",
    "df1=oe.fit_transform(df[['Workclass']])\n",
    "df['Workclass']=df1\n",
    "df2=oe.fit_transform(df[['Education']])\n",
    "df['Education']=df2\n",
    "df3=oe.fit_transform(df[['Marital_status']])\n",
    "df['Marital_status']=df3\n",
    "df1=oe.fit_transform(df[['Occupation']])\n",
    "df['Occupation']=df1\n",
    "df2=oe.fit_transform(df[['Race']])\n",
    "df['Race']=df2\n",
    "df1=oe.fit_transform(df[['Sex']])\n",
    "df['Sex']=df1\n",
    "df1=oe.fit_transform(df[['Native_country']])\n",
    "df['Native_country']=df1\n",
    "df1=oe.fit_transform(df[['Relationship']])\n",
    "df['Relationship']=df1\n",
    "df.head()"
   ]
  },
  {
   "cell_type": "markdown",
   "id": "6be577c8",
   "metadata": {},
   "source": [
    "## Label Encoding"
   ]
  },
  {
   "cell_type": "code",
   "execution_count": 4,
   "id": "8dc767ff",
   "metadata": {},
   "outputs": [
    {
     "name": "stderr",
     "output_type": "stream",
     "text": [
      "C:\\Users\\user\\anaconda3\\lib\\site-packages\\sklearn\\utils\\validation.py:63: DataConversionWarning: A column-vector y was passed when a 1d array was expected. Please change the shape of y to (n_samples, ), for example using ravel().\n",
      "  return f(*args, **kwargs)\n"
     ]
    },
    {
     "data": {
      "text/html": [
       "<div>\n",
       "<style scoped>\n",
       "    .dataframe tbody tr th:only-of-type {\n",
       "        vertical-align: middle;\n",
       "    }\n",
       "\n",
       "    .dataframe tbody tr th {\n",
       "        vertical-align: top;\n",
       "    }\n",
       "\n",
       "    .dataframe thead th {\n",
       "        text-align: right;\n",
       "    }\n",
       "</style>\n",
       "<table border=\"1\" class=\"dataframe\">\n",
       "  <thead>\n",
       "    <tr style=\"text-align: right;\">\n",
       "      <th></th>\n",
       "      <th>Age</th>\n",
       "      <th>Workclass</th>\n",
       "      <th>Fnlwgt</th>\n",
       "      <th>Education</th>\n",
       "      <th>Education_num</th>\n",
       "      <th>Marital_status</th>\n",
       "      <th>Occupation</th>\n",
       "      <th>Relationship</th>\n",
       "      <th>Race</th>\n",
       "      <th>Sex</th>\n",
       "      <th>Capital_gain</th>\n",
       "      <th>Capital_loss</th>\n",
       "      <th>Hours_per_week</th>\n",
       "      <th>Native_country</th>\n",
       "      <th>Income</th>\n",
       "    </tr>\n",
       "  </thead>\n",
       "  <tbody>\n",
       "    <tr>\n",
       "      <th>0</th>\n",
       "      <td>50</td>\n",
       "      <td>6.0</td>\n",
       "      <td>83311</td>\n",
       "      <td>9.0</td>\n",
       "      <td>13</td>\n",
       "      <td>2.0</td>\n",
       "      <td>4.0</td>\n",
       "      <td>0.0</td>\n",
       "      <td>4.0</td>\n",
       "      <td>1.0</td>\n",
       "      <td>0</td>\n",
       "      <td>0</td>\n",
       "      <td>13</td>\n",
       "      <td>39.0</td>\n",
       "      <td>0</td>\n",
       "    </tr>\n",
       "    <tr>\n",
       "      <th>1</th>\n",
       "      <td>38</td>\n",
       "      <td>4.0</td>\n",
       "      <td>215646</td>\n",
       "      <td>11.0</td>\n",
       "      <td>9</td>\n",
       "      <td>0.0</td>\n",
       "      <td>6.0</td>\n",
       "      <td>1.0</td>\n",
       "      <td>4.0</td>\n",
       "      <td>1.0</td>\n",
       "      <td>0</td>\n",
       "      <td>0</td>\n",
       "      <td>40</td>\n",
       "      <td>39.0</td>\n",
       "      <td>0</td>\n",
       "    </tr>\n",
       "    <tr>\n",
       "      <th>2</th>\n",
       "      <td>53</td>\n",
       "      <td>4.0</td>\n",
       "      <td>234721</td>\n",
       "      <td>1.0</td>\n",
       "      <td>7</td>\n",
       "      <td>2.0</td>\n",
       "      <td>6.0</td>\n",
       "      <td>0.0</td>\n",
       "      <td>2.0</td>\n",
       "      <td>1.0</td>\n",
       "      <td>0</td>\n",
       "      <td>0</td>\n",
       "      <td>40</td>\n",
       "      <td>39.0</td>\n",
       "      <td>0</td>\n",
       "    </tr>\n",
       "    <tr>\n",
       "      <th>3</th>\n",
       "      <td>28</td>\n",
       "      <td>4.0</td>\n",
       "      <td>338409</td>\n",
       "      <td>9.0</td>\n",
       "      <td>13</td>\n",
       "      <td>2.0</td>\n",
       "      <td>10.0</td>\n",
       "      <td>5.0</td>\n",
       "      <td>2.0</td>\n",
       "      <td>0.0</td>\n",
       "      <td>0</td>\n",
       "      <td>0</td>\n",
       "      <td>40</td>\n",
       "      <td>5.0</td>\n",
       "      <td>0</td>\n",
       "    </tr>\n",
       "    <tr>\n",
       "      <th>4</th>\n",
       "      <td>37</td>\n",
       "      <td>4.0</td>\n",
       "      <td>284582</td>\n",
       "      <td>12.0</td>\n",
       "      <td>14</td>\n",
       "      <td>2.0</td>\n",
       "      <td>4.0</td>\n",
       "      <td>5.0</td>\n",
       "      <td>4.0</td>\n",
       "      <td>0.0</td>\n",
       "      <td>0</td>\n",
       "      <td>0</td>\n",
       "      <td>40</td>\n",
       "      <td>39.0</td>\n",
       "      <td>0</td>\n",
       "    </tr>\n",
       "    <tr>\n",
       "      <th>5</th>\n",
       "      <td>49</td>\n",
       "      <td>4.0</td>\n",
       "      <td>160187</td>\n",
       "      <td>6.0</td>\n",
       "      <td>5</td>\n",
       "      <td>3.0</td>\n",
       "      <td>8.0</td>\n",
       "      <td>1.0</td>\n",
       "      <td>2.0</td>\n",
       "      <td>0.0</td>\n",
       "      <td>0</td>\n",
       "      <td>0</td>\n",
       "      <td>16</td>\n",
       "      <td>23.0</td>\n",
       "      <td>0</td>\n",
       "    </tr>\n",
       "    <tr>\n",
       "      <th>6</th>\n",
       "      <td>52</td>\n",
       "      <td>6.0</td>\n",
       "      <td>209642</td>\n",
       "      <td>11.0</td>\n",
       "      <td>9</td>\n",
       "      <td>2.0</td>\n",
       "      <td>4.0</td>\n",
       "      <td>0.0</td>\n",
       "      <td>4.0</td>\n",
       "      <td>1.0</td>\n",
       "      <td>0</td>\n",
       "      <td>0</td>\n",
       "      <td>45</td>\n",
       "      <td>39.0</td>\n",
       "      <td>1</td>\n",
       "    </tr>\n",
       "    <tr>\n",
       "      <th>7</th>\n",
       "      <td>31</td>\n",
       "      <td>4.0</td>\n",
       "      <td>45781</td>\n",
       "      <td>12.0</td>\n",
       "      <td>14</td>\n",
       "      <td>4.0</td>\n",
       "      <td>10.0</td>\n",
       "      <td>1.0</td>\n",
       "      <td>4.0</td>\n",
       "      <td>0.0</td>\n",
       "      <td>14084</td>\n",
       "      <td>0</td>\n",
       "      <td>50</td>\n",
       "      <td>39.0</td>\n",
       "      <td>1</td>\n",
       "    </tr>\n",
       "    <tr>\n",
       "      <th>8</th>\n",
       "      <td>42</td>\n",
       "      <td>4.0</td>\n",
       "      <td>159449</td>\n",
       "      <td>9.0</td>\n",
       "      <td>13</td>\n",
       "      <td>2.0</td>\n",
       "      <td>4.0</td>\n",
       "      <td>0.0</td>\n",
       "      <td>4.0</td>\n",
       "      <td>1.0</td>\n",
       "      <td>5178</td>\n",
       "      <td>0</td>\n",
       "      <td>40</td>\n",
       "      <td>39.0</td>\n",
       "      <td>1</td>\n",
       "    </tr>\n",
       "    <tr>\n",
       "      <th>9</th>\n",
       "      <td>37</td>\n",
       "      <td>4.0</td>\n",
       "      <td>280464</td>\n",
       "      <td>15.0</td>\n",
       "      <td>10</td>\n",
       "      <td>2.0</td>\n",
       "      <td>4.0</td>\n",
       "      <td>0.0</td>\n",
       "      <td>2.0</td>\n",
       "      <td>1.0</td>\n",
       "      <td>0</td>\n",
       "      <td>0</td>\n",
       "      <td>80</td>\n",
       "      <td>39.0</td>\n",
       "      <td>1</td>\n",
       "    </tr>\n",
       "    <tr>\n",
       "      <th>10</th>\n",
       "      <td>30</td>\n",
       "      <td>7.0</td>\n",
       "      <td>141297</td>\n",
       "      <td>9.0</td>\n",
       "      <td>13</td>\n",
       "      <td>2.0</td>\n",
       "      <td>10.0</td>\n",
       "      <td>0.0</td>\n",
       "      <td>1.0</td>\n",
       "      <td>1.0</td>\n",
       "      <td>0</td>\n",
       "      <td>0</td>\n",
       "      <td>40</td>\n",
       "      <td>19.0</td>\n",
       "      <td>1</td>\n",
       "    </tr>\n",
       "    <tr>\n",
       "      <th>11</th>\n",
       "      <td>23</td>\n",
       "      <td>4.0</td>\n",
       "      <td>122272</td>\n",
       "      <td>9.0</td>\n",
       "      <td>13</td>\n",
       "      <td>4.0</td>\n",
       "      <td>1.0</td>\n",
       "      <td>3.0</td>\n",
       "      <td>4.0</td>\n",
       "      <td>0.0</td>\n",
       "      <td>0</td>\n",
       "      <td>0</td>\n",
       "      <td>30</td>\n",
       "      <td>39.0</td>\n",
       "      <td>0</td>\n",
       "    </tr>\n",
       "    <tr>\n",
       "      <th>12</th>\n",
       "      <td>32</td>\n",
       "      <td>4.0</td>\n",
       "      <td>205019</td>\n",
       "      <td>7.0</td>\n",
       "      <td>12</td>\n",
       "      <td>4.0</td>\n",
       "      <td>12.0</td>\n",
       "      <td>1.0</td>\n",
       "      <td>2.0</td>\n",
       "      <td>1.0</td>\n",
       "      <td>0</td>\n",
       "      <td>0</td>\n",
       "      <td>50</td>\n",
       "      <td>39.0</td>\n",
       "      <td>0</td>\n",
       "    </tr>\n",
       "    <tr>\n",
       "      <th>13</th>\n",
       "      <td>40</td>\n",
       "      <td>4.0</td>\n",
       "      <td>121772</td>\n",
       "      <td>8.0</td>\n",
       "      <td>11</td>\n",
       "      <td>2.0</td>\n",
       "      <td>3.0</td>\n",
       "      <td>0.0</td>\n",
       "      <td>1.0</td>\n",
       "      <td>1.0</td>\n",
       "      <td>0</td>\n",
       "      <td>0</td>\n",
       "      <td>40</td>\n",
       "      <td>0.0</td>\n",
       "      <td>1</td>\n",
       "    </tr>\n",
       "    <tr>\n",
       "      <th>14</th>\n",
       "      <td>34</td>\n",
       "      <td>4.0</td>\n",
       "      <td>245487</td>\n",
       "      <td>5.0</td>\n",
       "      <td>4</td>\n",
       "      <td>2.0</td>\n",
       "      <td>14.0</td>\n",
       "      <td>0.0</td>\n",
       "      <td>0.0</td>\n",
       "      <td>1.0</td>\n",
       "      <td>0</td>\n",
       "      <td>0</td>\n",
       "      <td>45</td>\n",
       "      <td>26.0</td>\n",
       "      <td>0</td>\n",
       "    </tr>\n",
       "    <tr>\n",
       "      <th>15</th>\n",
       "      <td>25</td>\n",
       "      <td>6.0</td>\n",
       "      <td>176756</td>\n",
       "      <td>11.0</td>\n",
       "      <td>9</td>\n",
       "      <td>4.0</td>\n",
       "      <td>5.0</td>\n",
       "      <td>3.0</td>\n",
       "      <td>4.0</td>\n",
       "      <td>1.0</td>\n",
       "      <td>0</td>\n",
       "      <td>0</td>\n",
       "      <td>35</td>\n",
       "      <td>39.0</td>\n",
       "      <td>0</td>\n",
       "    </tr>\n",
       "    <tr>\n",
       "      <th>16</th>\n",
       "      <td>32</td>\n",
       "      <td>4.0</td>\n",
       "      <td>186824</td>\n",
       "      <td>11.0</td>\n",
       "      <td>9</td>\n",
       "      <td>4.0</td>\n",
       "      <td>7.0</td>\n",
       "      <td>4.0</td>\n",
       "      <td>4.0</td>\n",
       "      <td>1.0</td>\n",
       "      <td>0</td>\n",
       "      <td>0</td>\n",
       "      <td>40</td>\n",
       "      <td>39.0</td>\n",
       "      <td>0</td>\n",
       "    </tr>\n",
       "    <tr>\n",
       "      <th>17</th>\n",
       "      <td>38</td>\n",
       "      <td>4.0</td>\n",
       "      <td>28887</td>\n",
       "      <td>1.0</td>\n",
       "      <td>7</td>\n",
       "      <td>2.0</td>\n",
       "      <td>12.0</td>\n",
       "      <td>0.0</td>\n",
       "      <td>4.0</td>\n",
       "      <td>1.0</td>\n",
       "      <td>0</td>\n",
       "      <td>0</td>\n",
       "      <td>50</td>\n",
       "      <td>39.0</td>\n",
       "      <td>0</td>\n",
       "    </tr>\n",
       "    <tr>\n",
       "      <th>18</th>\n",
       "      <td>43</td>\n",
       "      <td>6.0</td>\n",
       "      <td>292175</td>\n",
       "      <td>12.0</td>\n",
       "      <td>14</td>\n",
       "      <td>0.0</td>\n",
       "      <td>4.0</td>\n",
       "      <td>4.0</td>\n",
       "      <td>4.0</td>\n",
       "      <td>0.0</td>\n",
       "      <td>0</td>\n",
       "      <td>0</td>\n",
       "      <td>45</td>\n",
       "      <td>39.0</td>\n",
       "      <td>1</td>\n",
       "    </tr>\n",
       "    <tr>\n",
       "      <th>19</th>\n",
       "      <td>40</td>\n",
       "      <td>4.0</td>\n",
       "      <td>193524</td>\n",
       "      <td>10.0</td>\n",
       "      <td>16</td>\n",
       "      <td>2.0</td>\n",
       "      <td>10.0</td>\n",
       "      <td>0.0</td>\n",
       "      <td>4.0</td>\n",
       "      <td>1.0</td>\n",
       "      <td>0</td>\n",
       "      <td>0</td>\n",
       "      <td>60</td>\n",
       "      <td>39.0</td>\n",
       "      <td>1</td>\n",
       "    </tr>\n",
       "  </tbody>\n",
       "</table>\n",
       "</div>"
      ],
      "text/plain": [
       "    Age  Workclass  Fnlwgt  Education  Education_num  Marital_status  \\\n",
       "0    50        6.0   83311        9.0             13             2.0   \n",
       "1    38        4.0  215646       11.0              9             0.0   \n",
       "2    53        4.0  234721        1.0              7             2.0   \n",
       "3    28        4.0  338409        9.0             13             2.0   \n",
       "4    37        4.0  284582       12.0             14             2.0   \n",
       "5    49        4.0  160187        6.0              5             3.0   \n",
       "6    52        6.0  209642       11.0              9             2.0   \n",
       "7    31        4.0   45781       12.0             14             4.0   \n",
       "8    42        4.0  159449        9.0             13             2.0   \n",
       "9    37        4.0  280464       15.0             10             2.0   \n",
       "10   30        7.0  141297        9.0             13             2.0   \n",
       "11   23        4.0  122272        9.0             13             4.0   \n",
       "12   32        4.0  205019        7.0             12             4.0   \n",
       "13   40        4.0  121772        8.0             11             2.0   \n",
       "14   34        4.0  245487        5.0              4             2.0   \n",
       "15   25        6.0  176756       11.0              9             4.0   \n",
       "16   32        4.0  186824       11.0              9             4.0   \n",
       "17   38        4.0   28887        1.0              7             2.0   \n",
       "18   43        6.0  292175       12.0             14             0.0   \n",
       "19   40        4.0  193524       10.0             16             2.0   \n",
       "\n",
       "    Occupation  Relationship  Race  Sex  Capital_gain  Capital_loss  \\\n",
       "0          4.0           0.0   4.0  1.0             0             0   \n",
       "1          6.0           1.0   4.0  1.0             0             0   \n",
       "2          6.0           0.0   2.0  1.0             0             0   \n",
       "3         10.0           5.0   2.0  0.0             0             0   \n",
       "4          4.0           5.0   4.0  0.0             0             0   \n",
       "5          8.0           1.0   2.0  0.0             0             0   \n",
       "6          4.0           0.0   4.0  1.0             0             0   \n",
       "7         10.0           1.0   4.0  0.0         14084             0   \n",
       "8          4.0           0.0   4.0  1.0          5178             0   \n",
       "9          4.0           0.0   2.0  1.0             0             0   \n",
       "10        10.0           0.0   1.0  1.0             0             0   \n",
       "11         1.0           3.0   4.0  0.0             0             0   \n",
       "12        12.0           1.0   2.0  1.0             0             0   \n",
       "13         3.0           0.0   1.0  1.0             0             0   \n",
       "14        14.0           0.0   0.0  1.0             0             0   \n",
       "15         5.0           3.0   4.0  1.0             0             0   \n",
       "16         7.0           4.0   4.0  1.0             0             0   \n",
       "17        12.0           0.0   4.0  1.0             0             0   \n",
       "18         4.0           4.0   4.0  0.0             0             0   \n",
       "19        10.0           0.0   4.0  1.0             0             0   \n",
       "\n",
       "    Hours_per_week  Native_country  Income  \n",
       "0               13            39.0       0  \n",
       "1               40            39.0       0  \n",
       "2               40            39.0       0  \n",
       "3               40             5.0       0  \n",
       "4               40            39.0       0  \n",
       "5               16            23.0       0  \n",
       "6               45            39.0       1  \n",
       "7               50            39.0       1  \n",
       "8               40            39.0       1  \n",
       "9               80            39.0       1  \n",
       "10              40            19.0       1  \n",
       "11              30            39.0       0  \n",
       "12              50            39.0       0  \n",
       "13              40             0.0       1  \n",
       "14              45            26.0       0  \n",
       "15              35            39.0       0  \n",
       "16              40            39.0       0  \n",
       "17              50            39.0       0  \n",
       "18              45            39.0       1  \n",
       "19              60            39.0       1  "
      ]
     },
     "execution_count": 4,
     "metadata": {},
     "output_type": "execute_result"
    }
   ],
   "source": [
    "oe=LabelEncoder()\n",
    "df1=oe.fit_transform(df[['Income']])\n",
    "df['Income']=df1\n",
    "df.head(20)"
   ]
  },
  {
   "cell_type": "markdown",
   "id": "8beeade0",
   "metadata": {},
   "source": [
    "## Describing the data"
   ]
  },
  {
   "cell_type": "code",
   "execution_count": 15,
   "id": "3fa8f203",
   "metadata": {},
   "outputs": [
    {
     "data": {
      "text/html": [
       "<div>\n",
       "<style scoped>\n",
       "    .dataframe tbody tr th:only-of-type {\n",
       "        vertical-align: middle;\n",
       "    }\n",
       "\n",
       "    .dataframe tbody tr th {\n",
       "        vertical-align: top;\n",
       "    }\n",
       "\n",
       "    .dataframe thead th {\n",
       "        text-align: right;\n",
       "    }\n",
       "</style>\n",
       "<table border=\"1\" class=\"dataframe\">\n",
       "  <thead>\n",
       "    <tr style=\"text-align: right;\">\n",
       "      <th></th>\n",
       "      <th>Age</th>\n",
       "      <th>Workclass</th>\n",
       "      <th>Fnlwgt</th>\n",
       "      <th>Education</th>\n",
       "      <th>Education_num</th>\n",
       "      <th>Marital_status</th>\n",
       "      <th>Occupation</th>\n",
       "      <th>Relationship</th>\n",
       "      <th>Race</th>\n",
       "      <th>Sex</th>\n",
       "      <th>Capital_gain</th>\n",
       "      <th>Capital_loss</th>\n",
       "      <th>Hours_per_week</th>\n",
       "      <th>Native_country</th>\n",
       "      <th>Income</th>\n",
       "    </tr>\n",
       "  </thead>\n",
       "  <tbody>\n",
       "    <tr>\n",
       "      <th>count</th>\n",
       "      <td>32560.000000</td>\n",
       "      <td>32560.000000</td>\n",
       "      <td>3.256000e+04</td>\n",
       "      <td>32560.000000</td>\n",
       "      <td>32560.000000</td>\n",
       "      <td>32560.000000</td>\n",
       "      <td>32560.000000</td>\n",
       "      <td>32560.000000</td>\n",
       "      <td>32560.000000</td>\n",
       "      <td>32560.000000</td>\n",
       "      <td>32560.000000</td>\n",
       "      <td>32560.000000</td>\n",
       "      <td>32560.000000</td>\n",
       "      <td>32560.000000</td>\n",
       "      <td>32560.000000</td>\n",
       "    </tr>\n",
       "    <tr>\n",
       "      <th>mean</th>\n",
       "      <td>38.581634</td>\n",
       "      <td>3.868796</td>\n",
       "      <td>1.897818e+05</td>\n",
       "      <td>10.298249</td>\n",
       "      <td>10.080590</td>\n",
       "      <td>2.611794</td>\n",
       "      <td>6.572912</td>\n",
       "      <td>1.446376</td>\n",
       "      <td>3.665848</td>\n",
       "      <td>0.669195</td>\n",
       "      <td>1077.615172</td>\n",
       "      <td>87.306511</td>\n",
       "      <td>40.437469</td>\n",
       "      <td>36.718796</td>\n",
       "      <td>0.240817</td>\n",
       "    </tr>\n",
       "    <tr>\n",
       "      <th>std</th>\n",
       "      <td>13.640642</td>\n",
       "      <td>1.455879</td>\n",
       "      <td>1.055498e+05</td>\n",
       "      <td>3.870317</td>\n",
       "      <td>2.572709</td>\n",
       "      <td>1.506225</td>\n",
       "      <td>4.228809</td>\n",
       "      <td>1.606794</td>\n",
       "      <td>0.848817</td>\n",
       "      <td>0.470510</td>\n",
       "      <td>7385.402999</td>\n",
       "      <td>402.966116</td>\n",
       "      <td>12.347618</td>\n",
       "      <td>7.823892</td>\n",
       "      <td>0.427586</td>\n",
       "    </tr>\n",
       "    <tr>\n",
       "      <th>min</th>\n",
       "      <td>17.000000</td>\n",
       "      <td>0.000000</td>\n",
       "      <td>1.228500e+04</td>\n",
       "      <td>0.000000</td>\n",
       "      <td>1.000000</td>\n",
       "      <td>0.000000</td>\n",
       "      <td>0.000000</td>\n",
       "      <td>0.000000</td>\n",
       "      <td>0.000000</td>\n",
       "      <td>0.000000</td>\n",
       "      <td>0.000000</td>\n",
       "      <td>0.000000</td>\n",
       "      <td>1.000000</td>\n",
       "      <td>0.000000</td>\n",
       "      <td>0.000000</td>\n",
       "    </tr>\n",
       "    <tr>\n",
       "      <th>25%</th>\n",
       "      <td>28.000000</td>\n",
       "      <td>4.000000</td>\n",
       "      <td>1.178315e+05</td>\n",
       "      <td>9.000000</td>\n",
       "      <td>9.000000</td>\n",
       "      <td>2.000000</td>\n",
       "      <td>3.000000</td>\n",
       "      <td>0.000000</td>\n",
       "      <td>4.000000</td>\n",
       "      <td>0.000000</td>\n",
       "      <td>0.000000</td>\n",
       "      <td>0.000000</td>\n",
       "      <td>40.000000</td>\n",
       "      <td>39.000000</td>\n",
       "      <td>0.000000</td>\n",
       "    </tr>\n",
       "    <tr>\n",
       "      <th>50%</th>\n",
       "      <td>37.000000</td>\n",
       "      <td>4.000000</td>\n",
       "      <td>1.783630e+05</td>\n",
       "      <td>11.000000</td>\n",
       "      <td>10.000000</td>\n",
       "      <td>2.000000</td>\n",
       "      <td>7.000000</td>\n",
       "      <td>1.000000</td>\n",
       "      <td>4.000000</td>\n",
       "      <td>1.000000</td>\n",
       "      <td>0.000000</td>\n",
       "      <td>0.000000</td>\n",
       "      <td>40.000000</td>\n",
       "      <td>39.000000</td>\n",
       "      <td>0.000000</td>\n",
       "    </tr>\n",
       "    <tr>\n",
       "      <th>75%</th>\n",
       "      <td>48.000000</td>\n",
       "      <td>4.000000</td>\n",
       "      <td>2.370545e+05</td>\n",
       "      <td>12.000000</td>\n",
       "      <td>12.000000</td>\n",
       "      <td>4.000000</td>\n",
       "      <td>10.000000</td>\n",
       "      <td>3.000000</td>\n",
       "      <td>4.000000</td>\n",
       "      <td>1.000000</td>\n",
       "      <td>0.000000</td>\n",
       "      <td>0.000000</td>\n",
       "      <td>45.000000</td>\n",
       "      <td>39.000000</td>\n",
       "      <td>0.000000</td>\n",
       "    </tr>\n",
       "    <tr>\n",
       "      <th>max</th>\n",
       "      <td>90.000000</td>\n",
       "      <td>8.000000</td>\n",
       "      <td>1.484705e+06</td>\n",
       "      <td>15.000000</td>\n",
       "      <td>16.000000</td>\n",
       "      <td>6.000000</td>\n",
       "      <td>14.000000</td>\n",
       "      <td>5.000000</td>\n",
       "      <td>4.000000</td>\n",
       "      <td>1.000000</td>\n",
       "      <td>99999.000000</td>\n",
       "      <td>4356.000000</td>\n",
       "      <td>99.000000</td>\n",
       "      <td>41.000000</td>\n",
       "      <td>1.000000</td>\n",
       "    </tr>\n",
       "  </tbody>\n",
       "</table>\n",
       "</div>"
      ],
      "text/plain": [
       "                Age     Workclass        Fnlwgt     Education  Education_num  \\\n",
       "count  32560.000000  32560.000000  3.256000e+04  32560.000000   32560.000000   \n",
       "mean      38.581634      3.868796  1.897818e+05     10.298249      10.080590   \n",
       "std       13.640642      1.455879  1.055498e+05      3.870317       2.572709   \n",
       "min       17.000000      0.000000  1.228500e+04      0.000000       1.000000   \n",
       "25%       28.000000      4.000000  1.178315e+05      9.000000       9.000000   \n",
       "50%       37.000000      4.000000  1.783630e+05     11.000000      10.000000   \n",
       "75%       48.000000      4.000000  2.370545e+05     12.000000      12.000000   \n",
       "max       90.000000      8.000000  1.484705e+06     15.000000      16.000000   \n",
       "\n",
       "       Marital_status    Occupation  Relationship          Race           Sex  \\\n",
       "count    32560.000000  32560.000000  32560.000000  32560.000000  32560.000000   \n",
       "mean         2.611794      6.572912      1.446376      3.665848      0.669195   \n",
       "std          1.506225      4.228809      1.606794      0.848817      0.470510   \n",
       "min          0.000000      0.000000      0.000000      0.000000      0.000000   \n",
       "25%          2.000000      3.000000      0.000000      4.000000      0.000000   \n",
       "50%          2.000000      7.000000      1.000000      4.000000      1.000000   \n",
       "75%          4.000000     10.000000      3.000000      4.000000      1.000000   \n",
       "max          6.000000     14.000000      5.000000      4.000000      1.000000   \n",
       "\n",
       "       Capital_gain  Capital_loss  Hours_per_week  Native_country  \\\n",
       "count  32560.000000  32560.000000    32560.000000    32560.000000   \n",
       "mean    1077.615172     87.306511       40.437469       36.718796   \n",
       "std     7385.402999    402.966116       12.347618        7.823892   \n",
       "min        0.000000      0.000000        1.000000        0.000000   \n",
       "25%        0.000000      0.000000       40.000000       39.000000   \n",
       "50%        0.000000      0.000000       40.000000       39.000000   \n",
       "75%        0.000000      0.000000       45.000000       39.000000   \n",
       "max    99999.000000   4356.000000       99.000000       41.000000   \n",
       "\n",
       "             Income  \n",
       "count  32560.000000  \n",
       "mean       0.240817  \n",
       "std        0.427586  \n",
       "min        0.000000  \n",
       "25%        0.000000  \n",
       "50%        0.000000  \n",
       "75%        0.000000  \n",
       "max        1.000000  "
      ]
     },
     "execution_count": 15,
     "metadata": {},
     "output_type": "execute_result"
    }
   ],
   "source": [
    "df.describe()"
   ]
  },
  {
   "cell_type": "code",
   "execution_count": 16,
   "id": "87cf1abb",
   "metadata": {},
   "outputs": [
    {
     "data": {
      "text/plain": [
       "<AxesSubplot:>"
      ]
     },
     "execution_count": 16,
     "metadata": {},
     "output_type": "execute_result"
    },
    {
     "data": {
      "image/png": "[encoded data removed]",
      "text/plain": [
       "<Figure size 1440x720 with 2 Axes>"
      ]
     },
     "metadata": {
      "needs_background": "light"
     },
     "output_type": "display_data"
    }
   ],
   "source": [
    "# Plotting heat map for better analysis\n",
    "plt.figure(figsize=(20,10))\n",
    "sns.heatmap(df.corr().abs(),annot=True,linewidth=0.5,linecolor='black',fmt='.2f')"
   ]
  },
  {
   "cell_type": "markdown",
   "id": "18e1577e",
   "metadata": {},
   "source": [
    "Observation: Multicollinearity doesnot seems to exists but still we will check using VIF."
   ]
  },
  {
   "cell_type": "markdown",
   "id": "cbd532d3",
   "metadata": {},
   "source": [
    "## Checking Outliers"
   ]
  },
  {
   "cell_type": "code",
   "execution_count": 19,
   "id": "cf304ad0",
   "metadata": {},
   "outputs": [
    {
     "data": {
      "image/png": "[encoded data removed]",
      "text/plain": [
       "<Figure size 2160x6480 with 5 Axes>"
      ]
     },
     "metadata": {
      "needs_background": "light"
     },
     "output_type": "display_data"
    }
   ],
   "source": [
    "col=['Age','Fnlwgt','Capital_gain','Capital_loss','Hours_per_week']\n",
    "plt.figure(figsize=(30,90))\n",
    "for i in range(len(col)):\n",
    "    plt.subplot(10,10,i+1)\n",
    "    sns.boxplot(data=df[col[i]],color='green',orient='v')\n",
    "    plt.xlabel(col[i],fontsize=20)\n",
    "    plt.tight_layout()"
   ]
  },
  {
   "cell_type": "markdown",
   "id": "d7becafd",
   "metadata": {},
   "source": [
    "Observation: We could see outliers in all the continuous features."
   ]
  },
  {
   "cell_type": "markdown",
   "id": "85d5ff03",
   "metadata": {},
   "source": [
    "## Checking Skewness"
   ]
  },
  {
   "cell_type": "code",
   "execution_count": 20,
   "id": "cc029c01",
   "metadata": {
    "scrolled": false
   },
   "outputs": [
    {
     "data": {
      "text/plain": [
       "Age                0.558738\n",
       "Workclass         -0.752280\n",
       "Fnlwgt             1.446972\n",
       "Education         -0.934063\n",
       "Education_num     -0.311630\n",
       "Marital_status    -0.013448\n",
       "Occupation         0.114540\n",
       "Relationship       0.786784\n",
       "Race              -2.435332\n",
       "Sex               -0.719244\n",
       "Capital_gain      11.953690\n",
       "Capital_loss       4.594549\n",
       "Hours_per_week     0.227636\n",
       "Native_country    -3.658235\n",
       "Income             1.212383\n",
       "dtype: float64"
      ]
     },
     "execution_count": 20,
     "metadata": {},
     "output_type": "execute_result"
    }
   ],
   "source": [
    "df.skew()"
   ]
  },
  {
   "cell_type": "markdown",
   "id": "0313508d",
   "metadata": {},
   "source": [
    "Observation: We could see skewness in Age,Fnlwgt,Capital_gain,Capital_loss taking optimal skewness range as (-0.5,0.5)."
   ]
  },
  {
   "cell_type": "code",
   "execution_count": 22,
   "id": "20963d07",
   "metadata": {
    "scrolled": true
   },
   "outputs": [
    {
     "data": {
      "image/png": "[encoded data removed]",
      "text/plain": [
       "<Figure size 720x360 with 1 Axes>"
      ]
     },
     "metadata": {
      "needs_background": "light"
     },
     "output_type": "display_data"
    },
    {
     "data": {
      "image/png": "[encoded data removed]",
      "text/plain": [
       "<Figure size 720x360 with 1 Axes>"
      ]
     },
     "metadata": {
      "needs_background": "light"
     },
     "output_type": "display_data"
    },
    {
     "data": {
      "image/png": "[encoded data removed]",
      "text/plain": [
       "<Figure size 720x360 with 1 Axes>"
      ]
     },
     "metadata": {
      "needs_background": "light"
     },
     "output_type": "display_data"
    },
    {
     "data": {
      "image/png": "[encoded data removed]",
      "text/plain": [
       "<Figure size 720x360 with 1 Axes>"
      ]
     },
     "metadata": {
      "needs_background": "light"
     },
     "output_type": "display_data"
    },
    {
     "data": {
      "image/png": "[encoded data removed]",
      "text/plain": [
       "<Figure size 720x360 with 1 Axes>"
      ]
     },
     "metadata": {
      "needs_background": "light"
     },
     "output_type": "display_data"
    }
   ],
   "source": [
    "# Ploting Distribution plot to cross check skewness\n",
    "import warnings\n",
    "warnings.filterwarnings('ignore')\n",
    "\n",
    "# for feature Length\n",
    "for i in range(len(col)):\n",
    "    plt.figure(figsize=(10,5))\n",
    "    sns.distplot(df[col[i]])\n",
    "    plt.xlabel(col[i],fontsize=10)"
   ]
  },
  {
   "cell_type": "markdown",
   "id": "a67577a1",
   "metadata": {},
   "source": [
    "Our observation was correct all the above features are skewed."
   ]
  },
  {
   "cell_type": "markdown",
   "id": "1939a00e",
   "metadata": {},
   "source": [
    "## Treating outliers"
   ]
  },
  {
   "cell_type": "code",
   "execution_count": 6,
   "id": "ab622564",
   "metadata": {},
   "outputs": [
    {
     "name": "stdout",
     "output_type": "stream",
     "text": [
      "Outliers index-\n",
      " {9, 8210, 16403, 22, 8217, 27, 31, 8223, 36, 16421, 39, 8236, 51, 24637, 8255, 8257, 16454, 76, 8269, 8275, 8281, 92, 95, 8288, 24671, 24672, 105, 111, 16504, 125, 8320, 130, 16515, 8326, 142, 147, 16534, 8344, 24731, 156, 24734, 24743, 169, 171, 8372, 181, 8374, 188, 8380, 191, 16577, 24771, 199, 8391, 8392, 202, 16584, 16592, 8401, 24789, 214, 8406, 24790, 8409, 16602, 16603, 221, 24798, 16607, 229, 24809, 8430, 8432, 243, 16630, 247, 8441, 8446, 16648, 24846, 271, 24847, 24849, 16659, 8472, 24858, 8475, 16668, 16670, 24863, 8484, 24868, 8488, 298, 24882, 8499, 311, 8504, 320, 24900, 24901, 326, 16715, 16720, 8529, 24914, 8540, 8545, 16738, 16739, 16740, 8550, 24935, 362, 8554, 8568, 16761, 380, 386, 8583, 24967, 403, 404, 16787, 24982, 407, 16791, 24983, 16796, 413, 24988, 8609, 16805, 425, 16809, 8619, 429, 433, 16817, 8627, 8631, 8633, 16826, 8653, 25038, 8657, 25041, 467, 8668, 25056, 16867, 8677, 8679, 16875, 25074, 8693, 25077, 507, 509, 8703, 16900, 8709, 8710, 519, 8711, 16914, 25109, 8728, 25117, 8736, 16930, 8739, 8741, 8744, 25129, 25134, 25145, 572, 25149, 16959, 587, 588, 8779, 8787, 596, 25174, 25177, 8795, 8797, 16990, 16991, 8805, 16999, 25198, 8820, 8822, 17027, 650, 17038, 17050, 667, 668, 17053, 25250, 25252, 8882, 696, 25274, 700, 703, 25286, 25287, 8905, 25289, 8911, 720, 17109, 25302, 8920, 731, 17115, 25308, 25310, 25327, 25330, 17139, 25334, 25336, 8962, 25353, 780, 8972, 17164, 785, 25363, 8987, 25371, 798, 17183, 800, 25377, 8997, 8999, 17192, 9012, 17204, 25396, 823, 25398, 9017, 826, 25407, 25416, 17227, 17228, 9039, 9045, 25437, 9057, 25443, 17252, 17253, 872, 25451, 17263, 25455, 17268, 9085, 17282, 17285, 17288, 17295, 913, 25490, 917, 9123, 17315, 934, 936, 9128, 17329, 946, 17332, 9141, 9146, 17341, 9150, 17345, 962, 25539, 971, 25547, 9165, 25550, 9172, 17367, 989, 9183, 17381, 1000, 17387, 17388, 9197, 25579, 1011, 17396, 17403, 25600, 9217, 25601, 1030, 9224, 1033, 1034, 1035, 9226, 9227, 25610, 1039, 17424, 25612, 9234, 9236, 25621, 1048, 17435, 25628, 9247, 17439, 1057, 25632, 9251, 25633, 25636, 1063, 1065, 1070, 1072, 1075, 9274, 1097, 17481, 9291, 25673, 1101, 25676, 25679, 17489, 9305, 1114, 17499, 9308, 17504, 9321, 25712, 25716, 25723, 1150, 17534, 17537, 17539, 9354, 1163, 1167, 1171, 25757, 9377, 1199, 9396, 9397, 25786, 9405, 9406, 25792, 25795, 25798, 25799, 17610, 25802, 17612, 1229, 25805, 17626, 25818, 1245, 9437, 9438, 17633, 1253, 25830, 17643, 1261, 25840, 1265, 17649, 1271, 25850, 1275, 9470, 1279, 17664, 9473, 25861, 17673, 1290, 17677, 1294, 17681, 17684, 17688, 9502, 17695, 25888, 1313, 25901, 9518, 17714, 25913, 17733, 1354, 17742, 25937, 9558, 1367, 17754, 17768, 1386, 17770, 9581, 1390, 1391, 25966, 17782, 17788, 25985, 1410, 1416, 17803, 17805, 9615, 17808, 1428, 17814, 17819, 26011, 9630, 1439, 9631, 17825, 1443, 17833, 1453, 26030, 1457, 1465, 9672, 1481, 9675, 1485, 17869, 1496, 1499, 26076, 26082, 9699, 17896, 1517, 9714, 1523, 9716, 9717, 26100, 1527, 26109, 1540, 9735, 26119, 1547, 9740, 9747, 17944, 1561, 9753, 9755, 17948, 9759, 26144, 1570, 9765, 26154, 17970, 17974, 26166, 1596, 26181, 9799, 26185, 26189, 1615, 9809, 9810, 1620, 18008, 1627, 18012, 18014, 9830, 26225, 18035, 18036, 9846, 1659, 9857, 9859, 9864, 26249, 9867, 9872, 1681, 26256, 1683, 1684, 18067, 1686, 18069, 26264, 9883, 18075, 26267, 1694, 18079, 26273, 26282, 1708, 26295, 18112, 1729, 26309, 26311, 1736, 18125, 26323, 18132, 26325, 18137, 26331, 18141, 18143, 18145, 1763, 1764, 18148, 26345, 1770, 26349, 1776, 9977, 18182, 18184, 18193, 10006, 1815, 26395, 1823, 26399, 1825, 26413, 26414, 1840, 10034, 1846, 10040, 26428, 18238, 26441, 10059, 10062, 26454, 26456, 1882, 1886, 18271, 18274, 18276, 1899, 26476, 1914, 10113, 26497, 18308, 1925, 1926, 26503, 1928, 18313, 18314, 10123, 10125, 1934, 18325, 18327, 1944, 10136, 10142, 26545, 1970, 26548, 18357, 18363, 1986, 18371, 26570, 18379, 26572, 2009, 18395, 2013, 2014, 2016, 10208, 10209, 26592, 26595, 26598, 18407, 18411, 18412, 2029, 18417, 18420, 2047, 10240, 26626, 10247, 26637, 2062, 2064, 10259, 18452, 10262, 10265, 26649, 10267, 10268, 18462, 10276, 26669, 2094, 10288, 2102, 2105, 2111, 2115, 26694, 26696, 26709, 26715, 18526, 26724, 10342, 2152, 26730, 18544, 10365, 18559, 26751, 26755, 10376, 26772, 26779, 18590, 10399, 26789, 18600, 18602, 26796, 2239, 18629, 26823, 26824, 10441, 2258, 26835, 26842, 10460, 18653, 26844, 2271, 18656, 18657, 2274, 10467, 26852, 26853, 26857, 2289, 10481, 26866, 10484, 18677, 10486, 26870, 2302, 2303, 26879, 10497, 10498, 10499, 26881, 10501, 26886, 26889, 18701, 2318, 18704, 18706, 2324, 18711, 2329, 2332, 2333, 18724, 2341, 18728, 2346, 10543, 10544, 2357, 2360, 26942, 2368, 10563, 2378, 18763, 2381, 26958, 10575, 26962, 18772, 2391, 18775, 2394, 2395, 2398, 26978, 26980, 26981, 10598, 26987, 18796, 2413, 26994, 2419, 2420, 10611, 26997, 10615, 18807, 2425, 2428, 18817, 10626, 10632, 18824, 2443, 27021, 27022, 18831, 27027, 18846, 18847, 27038, 10658, 2467, 10660, 18851, 2472, 18857, 18858, 18859, 18870, 18873, 18880, 18881, 2500, 27076, 27087, 18909, 2526, 10718, 18912, 10726, 10727, 10740, 10755, 10770, 18965, 27163, 18974, 27166, 2593, 18979, 27174, 27179, 18988, 2606, 18990, 19006, 2629, 19015, 27220, 27221, 10840, 27228, 10847, 27232, 10849, 19044, 27239, 19052, 27244, 2674, 27251, 10878, 10881, 27267, 19079, 19083, 19089, 2706, 27288, 27294, 10913, 2734, 2742, 10937, 19132, 2753, 27329, 2755, 19139, 19140, 2759, 2760, 10953, 10956, 2769, 10961, 10963, 10964, 27348, 2774, 19159, 27352, 19165, 27357, 2783, 19168, 19171, 27364, 10985, 2795, 19179, 27376, 11002, 2812, 27389, 11006, 2823, 19210, 19211, 11022, 2832, 19218, 19220, 27412, 19223, 2840, 2842, 2849, 11041, 19235, 27428, 27429, 11046, 2858, 11055, 11058, 19251, 11065, 27449, 11068, 11076, 11079, 2890, 11090, 2899, 2900, 11092, 2903, 2905, 19295, 27489, 11106, 2919, 27495, 2924, 19308, 11119, 2931, 19316, 11125, 2934, 2935, 11127, 11134, 19332, 2950, 19336, 2958, 19345, 2962, 11156, 19352, 19355, 27550, 2976, 11170, 19362, 11184, 27576, 27581, 19390, 19392, 11203, 19398, 27593, 11211, 3020, 3023, 3026, 27604, 3030, 27607, 11225, 19418, 27610, 11228, 11229, 19426, 3044, 11237, 11244, 19437, 27634, 19445, 11254, 19447, 27639, 19449, 27644, 27646, 19458, 11269, 27654, 27659, 3084, 3090, 3091, 11283, 19482, 3100, 19486, 3104, 3105, 19488, 27681, 19494, 11313, 3124, 19510, 11320, 19514, 11324, 11327, 3136, 3142, 11335, 19528, 19530, 11342, 19534, 27726, 27731, 19542, 27736, 11362, 3174, 19562, 11378, 27763, 11383, 3192, 27770, 11392, 3205, 19590, 3210, 3211, 11409, 27794, 3220, 19607, 3224, 19608, 27808, 27812, 19629, 27822, 3248, 27824, 27830, 3256, 11450, 3259, 11452, 19645, 27838, 27842, 19651, 11460, 19653, 19654, 27849, 27858, 3290, 11484, 11491, 3301, 3302, 19688, 11497, 11502, 19700, 3318, 11511, 19708, 3325, 27902, 11524, 11529, 27914, 27915, 3342, 19730, 27924, 27925, 3350, 19739, 27932, 27933, 19746, 19748, 19749, 3367, 11577, 11579, 19776, 11585, 19777, 27972, 27978, 3408, 19803, 19806, 19809, 19832, 11643, 19851, 28043, 28045, 28053, 11672, 3487, 19872, 28067, 28068, 3501, 11694, 19895, 19896, 11707, 19899, 19900, 11716, 28107, 28111, 3536, 11728, 11730, 28115, 11732, 19924, 3542, 11740, 3551, 19941, 19943, 19944, 28137, 28142, 11759, 3568, 19951, 3570, 3573, 3574, 3577, 28153, 3582, 19967, 28160, 11778, 11786, 28171, 28172, 3601, 11796, 11797, 19994, 3611, 19996, 28192, 28197, 28199, 28201, 3628, 11825, 28213, 3638, 11832, 11834, 11835, 28220, 20035, 3654, 20042, 28242, 20054, 20071, 28263, 3690, 11883, 3696, 3708, 11901, 20092, 11903, 20101, 3718, 28293, 3723, 28302, 11919, 3737, 11930, 28317, 3743, 3746, 3748, 3754, 28332, 28336, 11953, 11954, 20147, 28344, 28347, 3772, 28348, 3776, 11975, 11976, 3785, 28362, 11980, 20175, 28373, 11992, 28378, 11995, 20190, 20197, 20198, 12007, 28391, 20206, 20212, 3830, 28410, 3835, 12027, 12030, 28422, 28423, 3849, 12048, 12049, 20240, 3859, 20242, 3861, 12054, 28432, 20248, 12059, 3869, 12061, 20253, 12077, 28462, 3892, 20282, 3899, 12092, 28477, 28478, 3904, 3905, 20289, 3908, 20293, 20297, 20300, 20309, 12118, 12119, 28508, 20317, 28518, 12140, 28524, 3950, 28526, 3955, 12147, 3962, 3963, 12154, 3965, 3967, 12164, 28549, 12172, 12173, 3982, 12176, 3996, 28573, 12193, 12208, 4017, 28593, 28595, 4030, 20415, 20416, 20420, 20425, 20428, 28624, 20434, 20438, 4059, 20443, 28640, 4069, 12262, 20455, 4074, 28651, 4077, 20462, 20464, 12275, 28660, 4085, 4090, 28668, 4096, 20481, 28675, 4100, 20484, 20487, 12298, 4108, 28689, 4123, 12315, 20511, 20512, 4130, 4136, 12329, 12331, 12335, 28720, 28721, 20530, 20535, 28729, 20540, 28744, 28746, 4171, 4176, 20562, 12373, 12375, 20567, 12380, 20577, 12386, 20578, 4200, 12393, 20587, 20592, 20595, 12411, 20605, 12414, 20607, 28800, 20609, 20612, 4235, 12434, 4244, 12446, 28832, 12450, 4266, 4277, 4284, 28860, 4293, 12485, 28873, 12491, 4304, 4307, 4311, 20695, 20701, 12510, 12511, 20702, 4321, 28895, 28897, 12519, 4336, 28914, 12532, 20724, 28916, 12538, 4347, 20735, 28939, 20755, 28947, 4373, 28950, 4375, 28951, 4379, 12572, 20763, 28956, 20769, 4388, 12582, 12583, 12588, 4397, 12593, 12594, 12599, 28986, 4420, 12616, 12624, 4440, 20825, 29016, 12654, 4464, 20849, 20852, 4470, 4480, 12676, 20869, 20877, 20878, 12692, 29076, 20888, 29083, 12701, 29090, 29092, 20901, 29096, 20908, 29112, 12745, 4558, 4567, 12759, 20952, 4570, 4572, 29149, 29151, 20960, 12770, 20968, 29163, 12787, 20983, 12792, 20986, 20994, 29186, 29187, 12806, 29196, 29197, 4624, 21012, 4631, 12829, 12830, 21024, 21031, 12845, 12846, 4655, 21039, 29240, 21055, 21063, 12874, 12875, 29262, 21071, 12881, 4696, 21081, 29272, 12895, 12898, 29291, 4716, 12908, 21103, 21106, 4725, 12917, 21111, 4728, 12923, 4735, 4741, 12936, 29321, 21146, 4763, 4767, 21154, 29346, 12965, 4777, 12971, 12972, 12974, 4783, 12978, 21171, 21187, 4804, 4809, 13004, 29396, 13016, 13017, 29406, 13024, 4833, 13025, 4839, 29430, 29436, 4861, 29437, 4863, 4864, 21248, 29439, 29445, 4873, 13067, 29458, 21272, 4896, 4897, 4898, 21280, 21282, 13093, 4902, 21287, 21292, 29484, 21295, 29489, 29491, 13108, 21304, 13116, 29507, 29509, 4937, 13131, 4952, 13145, 29531, 21349, 4966, 21350, 4971, 4972, 21356, 29557, 21372, 13185, 13186, 4999, 5000, 13193, 21385, 29577, 29586, 21398, 13208, 29593, 29598, 5023, 29607, 5032, 13229, 13234, 5043, 13235, 21427, 13239, 5052, 29628, 29634, 13261, 21465, 29659, 5084, 29663, 21477, 5097, 21481, 29675, 13294, 5103, 21488, 5105, 29682, 29687, 29688, 13306, 29690, 21500, 29694, 5122, 13327, 5136, 21520, 29717, 5143, 13335, 13336, 21530, 13339, 29723, 29730, 21539, 29732, 29745, 5171, 29747, 13365, 29750, 13367, 21559, 13369, 29751, 5183, 5189, 21576, 29771, 5196, 21581, 29774, 5201, 29786, 29789, 13406, 13409, 13421, 29805, 5237, 21623, 5241, 13435, 21637, 13453, 13454, 29838, 5266, 21651, 21652, 5271, 29851, 5277, 13478, 5290, 29866, 5297, 5304, 13498, 5308, 13504, 13505, 29891, 13520, 29908, 13526, 29913, 21724, 21725, 13534, 29916, 29922, 5349, 29927, 21736, 5354, 13546, 13557, 29941, 21751, 5368, 5369, 5375, 29953, 29962, 13579, 29966, 5392, 21778, 29970, 5396, 5405, 21789, 29981, 21792, 5409, 29988, 5416, 5418, 21803, 5422, 5424, 13616, 13618, 21811, 30001, 30005, 5431, 13624, 30010, 13630, 21830, 21834, 30035, 21844, 21850, 5467, 13659, 21851, 21854, 30046, 5472, 21858, 30050, 21861, 13678, 30062, 5488, 30071, 30072, 13690, 21883, 13693, 30078, 13695, 5504, 5506, 21891, 13706, 30103, 5529, 13721, 30115, 30116, 5552, 13747, 13748, 13753, 21948, 21952, 13762, 21960, 21968, 13778, 5587, 21970, 5589, 5591, 5593, 13789, 5601, 30177, 13795, 30181, 21991, 21999, 5621, 30199, 30204, 5631, 22016, 13826, 13835, 30222, 13839, 22031, 30224, 30231, 22040, 5657, 5660, 13853, 13857, 22051, 5668, 30243, 30245, 5681, 30257, 30272, 22081, 13894, 30282, 30283, 5712, 13904, 30293, 5726, 30306, 13927, 13931, 22129, 13944, 22139, 5763, 30339, 5765, 13959, 30347, 5776, 13974, 30359, 13986, 30372, 13994, 13996, 22189, 22190, 5807, 22203, 22215, 22217, 22219, 30417, 30422, 5848, 22236, 30430, 14050, 22247, 14065, 5876, 22271, 22274, 30475, 22284, 14095, 30480, 5908, 22292, 22294, 14103, 5915, 30495, 30496, 30497, 14116, 5926, 22312, 22313, 22316, 22319, 5945, 30521, 30527, 14147, 5956, 22341, 30531, 30538, 5964, 14158, 14160, 22360, 5978, 30554, 30558, 22384, 6001, 22386, 22389, 22390, 30583, 14202, 6017, 30600, 14219, 14223, 30609, 6034, 14226, 22422, 22427, 14237, 30631, 22440, 14258, 22450, 30642, 6069, 22461, 6081, 6083, 14276, 22477, 6095, 22480, 6100, 14293, 30682, 14301, 30685, 14303, 30689, 30693, 14313, 6124, 6140, 30717, 6143, 30726, 30734, 6166, 22556, 30748, 14367, 30753, 6179, 30759, 22568, 22569, 30760, 30761, 30765, 30767, 30768, 14389, 30780, 22593, 6212, 6213, 14405, 14407, 6216, 6217, 6219, 14413, 30798, 6224, 30805, 30806, 6231, 6235, 30814, 30822, 30830, 14448, 6257, 30835, 22652, 14466, 6277, 30858, 6286, 6288, 6302, 6303, 14508, 14510, 22706, 22719, 6336, 30912, 14530, 14532, 30917, 14536, 30931, 14554, 22747, 22748, 22753, 6374, 6379, 14572, 6382, 30960, 6386, 14578, 6389, 14582, 30974, 14592, 22792, 14603, 30991, 22800, 6417, 6419, 6420, 14616, 22810, 31002, 31005, 6432, 6438, 22830, 14641, 31027, 14644, 31029, 6456, 22844, 22846, 31045, 6474, 22859, 31055, 22866, 22868, 22871, 31079, 22894, 22897, 6518, 14710, 6523, 14717, 31107, 6534, 31110, 6537, 31115, 6540, 22931, 14746, 22942, 14752, 31138, 6563, 14755, 22950, 22954, 31148, 31149, 14766, 22959, 6579, 6580, 14772, 31162, 6587, 14780, 31163, 6594, 22983, 14792, 14794, 22991, 6617, 6620, 6623, 14818, 31203, 23014, 14826, 31211, 6636, 6638, 14832, 14833, 14837, 14839, 6648, 23031, 31225, 31229, 6663, 6664, 6668, 23053, 14863, 14867, 31255, 23066, 23068, 6692, 23081, 31273, 31274, 31276, 6701, 23086, 31286, 31294, 23105, 6722, 6729, 6731, 23117, 6738, 6739, 6742, 6743, 6747, 31323, 31325, 6750, 31330, 31334, 6759, 23144, 6768, 23152, 23155, 31356, 6782, 14985, 14986, 14987, 23178, 14989, 23186, 6803, 31389, 15007, 31391, 6821, 15015, 31401, 23216, 31416, 23225, 15035, 6845, 31425, 6851, 15043, 31427, 31431, 31435, 23247, 23251, 23255, 6878, 23265, 15074, 15086, 6897, 6907, 15099, 15112, 23304, 23307, 31501, 6934, 6935, 23319, 31532, 15153, 15171, 23365, 31560, 15179, 23372, 6990, 31573, 23389, 15203, 23395, 23397, 7018, 31596, 7026, 23410, 31604, 31607, 7034, 31612, 7046, 15238, 23431, 31632, 15252, 15257, 31642, 15261, 23458, 31650, 23463, 15273, 23466, 7084, 15278, 7089, 23475, 7095, 31674, 7099, 31680, 7112, 31688, 15306, 15310, 31695, 7120, 31698, 7128, 23518, 15329, 23522, 7141, 7142, 7147, 15341, 23535, 7156, 15349, 31734, 15355, 23553, 7176, 31753, 15373, 15375, 7185, 31761, 31763, 15383, 7193, 23579, 7201, 31785, 23599, 23600, 31791, 15411, 7222, 31804, 15426, 31810, 7237, 31813, 23628, 31827, 23638, 31830, 15449, 31835, 31836, 23648, 15459, 31844, 31848, 15465, 23662, 31854, 23667, 23671, 15480, 23672, 7290, 23677, 15488, 23680, 7314, 15507, 15508, 31897, 23710, 31902, 7331, 15524, 15533, 23728, 7346, 7350, 23737, 31935, 7361, 31938, 23748, 15557, 15561, 7370, 23755, 23759, 15568, 31952, 31957, 23766, 15575, 7384, 7392, 31971, 15590, 23785, 23788, 15602, 15603, 15607, 23801, 23804, 7422, 32000, 15619, 32004, 23814, 7431, 15624, 23816, 32006, 32012, 15629, 32019, 23829, 7451, 7454, 32034, 23843, 7460, 7468, 15661, 7474, 15668, 7480, 15683, 7498, 15690, 7500, 23882, 7502, 7503, 32078, 15701, 15702, 15705, 32089, 32091, 7516, 15708, 23902, 15714, 7526, 15727, 15730, 23924, 15735, 15736, 23933, 7552, 32130, 32134, 32137, 23951, 32146, 7571, 7579, 23964, 32156, 32158, 7588, 7592, 15786, 15791, 15794, 23986, 7605, 7609, 23993, 15803, 23998, 24004, 24007, 7628, 32204, 24014, 24015, 32207, 7637, 15831, 32215, 32217, 7642, 24026, 32220, 7650, 24037, 32229, 24042, 24044, 15853, 7662, 15855, 32237, 32249, 7677, 32253, 24066, 7686, 32263, 32265, 32266, 32269, 7697, 15891, 32276, 24088, 24089, 15898, 15901, 15903, 24095, 15906, 24098, 7718, 7719, 15912, 15913, 24104, 24106, 32300, 32306, 32310, 15927, 7744, 24130, 15941, 15944, 24136, 7755, 15952, 15956, 24155, 15976, 7788, 32366, 32369, 7795, 7808, 7809, 7812, 32390, 24199, 32392, 24206, 32399, 32401, 16018, 16024, 32415, 7841, 16035, 24231, 24237, 7862, 32440, 7866, 24251, 32442, 7869, 32444, 7871, 32457, 32458, 16078, 32468, 7893, 16086, 24279, 24283, 24284, 32475, 24294, 24296, 24297, 16109, 32493, 24303, 24306, 24315, 7933, 32510, 24319, 24322, 24324, 32517, 24328, 16137, 16138, 32524, 32530, 16152, 7964, 7965, 24352, 16164, 16173, 7982, 7983, 16175, 24377, 24383, 8001, 16199, 24393, 24394, 16204, 24396, 16223, 8035, 8037, 8041, 8044, 24442, 8068, 8071, 16270, 8082, 24476, 16287, 8096, 24479, 24480, 24482, 8101, 16293, 8103, 16301, 16305, 24508, 16317, 24509, 16319, 24510, 24520, 8143, 24530, 8148, 16343, 8159, 24549, 16361, 8172, 24557, 24559, 24562, 8180, 24567, 8190, 24575}\n",
      "\n",
      "\n",
      "Number of rows to be eliminated-\n",
      " 2532\n"
     ]
    }
   ],
   "source": [
    "#Getting sure of outliers using z score\n",
    "x=df.drop(['Workclass','Education','Education_num','Relationship','Marital_status','Occupation','Race','Sex','Native_country','Income'],axis=1)\n",
    "z=np.abs(zscore(x))\n",
    "i=np.where(z>3)\n",
    "print(\"Outliers index-\\n\",set(i[0]))\n",
    "print(\"\\n\\nNumber of rows to be eliminated-\\n\",len(set(i[0])))"
   ]
  },
  {
   "cell_type": "code",
   "execution_count": 24,
   "id": "3c10aa0a",
   "metadata": {},
   "outputs": [
    {
     "data": {
      "text/plain": [
       "(32560, 15)"
      ]
     },
     "execution_count": 24,
     "metadata": {},
     "output_type": "execute_result"
    }
   ],
   "source": [
    "df.shape"
   ]
  },
  {
   "cell_type": "code",
   "execution_count": 25,
   "id": "1021cb28",
   "metadata": {},
   "outputs": [
    {
     "name": "stdout",
     "output_type": "stream",
     "text": [
      "The data loss- 7.7764127764127835 %\n"
     ]
    }
   ],
   "source": [
    "#Calculating Data Loss\n",
    "loss=((32560-2532)/32560)*100\n",
    "print(\"The data loss-\",100-loss,\"%\")"
   ]
  },
  {
   "cell_type": "markdown",
   "id": "d26e2630",
   "metadata": {},
   "source": [
    "We could bear with 7% data loss as we have huge dataset, so lets drop these rows."
   ]
  },
  {
   "cell_type": "code",
   "execution_count": 7,
   "id": "625d8ffa",
   "metadata": {},
   "outputs": [
    {
     "data": {
      "text/html": [
       "<div>\n",
       "<style scoped>\n",
       "    .dataframe tbody tr th:only-of-type {\n",
       "        vertical-align: middle;\n",
       "    }\n",
       "\n",
       "    .dataframe tbody tr th {\n",
       "        vertical-align: top;\n",
       "    }\n",
       "\n",
       "    .dataframe thead th {\n",
       "        text-align: right;\n",
       "    }\n",
       "</style>\n",
       "<table border=\"1\" class=\"dataframe\">\n",
       "  <thead>\n",
       "    <tr style=\"text-align: right;\">\n",
       "      <th></th>\n",
       "      <th>Age</th>\n",
       "      <th>Workclass</th>\n",
       "      <th>Fnlwgt</th>\n",
       "      <th>Education</th>\n",
       "      <th>Education_num</th>\n",
       "      <th>Marital_status</th>\n",
       "      <th>Occupation</th>\n",
       "      <th>Relationship</th>\n",
       "      <th>Race</th>\n",
       "      <th>Sex</th>\n",
       "      <th>Capital_gain</th>\n",
       "      <th>Capital_loss</th>\n",
       "      <th>Hours_per_week</th>\n",
       "      <th>Native_country</th>\n",
       "      <th>Income</th>\n",
       "    </tr>\n",
       "  </thead>\n",
       "  <tbody>\n",
       "    <tr>\n",
       "      <th>0</th>\n",
       "      <td>50</td>\n",
       "      <td>6.0</td>\n",
       "      <td>83311</td>\n",
       "      <td>9.0</td>\n",
       "      <td>13</td>\n",
       "      <td>2.0</td>\n",
       "      <td>4.0</td>\n",
       "      <td>0.0</td>\n",
       "      <td>4.0</td>\n",
       "      <td>1.0</td>\n",
       "      <td>0</td>\n",
       "      <td>0</td>\n",
       "      <td>13</td>\n",
       "      <td>39.0</td>\n",
       "      <td>0</td>\n",
       "    </tr>\n",
       "    <tr>\n",
       "      <th>1</th>\n",
       "      <td>38</td>\n",
       "      <td>4.0</td>\n",
       "      <td>215646</td>\n",
       "      <td>11.0</td>\n",
       "      <td>9</td>\n",
       "      <td>0.0</td>\n",
       "      <td>6.0</td>\n",
       "      <td>1.0</td>\n",
       "      <td>4.0</td>\n",
       "      <td>1.0</td>\n",
       "      <td>0</td>\n",
       "      <td>0</td>\n",
       "      <td>40</td>\n",
       "      <td>39.0</td>\n",
       "      <td>0</td>\n",
       "    </tr>\n",
       "    <tr>\n",
       "      <th>2</th>\n",
       "      <td>53</td>\n",
       "      <td>4.0</td>\n",
       "      <td>234721</td>\n",
       "      <td>1.0</td>\n",
       "      <td>7</td>\n",
       "      <td>2.0</td>\n",
       "      <td>6.0</td>\n",
       "      <td>0.0</td>\n",
       "      <td>2.0</td>\n",
       "      <td>1.0</td>\n",
       "      <td>0</td>\n",
       "      <td>0</td>\n",
       "      <td>40</td>\n",
       "      <td>39.0</td>\n",
       "      <td>0</td>\n",
       "    </tr>\n",
       "    <tr>\n",
       "      <th>3</th>\n",
       "      <td>28</td>\n",
       "      <td>4.0</td>\n",
       "      <td>338409</td>\n",
       "      <td>9.0</td>\n",
       "      <td>13</td>\n",
       "      <td>2.0</td>\n",
       "      <td>10.0</td>\n",
       "      <td>5.0</td>\n",
       "      <td>2.0</td>\n",
       "      <td>0.0</td>\n",
       "      <td>0</td>\n",
       "      <td>0</td>\n",
       "      <td>40</td>\n",
       "      <td>5.0</td>\n",
       "      <td>0</td>\n",
       "    </tr>\n",
       "    <tr>\n",
       "      <th>4</th>\n",
       "      <td>37</td>\n",
       "      <td>4.0</td>\n",
       "      <td>284582</td>\n",
       "      <td>12.0</td>\n",
       "      <td>14</td>\n",
       "      <td>2.0</td>\n",
       "      <td>4.0</td>\n",
       "      <td>5.0</td>\n",
       "      <td>4.0</td>\n",
       "      <td>0.0</td>\n",
       "      <td>0</td>\n",
       "      <td>0</td>\n",
       "      <td>40</td>\n",
       "      <td>39.0</td>\n",
       "      <td>0</td>\n",
       "    </tr>\n",
       "    <tr>\n",
       "      <th>...</th>\n",
       "      <td>...</td>\n",
       "      <td>...</td>\n",
       "      <td>...</td>\n",
       "      <td>...</td>\n",
       "      <td>...</td>\n",
       "      <td>...</td>\n",
       "      <td>...</td>\n",
       "      <td>...</td>\n",
       "      <td>...</td>\n",
       "      <td>...</td>\n",
       "      <td>...</td>\n",
       "      <td>...</td>\n",
       "      <td>...</td>\n",
       "      <td>...</td>\n",
       "      <td>...</td>\n",
       "    </tr>\n",
       "    <tr>\n",
       "      <th>32555</th>\n",
       "      <td>27</td>\n",
       "      <td>4.0</td>\n",
       "      <td>257302</td>\n",
       "      <td>7.0</td>\n",
       "      <td>12</td>\n",
       "      <td>2.0</td>\n",
       "      <td>13.0</td>\n",
       "      <td>5.0</td>\n",
       "      <td>4.0</td>\n",
       "      <td>0.0</td>\n",
       "      <td>0</td>\n",
       "      <td>0</td>\n",
       "      <td>38</td>\n",
       "      <td>39.0</td>\n",
       "      <td>0</td>\n",
       "    </tr>\n",
       "    <tr>\n",
       "      <th>32556</th>\n",
       "      <td>40</td>\n",
       "      <td>4.0</td>\n",
       "      <td>154374</td>\n",
       "      <td>11.0</td>\n",
       "      <td>9</td>\n",
       "      <td>2.0</td>\n",
       "      <td>7.0</td>\n",
       "      <td>0.0</td>\n",
       "      <td>4.0</td>\n",
       "      <td>1.0</td>\n",
       "      <td>0</td>\n",
       "      <td>0</td>\n",
       "      <td>40</td>\n",
       "      <td>39.0</td>\n",
       "      <td>1</td>\n",
       "    </tr>\n",
       "    <tr>\n",
       "      <th>32557</th>\n",
       "      <td>58</td>\n",
       "      <td>4.0</td>\n",
       "      <td>151910</td>\n",
       "      <td>11.0</td>\n",
       "      <td>9</td>\n",
       "      <td>6.0</td>\n",
       "      <td>1.0</td>\n",
       "      <td>4.0</td>\n",
       "      <td>4.0</td>\n",
       "      <td>0.0</td>\n",
       "      <td>0</td>\n",
       "      <td>0</td>\n",
       "      <td>40</td>\n",
       "      <td>39.0</td>\n",
       "      <td>0</td>\n",
       "    </tr>\n",
       "    <tr>\n",
       "      <th>32558</th>\n",
       "      <td>22</td>\n",
       "      <td>4.0</td>\n",
       "      <td>201490</td>\n",
       "      <td>11.0</td>\n",
       "      <td>9</td>\n",
       "      <td>4.0</td>\n",
       "      <td>1.0</td>\n",
       "      <td>3.0</td>\n",
       "      <td>4.0</td>\n",
       "      <td>1.0</td>\n",
       "      <td>0</td>\n",
       "      <td>0</td>\n",
       "      <td>20</td>\n",
       "      <td>39.0</td>\n",
       "      <td>0</td>\n",
       "    </tr>\n",
       "    <tr>\n",
       "      <th>32559</th>\n",
       "      <td>52</td>\n",
       "      <td>5.0</td>\n",
       "      <td>287927</td>\n",
       "      <td>11.0</td>\n",
       "      <td>9</td>\n",
       "      <td>2.0</td>\n",
       "      <td>4.0</td>\n",
       "      <td>5.0</td>\n",
       "      <td>4.0</td>\n",
       "      <td>0.0</td>\n",
       "      <td>15024</td>\n",
       "      <td>0</td>\n",
       "      <td>40</td>\n",
       "      <td>39.0</td>\n",
       "      <td>1</td>\n",
       "    </tr>\n",
       "  </tbody>\n",
       "</table>\n",
       "<p>30028 rows × 15 columns</p>\n",
       "</div>"
      ],
      "text/plain": [
       "       Age  Workclass  Fnlwgt  Education  Education_num  Marital_status  \\\n",
       "0       50        6.0   83311        9.0             13             2.0   \n",
       "1       38        4.0  215646       11.0              9             0.0   \n",
       "2       53        4.0  234721        1.0              7             2.0   \n",
       "3       28        4.0  338409        9.0             13             2.0   \n",
       "4       37        4.0  284582       12.0             14             2.0   \n",
       "...    ...        ...     ...        ...            ...             ...   \n",
       "32555   27        4.0  257302        7.0             12             2.0   \n",
       "32556   40        4.0  154374       11.0              9             2.0   \n",
       "32557   58        4.0  151910       11.0              9             6.0   \n",
       "32558   22        4.0  201490       11.0              9             4.0   \n",
       "32559   52        5.0  287927       11.0              9             2.0   \n",
       "\n",
       "       Occupation  Relationship  Race  Sex  Capital_gain  Capital_loss  \\\n",
       "0             4.0           0.0   4.0  1.0             0             0   \n",
       "1             6.0           1.0   4.0  1.0             0             0   \n",
       "2             6.0           0.0   2.0  1.0             0             0   \n",
       "3            10.0           5.0   2.0  0.0             0             0   \n",
       "4             4.0           5.0   4.0  0.0             0             0   \n",
       "...           ...           ...   ...  ...           ...           ...   \n",
       "32555        13.0           5.0   4.0  0.0             0             0   \n",
       "32556         7.0           0.0   4.0  1.0             0             0   \n",
       "32557         1.0           4.0   4.0  0.0             0             0   \n",
       "32558         1.0           3.0   4.0  1.0             0             0   \n",
       "32559         4.0           5.0   4.0  0.0         15024             0   \n",
       "\n",
       "       Hours_per_week  Native_country  Income  \n",
       "0                  13            39.0       0  \n",
       "1                  40            39.0       0  \n",
       "2                  40            39.0       0  \n",
       "3                  40             5.0       0  \n",
       "4                  40            39.0       0  \n",
       "...               ...             ...     ...  \n",
       "32555              38            39.0       0  \n",
       "32556              40            39.0       1  \n",
       "32557              40            39.0       0  \n",
       "32558              20            39.0       0  \n",
       "32559              40            39.0       1  \n",
       "\n",
       "[30028 rows x 15 columns]"
      ]
     },
     "execution_count": 7,
     "metadata": {},
     "output_type": "execute_result"
    }
   ],
   "source": [
    "#removing rows with outliers\n",
    "df=df.drop(x.index[i[0]])\n",
    "df"
   ]
  },
  {
   "cell_type": "code",
   "execution_count": 29,
   "id": "c81eedd6",
   "metadata": {},
   "outputs": [
    {
     "data": {
      "text/plain": [
       "(30028, 15)"
      ]
     },
     "execution_count": 29,
     "metadata": {},
     "output_type": "execute_result"
    }
   ],
   "source": [
    "df.shape"
   ]
  },
  {
   "cell_type": "code",
   "execution_count": 30,
   "id": "b321190d",
   "metadata": {},
   "outputs": [
    {
     "data": {
      "text/plain": [
       "Age                0.489206\n",
       "Workclass         -0.747158\n",
       "Fnlwgt             0.633615\n",
       "Education         -0.927349\n",
       "Education_num     -0.324321\n",
       "Marital_status    -0.047716\n",
       "Occupation         0.119988\n",
       "Relationship       0.745900\n",
       "Race              -2.431921\n",
       "Sex               -0.681754\n",
       "Capital_gain       4.957931\n",
       "Capital_loss      29.761341\n",
       "Hours_per_week    -0.350891\n",
       "Native_country    -3.660301\n",
       "Income             1.339595\n",
       "dtype: float64"
      ]
     },
     "execution_count": 30,
     "metadata": {},
     "output_type": "execute_result"
    }
   ],
   "source": [
    "#Checking skewness again\n",
    "df.skew()"
   ]
  },
  {
   "cell_type": "markdown",
   "id": "dbd409d2",
   "metadata": {},
   "source": [
    "We need to treat skewness still its present."
   ]
  },
  {
   "cell_type": "markdown",
   "id": "536da83c",
   "metadata": {},
   "source": [
    "## VIF"
   ]
  },
  {
   "cell_type": "code",
   "execution_count": 31,
   "id": "53d3714c",
   "metadata": {
    "scrolled": true
   },
   "outputs": [
    {
     "data": {
      "text/html": [
       "<div>\n",
       "<style scoped>\n",
       "    .dataframe tbody tr th:only-of-type {\n",
       "        vertical-align: middle;\n",
       "    }\n",
       "\n",
       "    .dataframe tbody tr th {\n",
       "        vertical-align: top;\n",
       "    }\n",
       "\n",
       "    .dataframe thead th {\n",
       "        text-align: right;\n",
       "    }\n",
       "</style>\n",
       "<table border=\"1\" class=\"dataframe\">\n",
       "  <thead>\n",
       "    <tr style=\"text-align: right;\">\n",
       "      <th></th>\n",
       "      <th>vif</th>\n",
       "      <th>features</th>\n",
       "    </tr>\n",
       "  </thead>\n",
       "  <tbody>\n",
       "    <tr>\n",
       "      <th>0</th>\n",
       "      <td>8.859700</td>\n",
       "      <td>Age</td>\n",
       "    </tr>\n",
       "    <tr>\n",
       "      <th>1</th>\n",
       "      <td>8.534848</td>\n",
       "      <td>Workclass</td>\n",
       "    </tr>\n",
       "    <tr>\n",
       "      <th>2</th>\n",
       "      <td>4.593571</td>\n",
       "      <td>Fnlwgt</td>\n",
       "    </tr>\n",
       "    <tr>\n",
       "      <th>3</th>\n",
       "      <td>9.143250</td>\n",
       "      <td>Education</td>\n",
       "    </tr>\n",
       "    <tr>\n",
       "      <th>4</th>\n",
       "      <td>19.784912</td>\n",
       "      <td>Education_num</td>\n",
       "    </tr>\n",
       "    <tr>\n",
       "      <th>5</th>\n",
       "      <td>4.090704</td>\n",
       "      <td>Marital_status</td>\n",
       "    </tr>\n",
       "    <tr>\n",
       "      <th>6</th>\n",
       "      <td>3.686807</td>\n",
       "      <td>Occupation</td>\n",
       "    </tr>\n",
       "    <tr>\n",
       "      <th>7</th>\n",
       "      <td>2.680971</td>\n",
       "      <td>Relationship</td>\n",
       "    </tr>\n",
       "    <tr>\n",
       "      <th>8</th>\n",
       "      <td>17.549721</td>\n",
       "      <td>Race</td>\n",
       "    </tr>\n",
       "    <tr>\n",
       "      <th>9</th>\n",
       "      <td>4.349699</td>\n",
       "      <td>Sex</td>\n",
       "    </tr>\n",
       "    <tr>\n",
       "      <th>10</th>\n",
       "      <td>1.206489</td>\n",
       "      <td>Capital_gain</td>\n",
       "    </tr>\n",
       "    <tr>\n",
       "      <th>11</th>\n",
       "      <td>1.003856</td>\n",
       "      <td>Capital_loss</td>\n",
       "    </tr>\n",
       "    <tr>\n",
       "      <th>12</th>\n",
       "      <td>14.192039</td>\n",
       "      <td>Hours_per_week</td>\n",
       "    </tr>\n",
       "    <tr>\n",
       "      <th>13</th>\n",
       "      <td>20.032789</td>\n",
       "      <td>Native_country</td>\n",
       "    </tr>\n",
       "    <tr>\n",
       "      <th>14</th>\n",
       "      <td>1.740441</td>\n",
       "      <td>Income</td>\n",
       "    </tr>\n",
       "  </tbody>\n",
       "</table>\n",
       "</div>"
      ],
      "text/plain": [
       "          vif        features\n",
       "0    8.859700             Age\n",
       "1    8.534848       Workclass\n",
       "2    4.593571          Fnlwgt\n",
       "3    9.143250       Education\n",
       "4   19.784912   Education_num\n",
       "5    4.090704  Marital_status\n",
       "6    3.686807      Occupation\n",
       "7    2.680971    Relationship\n",
       "8   17.549721            Race\n",
       "9    4.349699             Sex\n",
       "10   1.206489    Capital_gain\n",
       "11   1.003856    Capital_loss\n",
       "12  14.192039  Hours_per_week\n",
       "13  20.032789  Native_country\n",
       "14   1.740441          Income"
      ]
     },
     "execution_count": 31,
     "metadata": {},
     "output_type": "execute_result"
    }
   ],
   "source": [
    "\n",
    "vif=pd.DataFrame()\n",
    "vif['vif']=[variance_inflation_factor(df.values,i) for i in range(len(df.columns))]\n",
    "vif['features']=df.columns\n",
    "vif"
   ]
  },
  {
   "cell_type": "markdown",
   "id": "715fd92a",
   "metadata": {},
   "source": [
    "VIf score of categorical data is above 10 so we wont consider that and thus no multicollinearity exists."
   ]
  },
  {
   "cell_type": "markdown",
   "id": "8f253110",
   "metadata": {},
   "source": [
    "## checking dataset is balanced or not"
   ]
  },
  {
   "cell_type": "code",
   "execution_count": 32,
   "id": "f1623767",
   "metadata": {},
   "outputs": [
    {
     "data": {
      "text/plain": [
       "0    23369\n",
       "1     6659\n",
       "Name: Income, dtype: int64"
      ]
     },
     "execution_count": 32,
     "metadata": {},
     "output_type": "execute_result"
    }
   ],
   "source": [
    "df['Income'].value_counts()"
   ]
  },
  {
   "cell_type": "markdown",
   "id": "c1964418",
   "metadata": {},
   "source": [
    "Observation: We could observe that the data is not at all balanced. So lets balance this data."
   ]
  },
  {
   "cell_type": "markdown",
   "id": "37d3e011",
   "metadata": {},
   "source": [
    "## Data Balancing"
   ]
  },
  {
   "cell_type": "code",
   "execution_count": 8,
   "id": "837d5d3b",
   "metadata": {},
   "outputs": [
    {
     "data": {
      "text/plain": [
       "0    23369\n",
       "1    23369\n",
       "Name: Income, dtype: int64"
      ]
     },
     "execution_count": 8,
     "metadata": {},
     "output_type": "execute_result"
    }
   ],
   "source": [
    "from sklearn.utils import resample\n",
    "\n",
    "lessIncome=df[df.Income==0]\n",
    "moreIncome=df[df.Income==1]\n",
    "more_upsampled=resample(moreIncome,replace=True,n_samples=len(lessIncome),random_state=27)\n",
    "df_up=pd.concat([lessIncome,more_upsampled])\n",
    "df_up['Income'].value_counts()"
   ]
  },
  {
   "cell_type": "markdown",
   "id": "ebe8bfd8",
   "metadata": {},
   "source": [
    "## Treating Skewness"
   ]
  },
  {
   "cell_type": "code",
   "execution_count": 9,
   "id": "106589a2",
   "metadata": {},
   "outputs": [],
   "source": [
    "x=df_up.drop(['Income'],axis=1)\n",
    "y=df_up['Income']"
   ]
  },
  {
   "cell_type": "code",
   "execution_count": 10,
   "id": "08c8c298",
   "metadata": {},
   "outputs": [
    {
     "data": {
      "text/plain": [
       "array([[ 0.79642926,  1.60403285, -1.11866683, ..., -0.03305119,\n",
       "        -2.40163907,  0.31642799],\n",
       "       [-0.10125788, -0.00276099,  0.4281847 , ..., -0.03305119,\n",
       "        -0.19603245,  0.31642799],\n",
       "       [ 1.00337318, -0.00276099,  0.60887383, ..., -0.03305119,\n",
       "        -0.19603245,  0.31642799],\n",
       "       ...,\n",
       "       [-0.26403121, -0.00276099,  0.15350696, ..., -0.03305119,\n",
       "         0.77594561,  0.31642799],\n",
       "       [-0.78142343, -0.00276099, -0.09960227, ..., -0.03305119,\n",
       "         0.97821875,  0.31642799],\n",
       "       [ 0.51055774, -1.3380368 ,  0.35054674, ..., -0.03305119,\n",
       "        -0.19603245,  0.31642799]])"
      ]
     },
     "execution_count": 10,
     "metadata": {},
     "output_type": "execute_result"
    }
   ],
   "source": [
    "#using yeo-johnson transformation\n",
    "x=power_transform(x,method='yeo-johnson')\n",
    "x"
   ]
  },
  {
   "cell_type": "markdown",
   "id": "df87ccf5",
   "metadata": {},
   "source": [
    "## Standardisation of data"
   ]
  },
  {
   "cell_type": "code",
   "execution_count": 11,
   "id": "f0c90834",
   "metadata": {},
   "outputs": [
    {
     "data": {
      "text/plain": [
       "array([[ 0.79642926,  1.60403285, -1.11866683, ..., -0.03305119,\n",
       "        -2.40163907,  0.31642799],\n",
       "       [-0.10125788, -0.00276099,  0.4281847 , ..., -0.03305119,\n",
       "        -0.19603245,  0.31642799],\n",
       "       [ 1.00337318, -0.00276099,  0.60887383, ..., -0.03305119,\n",
       "        -0.19603245,  0.31642799],\n",
       "       ...,\n",
       "       [-0.26403121, -0.00276099,  0.15350696, ..., -0.03305119,\n",
       "         0.77594561,  0.31642799],\n",
       "       [-0.78142343, -0.00276099, -0.09960227, ..., -0.03305119,\n",
       "         0.97821875,  0.31642799],\n",
       "       [ 0.51055774, -1.3380368 ,  0.35054674, ..., -0.03305119,\n",
       "        -0.19603245,  0.31642799]])"
      ]
     },
     "execution_count": 11,
     "metadata": {},
     "output_type": "execute_result"
    }
   ],
   "source": [
    "scaler=StandardScaler()\n",
    "x=scaler.fit_transform(x)\n",
    "x"
   ]
  },
  {
   "cell_type": "markdown",
   "id": "4279dc80",
   "metadata": {},
   "source": [
    "## Train test split"
   ]
  },
  {
   "cell_type": "code",
   "execution_count": 26,
   "id": "64b2287e",
   "metadata": {},
   "outputs": [
    {
     "name": "stdout",
     "output_type": "stream",
     "text": [
      "\n",
      "\n",
      "At random state: 11\n",
      "\n",
      "Train Accuracy-  77.7\n",
      "\n",
      "Test Accuracy-  77.7\n",
      "\n",
      "\n",
      "At random state: 19\n",
      "\n",
      "Train Accuracy-  77.6\n",
      "\n",
      "Test Accuracy-  77.6\n",
      "\n",
      "\n",
      "At random state: 29\n",
      "\n",
      "Train Accuracy-  77.7\n",
      "\n",
      "Test Accuracy-  77.7\n",
      "\n",
      "\n",
      "At random state: 34\n",
      "\n",
      "Train Accuracy-  77.6\n",
      "\n",
      "Test Accuracy-  77.6\n",
      "\n",
      "\n",
      "At random state: 41\n",
      "\n",
      "Train Accuracy-  77.6\n",
      "\n",
      "Test Accuracy-  77.6\n",
      "\n",
      "\n",
      "At random state: 54\n",
      "\n",
      "Train Accuracy-  77.7\n",
      "\n",
      "Test Accuracy-  77.7\n",
      "\n",
      "\n",
      "At random state: 56\n",
      "\n",
      "Train Accuracy-  77.7\n",
      "\n",
      "Test Accuracy-  77.7\n",
      "\n",
      "\n",
      "At random state: 85\n",
      "\n",
      "Train Accuracy-  77.6\n",
      "\n",
      "Test Accuracy-  77.6\n",
      "\n",
      "\n",
      "At random state: 109\n",
      "\n",
      "Train Accuracy-  77.6\n",
      "\n",
      "Test Accuracy-  77.6\n",
      "\n",
      "\n",
      "At random state: 123\n",
      "\n",
      "Train Accuracy-  77.7\n",
      "\n",
      "Test Accuracy-  77.7\n",
      "\n",
      "\n",
      "At random state: 125\n",
      "\n",
      "Train Accuracy-  77.7\n",
      "\n",
      "Test Accuracy-  77.7\n",
      "\n",
      "\n",
      "At random state: 134\n",
      "\n",
      "Train Accuracy-  77.7\n",
      "\n",
      "Test Accuracy-  77.7\n",
      "\n",
      "\n",
      "At random state: 135\n",
      "\n",
      "Train Accuracy-  77.6\n",
      "\n",
      "Test Accuracy-  77.6\n",
      "\n",
      "\n",
      "At random state: 166\n",
      "\n",
      "Train Accuracy-  77.5\n",
      "\n",
      "Test Accuracy-  77.5\n",
      "\n",
      "\n",
      "At random state: 170\n",
      "\n",
      "Train Accuracy-  77.7\n",
      "\n",
      "Test Accuracy-  77.7\n",
      "\n",
      "\n",
      "At random state: 178\n",
      "\n",
      "Train Accuracy-  77.6\n",
      "\n",
      "Test Accuracy-  77.6\n",
      "\n",
      "\n",
      "At random state: 179\n",
      "\n",
      "Train Accuracy-  77.6\n",
      "\n",
      "Test Accuracy-  77.6\n",
      "\n",
      "\n",
      "At random state: 196\n",
      "\n",
      "Train Accuracy-  77.7\n",
      "\n",
      "Test Accuracy-  77.7\n",
      "\n",
      "\n",
      "At random state: 200\n",
      "\n",
      "Train Accuracy-  77.6\n",
      "\n",
      "Test Accuracy-  77.6\n",
      "\n",
      "\n",
      "At random state: 204\n",
      "\n",
      "Train Accuracy-  77.7\n",
      "\n",
      "Test Accuracy-  77.7\n",
      "\n",
      "\n",
      "At random state: 209\n",
      "\n",
      "Train Accuracy-  77.7\n",
      "\n",
      "Test Accuracy-  77.7\n",
      "\n",
      "\n",
      "At random state: 210\n",
      "\n",
      "Train Accuracy-  77.7\n",
      "\n",
      "Test Accuracy-  77.7\n",
      "\n",
      "\n",
      "At random state: 230\n",
      "\n",
      "Train Accuracy-  77.6\n",
      "\n",
      "Test Accuracy-  77.6\n",
      "\n",
      "\n",
      "At random state: 247\n",
      "\n",
      "Train Accuracy-  77.7\n",
      "\n",
      "Test Accuracy-  77.7\n",
      "\n",
      "\n",
      "At random state: 253\n",
      "\n",
      "Train Accuracy-  77.6\n",
      "\n",
      "Test Accuracy-  77.6\n",
      "\n",
      "\n",
      "At random state: 262\n",
      "\n",
      "Train Accuracy-  77.6\n",
      "\n",
      "Test Accuracy-  77.6\n",
      "\n",
      "\n",
      "At random state: 264\n",
      "\n",
      "Train Accuracy-  77.7\n",
      "\n",
      "Test Accuracy-  77.7\n",
      "\n",
      "\n",
      "At random state: 267\n",
      "\n",
      "Train Accuracy-  77.6\n",
      "\n",
      "Test Accuracy-  77.6\n",
      "\n",
      "\n",
      "At random state: 278\n",
      "\n",
      "Train Accuracy-  77.6\n",
      "\n",
      "Test Accuracy-  77.6\n",
      "\n",
      "\n",
      "At random state: 320\n",
      "\n",
      "Train Accuracy-  77.6\n",
      "\n",
      "Test Accuracy-  77.6\n",
      "\n",
      "\n",
      "At random state: 328\n",
      "\n",
      "Train Accuracy-  77.7\n",
      "\n",
      "Test Accuracy-  77.7\n",
      "\n",
      "\n",
      "At random state: 331\n",
      "\n",
      "Train Accuracy-  77.7\n",
      "\n",
      "Test Accuracy-  77.7\n",
      "\n",
      "\n",
      "At random state: 345\n",
      "\n",
      "Train Accuracy-  77.7\n",
      "\n",
      "Test Accuracy-  77.7\n",
      "\n",
      "\n",
      "At random state: 347\n",
      "\n",
      "Train Accuracy-  77.7\n",
      "\n",
      "Test Accuracy-  77.7\n",
      "\n",
      "\n",
      "At random state: 358\n",
      "\n",
      "Train Accuracy-  77.6\n",
      "\n",
      "Test Accuracy-  77.6\n",
      "\n",
      "\n",
      "At random state: 378\n",
      "\n",
      "Train Accuracy-  77.6\n",
      "\n",
      "Test Accuracy-  77.6\n",
      "\n",
      "\n",
      "At random state: 385\n",
      "\n",
      "Train Accuracy-  77.7\n",
      "\n",
      "Test Accuracy-  77.7\n",
      "\n",
      "\n",
      "At random state: 386\n",
      "\n",
      "Train Accuracy-  77.7\n",
      "\n",
      "Test Accuracy-  77.7\n",
      "\n",
      "\n",
      "At random state: 406\n",
      "\n",
      "Train Accuracy-  77.7\n",
      "\n",
      "Test Accuracy-  77.7\n",
      "\n",
      "\n",
      "At random state: 409\n",
      "\n",
      "Train Accuracy-  77.6\n",
      "\n",
      "Test Accuracy-  77.6\n",
      "\n",
      "\n",
      "At random state: 428\n",
      "\n",
      "Train Accuracy-  77.7\n",
      "\n",
      "Test Accuracy-  77.7\n",
      "\n",
      "\n",
      "At random state: 433\n",
      "\n",
      "Train Accuracy-  77.7\n",
      "\n",
      "Test Accuracy-  77.7\n",
      "\n",
      "\n",
      "At random state: 448\n",
      "\n",
      "Train Accuracy-  77.7\n",
      "\n",
      "Test Accuracy-  77.7\n",
      "\n",
      "\n",
      "At random state: 463\n",
      "\n",
      "Train Accuracy-  77.7\n",
      "\n",
      "Test Accuracy-  77.7\n",
      "\n",
      "\n",
      "At random state: 469\n",
      "\n",
      "Train Accuracy-  77.6\n",
      "\n",
      "Test Accuracy-  77.6\n",
      "\n",
      "\n",
      "At random state: 470\n",
      "\n",
      "Train Accuracy-  77.6\n",
      "\n",
      "Test Accuracy-  77.6\n",
      "\n",
      "\n",
      "At random state: 475\n",
      "\n",
      "Train Accuracy-  77.7\n",
      "\n",
      "Test Accuracy-  77.7\n",
      "\n",
      "\n",
      " Best accuracy at random state- 11\n"
     ]
    }
   ],
   "source": [
    "from sklearn.linear_model import LogisticRegression\n",
    "from sklearn.metrics import accuracy_score\n",
    "max_ac=0\n",
    "randomState=0\n",
    "lr=LogisticRegression()\n",
    "for i in range(500):\n",
    "    x_train,x_test,y_train,y_test=train_test_split(x,y,random_state=i,test_size=0.20)\n",
    "    lr.fit(x_train,y_train)\n",
    "    pred_train=lr.predict(x_train)\n",
    "    pred_test=lr.predict(x_test)\n",
    "    if round(accuracy_score(y_train,pred_train)*100,1)==round(accuracy_score(y_test,pred_test)*100,1):\n",
    "        print(\"\\n\\nAt random state:\",i)\n",
    "        print(\"\\nTrain Accuracy- \",round(accuracy_score(y_train,pred_train)*100,1))\n",
    "        print(\"\\nTest Accuracy- \",round(accuracy_score(y_test,pred_test)*100,1))\n",
    "        if round(accuracy_score(y_test,pred_test)*100,1)>max_ac:\n",
    "            randomState=i\n",
    "            max_ac=round(accuracy_score(y_test,pred_test)*100,1)\n",
    "print(\"\\n\\n Best accuracy at random state-\",randomState)"
   ]
  },
  {
   "cell_type": "markdown",
   "id": "ae1b7d19",
   "metadata": {},
   "source": [
    "## Applying Logistic Regression"
   ]
  },
  {
   "cell_type": "code",
   "execution_count": 27,
   "id": "db468425",
   "metadata": {},
   "outputs": [
    {
     "name": "stdout",
     "output_type": "stream",
     "text": [
      "\n",
      "train accuracy- 77.7\n",
      "\n",
      "test accuracy- 77.7\n"
     ]
    }
   ],
   "source": [
    "x_train,x_test,y_train,y_test=train_test_split(x,y,random_state=11,test_size=0.20)\n",
    "lr.fit(x_train,y_train)\n",
    "pred_train=lr.predict(x_train)\n",
    "pred_test=lr.predict(x_test)\n",
    "train_accuracy=round(accuracy_score(y_train,pred_train)*100,1)\n",
    "test_accuracy=round(accuracy_score(y_test,pred_test)*100,1)\n",
    "print(\"\\ntrain accuracy-\",train_accuracy)\n",
    "print(\"\\ntest accuracy-\",test_accuracy)"
   ]
  },
  {
   "cell_type": "markdown",
   "id": "fee39d7a",
   "metadata": {},
   "source": [
    "## Cross Validation score"
   ]
  },
  {
   "cell_type": "code",
   "execution_count": 53,
   "id": "102ccdec",
   "metadata": {},
   "outputs": [
    {
     "name": "stdout",
     "output_type": "stream",
     "text": [
      "\n",
      "\n",
      "At cv- 4\n",
      "\n",
      " cross validation score is- 77.65630893957366\n",
      "\n",
      " Accuracy score is- 77.7\n",
      "\n",
      "\n",
      "At cv- 5\n",
      "\n",
      " cross validation score is- 77.5942516594649\n",
      "\n",
      " Accuracy score is- 77.7\n",
      "\n",
      "\n",
      "At cv- 6\n",
      "\n",
      " cross validation score is- 77.62634818542304\n",
      "\n",
      " Accuracy score is- 77.7\n",
      "\n",
      "\n",
      "At cv- 7\n",
      "\n",
      " cross validation score is- 77.61994308975159\n",
      "\n",
      " Accuracy score is- 77.7\n",
      "\n",
      "\n",
      "At cv- 8\n",
      "\n",
      " cross validation score is- 77.63490658186252\n",
      "\n",
      " Accuracy score is- 77.7\n",
      "\n",
      "\n",
      "At cv- 9\n",
      "\n",
      " cross validation score is- 77.64132574853828\n",
      "\n",
      " Accuracy score is- 77.7\n",
      "\n",
      "\n",
      "At cv- 10\n",
      "\n",
      " cross validation score is- 77.61567031575798\n",
      "\n",
      " Accuracy score is- 77.7\n",
      "\n",
      "\n",
      "At cv- 11\n",
      "\n",
      " cross validation score is- 77.6413377263627\n",
      "\n",
      " Accuracy score is- 77.7\n",
      "\n",
      "\n",
      "At cv- 12\n",
      "\n",
      " cross validation score is- 77.64135447290731\n",
      "\n",
      " Accuracy score is- 77.7\n",
      "\n",
      "\n",
      "At cv- 13\n",
      "\n",
      " cross validation score is- 77.63704914212897\n",
      "\n",
      " Accuracy score is- 77.7\n",
      "\n",
      "\n",
      "At cv- 14\n",
      "\n",
      " cross validation score is- 77.64138164469882\n",
      "\n",
      " Accuracy score is- 77.7\n",
      "\n",
      "\n",
      "At cv- 15\n",
      "\n",
      " cross validation score is- 77.63279190027684\n",
      "\n",
      " Accuracy score is- 77.7\n",
      "\n",
      "\n",
      "At cv- 16\n",
      "\n",
      " cross validation score is- 77.63918760417201\n",
      "\n",
      " Accuracy score is- 77.7\n",
      "\n",
      "\n",
      "At cv- 17\n",
      "\n",
      " cross validation score is- 77.64345381791726\n",
      "\n",
      " Accuracy score is- 77.7\n",
      "\n",
      "\n",
      "At cv- 18\n",
      "\n",
      " cross validation score is- 77.61997153814961\n",
      "\n",
      " Accuracy score is- 77.7\n",
      "\n",
      "\n",
      "At cv- 19\n",
      "\n",
      " cross validation score is- 77.6370777716467\n",
      "\n",
      " Accuracy score is- 77.7\n"
     ]
    }
   ],
   "source": [
    "for i in range(4,20):\n",
    "    cv_score=cross_val_score(lr,x,y,cv=i)\n",
    "    cv_mean=cv_score.mean()\n",
    "    print(\"\\n\\nAt cv-\",i)\n",
    "    print(\"\\n cross validation score is-\",cv_mean*100)\n",
    "    print(\"\\n Accuracy score is-\",test_accuracy)"
   ]
  },
  {
   "cell_type": "markdown",
   "id": "7da173e1",
   "metadata": {},
   "source": [
    "So we are getting the least difference between cross_val_score and accuracy score at cv=19"
   ]
  },
  {
   "cell_type": "code",
   "execution_count": 28,
   "id": "c4162391",
   "metadata": {},
   "outputs": [
    {
     "name": "stdout",
     "output_type": "stream",
     "text": [
      "cross validation score is- 77.6370777716467\n",
      "accuracy score for linear regression model is- 77.7\n"
     ]
    }
   ],
   "source": [
    "cv_score_best=cross_val_score(lr,x,y,cv=19).mean()*100\n",
    "print(\"cross validation score is-\",cv_score_best)\n",
    "print(\"accuracy score for linear regression model is-\",test_accuracy)"
   ]
  },
  {
   "cell_type": "markdown",
   "id": "e60fef43",
   "metadata": {},
   "source": [
    "## Confusion matrix"
   ]
  },
  {
   "cell_type": "code",
   "execution_count": 55,
   "id": "075f78b0",
   "metadata": {},
   "outputs": [
    {
     "data": {
      "image/png": "[encoded data removed]",
      "text/plain": [
       "<Figure size 432x288 with 2 Axes>"
      ]
     },
     "metadata": {
      "needs_background": "light"
     },
     "output_type": "display_data"
    }
   ],
   "source": [
    "confusion_matrix = metrics.confusion_matrix(y_test, pred_test)\n",
    "cm = metrics.ConfusionMatrixDisplay(confusion_matrix = confusion_matrix, display_labels = [False, True])\n",
    "cm.plot()\n",
    "plt.show()"
   ]
  },
  {
   "cell_type": "markdown",
   "id": "e5a255d2",
   "metadata": {},
   "source": [
    "## AUC-ROC Curve"
   ]
  },
  {
   "cell_type": "code",
   "execution_count": 56,
   "id": "e7e7b55e",
   "metadata": {},
   "outputs": [
    {
     "data": {
      "image/png": "[encoded data removed]",
      "text/plain": [
       "<Figure size 432x288 with 1 Axes>"
      ]
     },
     "metadata": {
      "needs_background": "light"
     },
     "output_type": "display_data"
    }
   ],
   "source": [
    "fpr,tpr,thresholds=roc_curve(pred_test,y_test)\n",
    "roc_auc=auc(fpr,tpr)\n",
    "\n",
    "plt.figure()\n",
    "plt.plot(fpr,tpr,color='orange',lw=10,label=\"ROC curve (area=%0.2f)\"%roc_auc)\n",
    "plt.plot([0,1],[0,1],color='navy',lw=10,linestyle=\"--\")\n",
    "plt.xlim([0.0,1.0])\n",
    "plt.ylim([0.0,1.05])\n",
    "plt.xlabel(\"false positive rate\")\n",
    "plt.ylabel(\"true positive rate\")\n",
    "plt.title(\"reciever operating characteristics\")\n",
    "plt.legend(loc=\"lower right\")\n",
    "plt.show()"
   ]
  },
  {
   "cell_type": "markdown",
   "id": "c39101d9",
   "metadata": {},
   "source": [
    "## Classification Report"
   ]
  },
  {
   "cell_type": "code",
   "execution_count": 57,
   "id": "ab7ec79b",
   "metadata": {},
   "outputs": [
    {
     "name": "stdout",
     "output_type": "stream",
     "text": [
      "              precision    recall  f1-score   support\n",
      "\n",
      "           0       0.79      0.77      0.78      4732\n",
      "           1       0.77      0.79      0.78      4616\n",
      "\n",
      "    accuracy                           0.78      9348\n",
      "   macro avg       0.78      0.78      0.78      9348\n",
      "weighted avg       0.78      0.78      0.78      9348\n",
      "\n"
     ]
    }
   ],
   "source": [
    "print(classification_report(y_test, pred_test))"
   ]
  },
  {
   "cell_type": "markdown",
   "id": "742f3bda",
   "metadata": {},
   "source": [
    "## Decision Tree"
   ]
  },
  {
   "cell_type": "code",
   "execution_count": 29,
   "id": "36996912",
   "metadata": {},
   "outputs": [],
   "source": [
    "from sklearn.tree import DecisionTreeClassifier"
   ]
  },
  {
   "cell_type": "code",
   "execution_count": 58,
   "id": "e385659e",
   "metadata": {},
   "outputs": [
    {
     "name": "stdout",
     "output_type": "stream",
     "text": [
      "\n",
      " At random state: 0\n",
      "acc train 100.0\n",
      "acc test 91.4\n",
      "\n",
      " At random state: 1\n",
      "acc train 100.0\n",
      "acc test 92.1\n",
      "\n",
      " At random state: 2\n",
      "acc train 100.0\n",
      "acc test 92.0\n",
      "\n",
      " At random state: 3\n",
      "acc train 100.0\n",
      "acc test 91.6\n",
      "\n",
      " At random state: 4\n",
      "acc train 100.0\n",
      "acc test 92.4\n",
      "\n",
      " At random state: 5\n",
      "acc train 100.0\n",
      "acc test 92.0\n",
      "\n",
      " At random state: 6\n",
      "acc train 100.0\n",
      "acc test 92.0\n",
      "\n",
      " At random state: 7\n",
      "acc train 100.0\n",
      "acc test 91.8\n",
      "\n",
      " At random state: 8\n",
      "acc train 100.0\n",
      "acc test 92.3\n",
      "\n",
      " At random state: 9\n",
      "acc train 100.0\n",
      "acc test 92.1\n",
      "\n",
      " At random state: 10\n",
      "acc train 100.0\n",
      "acc test 92.1\n",
      "\n",
      " At random state: 11\n",
      "acc train 100.0\n",
      "acc test 92.1\n",
      "\n",
      " At random state: 12\n",
      "acc train 100.0\n",
      "acc test 92.0\n",
      "\n",
      " At random state: 13\n",
      "acc train 100.0\n",
      "acc test 91.5\n",
      "\n",
      " At random state: 14\n",
      "acc train 100.0\n",
      "acc test 92.1\n",
      "\n",
      " At random state: 15\n",
      "acc train 100.0\n",
      "acc test 92.0\n",
      "\n",
      " At random state: 16\n",
      "acc train 100.0\n",
      "acc test 92.7\n",
      "\n",
      " At random state: 17\n",
      "acc train 100.0\n",
      "acc test 92.1\n",
      "\n",
      " At random state: 18\n",
      "acc train 100.0\n",
      "acc test 92.2\n",
      "\n",
      " At random state: 19\n",
      "acc train 100.0\n",
      "acc test 91.8\n",
      "\n",
      " At random state: 20\n",
      "acc train 100.0\n",
      "acc test 92.7\n",
      "\n",
      " At random state: 21\n",
      "acc train 100.0\n",
      "acc test 92.4\n",
      "\n",
      " At random state: 22\n",
      "acc train 100.0\n",
      "acc test 92.0\n",
      "\n",
      " At random state: 23\n",
      "acc train 100.0\n",
      "acc test 91.8\n",
      "\n",
      " At random state: 24\n",
      "acc train 100.0\n",
      "acc test 92.2\n",
      "\n",
      " At random state: 25\n",
      "acc train 100.0\n",
      "acc test 91.9\n",
      "\n",
      " At random state: 26\n",
      "acc train 100.0\n",
      "acc test 92.5\n",
      "\n",
      " At random state: 27\n",
      "acc train 100.0\n",
      "acc test 92.0\n",
      "\n",
      " At random state: 28\n",
      "acc train 100.0\n",
      "acc test 92.2\n",
      "\n",
      " At random state: 29\n",
      "acc train 100.0\n",
      "acc test 92.0\n",
      "\n",
      " At random state: 30\n",
      "acc train 100.0\n",
      "acc test 91.8\n",
      "\n",
      " At random state: 31\n",
      "acc train 100.0\n",
      "acc test 91.7\n",
      "\n",
      " At random state: 32\n",
      "acc train 100.0\n",
      "acc test 91.9\n",
      "\n",
      " At random state: 33\n",
      "acc train 100.0\n",
      "acc test 92.2\n",
      "\n",
      " At random state: 34\n",
      "acc train 100.0\n",
      "acc test 92.1\n",
      "\n",
      " At random state: 35\n",
      "acc train 100.0\n",
      "acc test 92.0\n",
      "\n",
      " At random state: 36\n",
      "acc train 100.0\n",
      "acc test 92.2\n",
      "\n",
      " At random state: 37\n",
      "acc train 100.0\n",
      "acc test 91.7\n",
      "\n",
      " At random state: 38\n",
      "acc train 100.0\n",
      "acc test 92.4\n",
      "\n",
      " At random state: 39\n",
      "acc train 100.0\n",
      "acc test 91.7\n"
     ]
    }
   ],
   "source": [
    "\n",
    "dt=DecisionTreeClassifier()\n",
    "for i in range(40):\n",
    "    x_train,x_test,y_train,y_test=train_test_split(x,y,random_state=i,test_size=0.20)\n",
    "    dt.fit(x_train,y_train)\n",
    "    dt_pred_train=dt.predict(x_train)\n",
    "    dt_pred_test=dt.predict(x_test)\n",
    "    dt_acc_train=round(accuracy_score(y_train,dt_pred_train)*100,1)\n",
    "    dt_acc_test=round(accuracy_score(y_test,dt_pred_test)*100,1)\n",
    "    print(\"\\n At random state:\",i)\n",
    "    print(\"acc train\",dt_acc_train)\n",
    "    print(\"acc test\",dt_acc_test)"
   ]
  },
  {
   "cell_type": "code",
   "execution_count": 30,
   "id": "df2b27b4",
   "metadata": {},
   "outputs": [
    {
     "name": "stdout",
     "output_type": "stream",
     "text": [
      "acc train 100.0\n",
      "acc test 92.2\n"
     ]
    }
   ],
   "source": [
    "x_train,x_test,y_train,y_test=train_test_split(x,y,random_state=38,test_size=0.20)\n",
    "dt=DecisionTreeClassifier()\n",
    "dt.fit(x_train,y_train)\n",
    "dt_pred_train=dt.predict(x_train)\n",
    "dt_pred_test=dt.predict(x_test)\n",
    "dt_acc_train=round(accuracy_score(y_train,dt_pred_train)*100,1)\n",
    "dt_acc_test=round(accuracy_score(y_test,dt_pred_test)*100,1)\n",
    "print(\"acc train\",dt_acc_train)\n",
    "print(\"acc test\",dt_acc_test)"
   ]
  },
  {
   "cell_type": "markdown",
   "id": "63129654",
   "metadata": {},
   "source": [
    "## Cross Validation score"
   ]
  },
  {
   "cell_type": "code",
   "execution_count": 60,
   "id": "fb082b9a",
   "metadata": {},
   "outputs": [
    {
     "name": "stdout",
     "output_type": "stream",
     "text": [
      "\n",
      "\n",
      "At cv- 4\n",
      "\n",
      " cross validation score is- 91.64064572612969\n",
      "\n",
      " Accuracy score is- 92.2\n",
      "\n",
      "\n",
      "At cv- 5\n",
      "\n",
      " cross validation score is- 91.95088921462379\n",
      "\n",
      " Accuracy score is- 92.2\n",
      "\n",
      "\n",
      "At cv- 6\n",
      "\n",
      " cross validation score is- 92.481497583928\n",
      "\n",
      " Accuracy score is- 92.2\n",
      "\n",
      "\n",
      "At cv- 7\n",
      "\n",
      " cross validation score is- 92.48577644392697\n",
      "\n",
      " Accuracy score is- 92.2\n",
      "\n",
      "\n",
      "At cv- 8\n",
      "\n",
      " cross validation score is- 92.54783299486161\n",
      "\n",
      " Accuracy score is- 92.2\n",
      "\n",
      "\n",
      "At cv- 9\n",
      "\n",
      " cross validation score is- 92.8623444625444\n",
      "\n",
      " Accuracy score is- 92.2\n",
      "\n",
      "\n",
      "At cv- 10\n",
      "\n",
      " cross validation score is- 92.83881924045681\n",
      "\n",
      " Accuracy score is- 92.2\n",
      "\n",
      "\n",
      "At cv- 11\n",
      "\n",
      " cross validation score is- 92.83024548430966\n",
      "\n",
      " Accuracy score is- 92.2\n",
      "\n",
      "\n",
      "At cv- 12\n",
      "\n",
      " cross validation score is- 92.8302360653158\n",
      "\n",
      " Accuracy score is- 92.2\n",
      "\n",
      "\n",
      "At cv- 13\n",
      "\n",
      " cross validation score is- 92.7703713206536\n",
      "\n",
      " Accuracy score is- 92.2\n",
      "\n",
      "\n",
      "At cv- 14\n",
      "\n",
      " cross validation score is- 92.85166919566362\n",
      "\n",
      " Accuracy score is- 92.2\n"
     ]
    }
   ],
   "source": [
    "for i in range(4,15):\n",
    "    cv_score=cross_val_score(dt,x,y,cv=i)\n",
    "    cv_mean=cv_score.mean()\n",
    "    print(\"\\n\\nAt cv-\",i)\n",
    "    print(\"\\n cross validation score is-\",cv_mean*100)\n",
    "    print(\"\\n Accuracy score is-\",dt_acc_test)"
   ]
  },
  {
   "cell_type": "markdown",
   "id": "0638b445",
   "metadata": {},
   "source": [
    "So we are getting the least difference between cross_val_score and accuracy score at cv=5"
   ]
  },
  {
   "cell_type": "code",
   "execution_count": 31,
   "id": "d6a9a6f4",
   "metadata": {},
   "outputs": [
    {
     "name": "stdout",
     "output_type": "stream",
     "text": [
      "cross validation score is- 92.04503294941449\n",
      "accuracy score for decision tree classifier model is- 92.2\n"
     ]
    }
   ],
   "source": [
    "cv_score_best_dt=cross_val_score(dt,x,y,cv=5).mean()*100\n",
    "print(\"cross validation score is-\",cv_score_best_dt)\n",
    "print(\"accuracy score for decision tree classifier model is-\",dt_acc_test)"
   ]
  },
  {
   "cell_type": "markdown",
   "id": "de1988b1",
   "metadata": {},
   "source": [
    "## Confusion matrix"
   ]
  },
  {
   "cell_type": "code",
   "execution_count": 63,
   "id": "b5f0ed77",
   "metadata": {},
   "outputs": [
    {
     "data": {
      "image/png": "[encoded data removed]",
      "text/plain": [
       "<Figure size 432x288 with 2 Axes>"
      ]
     },
     "metadata": {
      "needs_background": "light"
     },
     "output_type": "display_data"
    }
   ],
   "source": [
    "confusion_matrix = metrics.confusion_matrix(y_test, dt_pred_test)\n",
    "cm = metrics.ConfusionMatrixDisplay(confusion_matrix = confusion_matrix, display_labels = [False, True])\n",
    "cm.plot()\n",
    "plt.show()"
   ]
  },
  {
   "cell_type": "markdown",
   "id": "15fc48d6",
   "metadata": {},
   "source": [
    "## AUC-ROC Curve"
   ]
  },
  {
   "cell_type": "code",
   "execution_count": 64,
   "id": "75689648",
   "metadata": {},
   "outputs": [
    {
     "data": {
      "image/png": "[encoded data removed]",
      "text/plain": [
       "<Figure size 432x288 with 1 Axes>"
      ]
     },
     "metadata": {
      "needs_background": "light"
     },
     "output_type": "display_data"
    }
   ],
   "source": [
    "fpr,tpr,thresholds=roc_curve(dt_pred_test,y_test)\n",
    "roc_auc=auc(fpr,tpr)\n",
    "\n",
    "plt.figure()\n",
    "plt.plot(fpr,tpr,color='orange',lw=10,label=\"ROC curve (area=%0.2f)\"%roc_auc)\n",
    "plt.plot([0,1],[0,1],color='navy',lw=10,linestyle=\"--\")\n",
    "plt.xlim([0.0,1.0])\n",
    "plt.ylim([0.0,1.05])\n",
    "plt.xlabel(\"false positive rate\")\n",
    "plt.ylabel(\"true positive rate\")\n",
    "plt.title(\"reciever operating characteristics\")\n",
    "plt.legend(loc=\"lower right\")\n",
    "plt.show()"
   ]
  },
  {
   "cell_type": "markdown",
   "id": "118e47b0",
   "metadata": {},
   "source": [
    "## Classification Report"
   ]
  },
  {
   "cell_type": "code",
   "execution_count": 65,
   "id": "e3559ecc",
   "metadata": {},
   "outputs": [
    {
     "name": "stdout",
     "output_type": "stream",
     "text": [
      "              precision    recall  f1-score   support\n",
      "\n",
      "           0       0.97      0.87      0.92      4650\n",
      "           1       0.88      0.98      0.93      4698\n",
      "\n",
      "    accuracy                           0.92      9348\n",
      "   macro avg       0.93      0.92      0.92      9348\n",
      "weighted avg       0.93      0.92      0.92      9348\n",
      "\n"
     ]
    }
   ],
   "source": [
    "print(classification_report(y_test, dt_pred_test))"
   ]
  },
  {
   "cell_type": "markdown",
   "id": "f0bb919e",
   "metadata": {},
   "source": [
    "## Random Forest Classifier"
   ]
  },
  {
   "cell_type": "code",
   "execution_count": 12,
   "id": "7607d2ff",
   "metadata": {},
   "outputs": [],
   "source": [
    "from sklearn.ensemble import RandomForestClassifier"
   ]
  },
  {
   "cell_type": "code",
   "execution_count": 13,
   "id": "caa5f846",
   "metadata": {},
   "outputs": [
    {
     "name": "stdout",
     "output_type": "stream",
     "text": [
      "\n",
      "\n",
      "At random state: 0\n",
      "\n",
      "Train Accuracy-  100.0\n",
      "\n",
      "Test Accuracy-  93.1\n",
      "\n",
      "\n",
      "At random state: 1\n",
      "\n",
      "Train Accuracy-  100.0\n",
      "\n",
      "Test Accuracy-  93.3\n",
      "\n",
      "\n",
      "At random state: 2\n",
      "\n",
      "Train Accuracy-  100.0\n",
      "\n",
      "Test Accuracy-  93.4\n",
      "\n",
      "\n",
      "At random state: 3\n",
      "\n",
      "Train Accuracy-  100.0\n",
      "\n",
      "Test Accuracy-  93.2\n",
      "\n",
      "\n",
      "At random state: 4\n",
      "\n",
      "Train Accuracy-  100.0\n",
      "\n",
      "Test Accuracy-  93.3\n",
      "\n",
      "\n",
      "At random state: 5\n",
      "\n",
      "Train Accuracy-  100.0\n",
      "\n",
      "Test Accuracy-  93.1\n",
      "\n",
      "\n",
      "At random state: 6\n",
      "\n",
      "Train Accuracy-  100.0\n",
      "\n",
      "Test Accuracy-  93.3\n",
      "\n",
      "\n",
      "At random state: 7\n",
      "\n",
      "Train Accuracy-  100.0\n",
      "\n",
      "Test Accuracy-  93.2\n",
      "\n",
      "\n",
      "At random state: 8\n",
      "\n",
      "Train Accuracy-  100.0\n",
      "\n",
      "Test Accuracy-  93.0\n",
      "\n",
      "\n",
      "At random state: 9\n",
      "\n",
      "Train Accuracy-  100.0\n",
      "\n",
      "Test Accuracy-  93.2\n",
      "\n",
      "\n",
      "At random state: 10\n",
      "\n",
      "Train Accuracy-  100.0\n",
      "\n",
      "Test Accuracy-  93.1\n",
      "\n",
      "\n",
      "At random state: 11\n",
      "\n",
      "Train Accuracy-  100.0\n",
      "\n",
      "Test Accuracy-  93.4\n",
      "\n",
      "\n",
      "At random state: 12\n",
      "\n",
      "Train Accuracy-  100.0\n",
      "\n",
      "Test Accuracy-  93.5\n",
      "\n",
      "\n",
      "At random state: 13\n",
      "\n",
      "Train Accuracy-  100.0\n",
      "\n",
      "Test Accuracy-  93.2\n",
      "\n",
      "\n",
      "At random state: 14\n",
      "\n",
      "Train Accuracy-  100.0\n",
      "\n",
      "Test Accuracy-  93.3\n",
      "\n",
      "\n",
      "At random state: 15\n",
      "\n",
      "Train Accuracy-  100.0\n",
      "\n",
      "Test Accuracy-  93.0\n",
      "\n",
      "\n",
      "At random state: 16\n",
      "\n",
      "Train Accuracy-  100.0\n",
      "\n",
      "Test Accuracy-  93.5\n",
      "\n",
      "\n",
      "At random state: 17\n",
      "\n",
      "Train Accuracy-  100.0\n",
      "\n",
      "Test Accuracy-  93.3\n",
      "\n",
      "\n",
      "At random state: 18\n",
      "\n",
      "Train Accuracy-  100.0\n",
      "\n",
      "Test Accuracy-  93.5\n",
      "\n",
      "\n",
      "At random state: 19\n",
      "\n",
      "Train Accuracy-  100.0\n",
      "\n",
      "Test Accuracy-  93.1\n",
      "\n",
      "\n",
      "At random state: 20\n",
      "\n",
      "Train Accuracy-  100.0\n",
      "\n",
      "Test Accuracy-  93.6\n",
      "\n",
      "\n",
      "At random state: 21\n",
      "\n",
      "Train Accuracy-  100.0\n",
      "\n",
      "Test Accuracy-  93.2\n",
      "\n",
      "\n",
      "At random state: 22\n",
      "\n",
      "Train Accuracy-  100.0\n",
      "\n",
      "Test Accuracy-  93.4\n",
      "\n",
      "\n",
      "At random state: 23\n",
      "\n",
      "Train Accuracy-  100.0\n",
      "\n",
      "Test Accuracy-  93.0\n",
      "\n",
      "\n",
      "At random state: 24\n",
      "\n",
      "Train Accuracy-  100.0\n",
      "\n",
      "Test Accuracy-  93.6\n",
      "\n",
      "\n",
      "At random state: 25\n",
      "\n",
      "Train Accuracy-  100.0\n",
      "\n",
      "Test Accuracy-  93.4\n",
      "\n",
      "\n",
      "At random state: 26\n",
      "\n",
      "Train Accuracy-  100.0\n",
      "\n",
      "Test Accuracy-  93.8\n",
      "\n",
      "\n",
      "At random state: 27\n",
      "\n",
      "Train Accuracy-  100.0\n",
      "\n",
      "Test Accuracy-  93.0\n",
      "\n",
      "\n",
      "At random state: 28\n",
      "\n",
      "Train Accuracy-  100.0\n",
      "\n",
      "Test Accuracy-  93.5\n",
      "\n",
      "\n",
      "At random state: 29\n",
      "\n",
      "Train Accuracy-  100.0\n",
      "\n",
      "Test Accuracy-  93.5\n",
      "\n",
      "\n",
      "At random state: 30\n",
      "\n",
      "Train Accuracy-  100.0\n",
      "\n",
      "Test Accuracy-  93.1\n",
      "\n",
      "\n",
      "At random state: 31\n",
      "\n",
      "Train Accuracy-  100.0\n",
      "\n",
      "Test Accuracy-  93.2\n",
      "\n",
      "\n",
      "At random state: 32\n",
      "\n",
      "Train Accuracy-  100.0\n",
      "\n",
      "Test Accuracy-  93.4\n",
      "\n",
      "\n",
      "At random state: 33\n",
      "\n",
      "Train Accuracy-  100.0\n",
      "\n",
      "Test Accuracy-  93.3\n",
      "\n",
      "\n",
      "At random state: 34\n",
      "\n",
      "Train Accuracy-  100.0\n",
      "\n",
      "Test Accuracy-  93.2\n",
      "\n",
      "\n",
      "At random state: 35\n",
      "\n",
      "Train Accuracy-  100.0\n",
      "\n",
      "Test Accuracy-  93.1\n",
      "\n",
      "\n",
      "At random state: 36\n",
      "\n",
      "Train Accuracy-  100.0\n",
      "\n",
      "Test Accuracy-  93.3\n",
      "\n",
      "\n",
      "At random state: 37\n",
      "\n",
      "Train Accuracy-  100.0\n",
      "\n",
      "Test Accuracy-  93.1\n",
      "\n",
      "\n",
      "At random state: 38\n",
      "\n",
      "Train Accuracy-  100.0\n",
      "\n",
      "Test Accuracy-  93.2\n",
      "\n",
      "\n",
      "At random state: 39\n",
      "\n",
      "Train Accuracy-  100.0\n",
      "\n",
      "Test Accuracy-  93.0\n",
      "\n",
      "\n",
      " Best accuracy at random state- 0\n"
     ]
    }
   ],
   "source": [
    "\n",
    "rf=RandomForestClassifier()\n",
    "max_ac=0\n",
    "randomState=0\n",
    "\n",
    "for i in range(40):\n",
    "    x_train,x_test,y_train,y_test=train_test_split(x,y,random_state=i,test_size=0.25)\n",
    "    rf.fit(x_train,y_train)\n",
    "    pred_train=rf.predict(x_train)\n",
    "    pred_test=rf.predict(x_test)\n",
    "    \n",
    "    print(\"\\n\\nAt random state:\",i)\n",
    "    print(\"\\nTrain Accuracy- \",round(accuracy_score(y_train,pred_train)*100,1))\n",
    "    print(\"\\nTest Accuracy- \",round(accuracy_score(y_test,pred_test)*100,1))\n",
    "        \n",
    "print(\"\\n\\n Best accuracy at random state-\",randomState)"
   ]
  },
  {
   "cell_type": "code",
   "execution_count": 14,
   "id": "23e36bd4",
   "metadata": {},
   "outputs": [
    {
     "name": "stdout",
     "output_type": "stream",
     "text": [
      "\n",
      "Train Accuracy-  100.0\n",
      "\n",
      "Test Accuracy-  93.8\n"
     ]
    }
   ],
   "source": [
    "x_train,x_test,y_train,y_test=train_test_split(x,y,random_state=1,test_size=0.20)\n",
    "rf=RandomForestClassifier()\n",
    "rf.fit(x_train,y_train)\n",
    "pred_train=rf.predict(x_train)\n",
    "pred_test=rf.predict(x_test)\n",
    "rf_train_acc=round(accuracy_score(y_train,pred_train)*100,1)\n",
    "rf_test_acc=round(accuracy_score(y_test,pred_test)*100,1)\n",
    "print(\"\\nTrain Accuracy- \",rf_train_acc)\n",
    "print(\"\\nTest Accuracy- \",rf_test_acc)"
   ]
  },
  {
   "cell_type": "markdown",
   "id": "b7fda818",
   "metadata": {},
   "source": [
    "## Cross Validation Score"
   ]
  },
  {
   "cell_type": "code",
   "execution_count": 68,
   "id": "e59ccc15",
   "metadata": {},
   "outputs": [
    {
     "name": "stdout",
     "output_type": "stream",
     "text": [
      "\n",
      "\n",
      "At cv- 4\n",
      "\n",
      " cross validation score is- 93.11909285848115\n",
      "\n",
      " Accuracy score is- 93.7\n",
      "\n",
      "\n",
      "At cv- 5\n",
      "\n",
      " cross validation score is- 93.4378966632346\n",
      "\n",
      " Accuracy score is- 93.7\n",
      "\n",
      "\n",
      "At cv- 6\n",
      "\n",
      " cross validation score is- 93.82730261612812\n",
      "\n",
      " Accuracy score is- 93.7\n",
      "\n",
      "\n",
      "At cv- 7\n",
      "\n",
      " cross validation score is- 93.94496958627934\n",
      "\n",
      " Accuracy score is- 93.7\n",
      "\n",
      "\n",
      "At cv- 8\n",
      "\n",
      " cross validation score is- 94.1118590215512\n",
      "\n",
      " Accuracy score is- 93.7\n",
      "\n",
      "\n",
      "At cv- 9\n",
      "\n",
      " cross validation score is- 94.10544494100887\n",
      "\n",
      " Accuracy score is- 93.7\n",
      "\n",
      "\n",
      "At cv- 10\n",
      "\n",
      " cross validation score is- 94.1546540404866\n",
      "\n",
      " Accuracy score is- 93.7\n",
      "\n",
      "\n",
      "At cv- 11\n",
      "\n",
      " cross validation score is- 94.2295268604849\n",
      "\n",
      " Accuracy score is- 93.7\n",
      "\n",
      "\n",
      "At cv- 12\n",
      "\n",
      " cross validation score is- 94.28944863003083\n",
      "\n",
      " Accuracy score is- 93.7\n",
      "\n",
      "\n",
      "At cv- 13\n",
      "\n",
      " cross validation score is- 94.32796601385249\n",
      "\n",
      " Accuracy score is- 93.7\n",
      "\n",
      "\n",
      "At cv- 14\n",
      "\n",
      " cross validation score is- 94.35150114701439\n",
      "\n",
      " Accuracy score is- 93.7\n"
     ]
    }
   ],
   "source": [
    "for i in range(4,15):\n",
    "    cv_score=cross_val_score(rf,x,y,cv=i)\n",
    "    cv_mean=cv_score.mean()\n",
    "    print(\"\\n\\nAt cv-\",i)\n",
    "    print(\"\\n cross validation score is-\",cv_mean*100)\n",
    "    print(\"\\n Accuracy score is-\",rf_test_acc)"
   ]
  },
  {
   "cell_type": "markdown",
   "id": "96f944f9",
   "metadata": {},
   "source": [
    "So we are getting the least difference between cross_val_score and accuracy score at cv=6"
   ]
  },
  {
   "cell_type": "code",
   "execution_count": 35,
   "id": "80763a94",
   "metadata": {},
   "outputs": [
    {
     "name": "stdout",
     "output_type": "stream",
     "text": [
      "cross validation score is- 93.82943963907276\n",
      "accuracy score for random forest classifier model is- 93.7\n"
     ]
    }
   ],
   "source": [
    "cv_score_best_rf=cross_val_score(rf,x,y,cv=6).mean()*100\n",
    "print(\"cross validation score is-\",cv_score_best_rf)\n",
    "print(\"accuracy score for random forest classifier model is-\",rf_test_acc)"
   ]
  },
  {
   "cell_type": "markdown",
   "id": "66c0a9c5",
   "metadata": {},
   "source": [
    "## Confusion Matrix"
   ]
  },
  {
   "cell_type": "code",
   "execution_count": 70,
   "id": "3953b436",
   "metadata": {},
   "outputs": [
    {
     "data": {
      "image/png": "[encoded data removed]",
      "text/plain": [
       "<Figure size 432x288 with 2 Axes>"
      ]
     },
     "metadata": {
      "needs_background": "light"
     },
     "output_type": "display_data"
    }
   ],
   "source": [
    "confusion_matrix = metrics.confusion_matrix(y_test, pred_test)\n",
    "cm = metrics.ConfusionMatrixDisplay(confusion_matrix = confusion_matrix, display_labels = [False, True])\n",
    "cm.plot()\n",
    "plt.show()"
   ]
  },
  {
   "cell_type": "markdown",
   "id": "87f1182c",
   "metadata": {},
   "source": [
    "## AUC-ROC Curve"
   ]
  },
  {
   "cell_type": "code",
   "execution_count": 71,
   "id": "5aca238e",
   "metadata": {},
   "outputs": [
    {
     "data": {
      "image/png": "[encoded data removed]",
      "text/plain": [
       "<Figure size 432x288 with 1 Axes>"
      ]
     },
     "metadata": {
      "needs_background": "light"
     },
     "output_type": "display_data"
    }
   ],
   "source": [
    "fpr,tpr,thresholds=roc_curve(pred_test,y_test)\n",
    "roc_auc=auc(fpr,tpr)\n",
    "\n",
    "plt.figure()\n",
    "plt.plot(fpr,tpr,color='orange',lw=10,label=\"ROC curve (area=%0.2f)\"%roc_auc)\n",
    "plt.plot([0,1],[0,1],color='navy',lw=10,linestyle=\"--\")\n",
    "plt.xlim([0.0,1.0])\n",
    "plt.ylim([0.0,1.05])\n",
    "plt.xlabel(\"false positive rate\")\n",
    "plt.ylabel(\"true positive rate\")\n",
    "plt.title(\"reciever operating characteristics\")\n",
    "plt.legend(loc=\"lower right\")\n",
    "plt.show()"
   ]
  },
  {
   "cell_type": "markdown",
   "id": "bb7ca6b0",
   "metadata": {},
   "source": [
    "## Classifictaion Report"
   ]
  },
  {
   "cell_type": "code",
   "execution_count": 72,
   "id": "5aaea617",
   "metadata": {},
   "outputs": [
    {
     "name": "stdout",
     "output_type": "stream",
     "text": [
      "              precision    recall  f1-score   support\n",
      "\n",
      "           0       0.98      0.89      0.93      4716\n",
      "           1       0.90      0.98      0.94      4632\n",
      "\n",
      "    accuracy                           0.94      9348\n",
      "   macro avg       0.94      0.94      0.94      9348\n",
      "weighted avg       0.94      0.94      0.94      9348\n",
      "\n"
     ]
    }
   ],
   "source": [
    "print(classification_report(y_test, pred_test))"
   ]
  },
  {
   "cell_type": "markdown",
   "id": "33d1c443",
   "metadata": {},
   "source": [
    "## Knn Classifier"
   ]
  },
  {
   "cell_type": "code",
   "execution_count": 36,
   "id": "adc665a7",
   "metadata": {},
   "outputs": [],
   "source": [
    "from sklearn.neighbors import KNeighborsClassifier"
   ]
  },
  {
   "cell_type": "code",
   "execution_count": 73,
   "id": "248409fc",
   "metadata": {},
   "outputs": [
    {
     "name": "stdout",
     "output_type": "stream",
     "text": [
      "\n",
      "\n",
      "At random state: 0\n",
      "\n",
      "Train Accuracy-  88.8\n",
      "\n",
      "Test Accuracy-  83.8\n",
      "\n",
      "\n",
      "At random state: 1\n",
      "\n",
      "Train Accuracy-  88.9\n",
      "\n",
      "Test Accuracy-  83.3\n",
      "\n",
      "\n",
      "At random state: 2\n",
      "\n",
      "Train Accuracy-  88.6\n",
      "\n",
      "Test Accuracy-  83.6\n",
      "\n",
      "\n",
      "At random state: 3\n",
      "\n",
      "Train Accuracy-  88.9\n",
      "\n",
      "Test Accuracy-  83.5\n",
      "\n",
      "\n",
      "At random state: 4\n",
      "\n",
      "Train Accuracy-  88.9\n",
      "\n",
      "Test Accuracy-  83.2\n",
      "\n",
      "\n",
      "At random state: 5\n",
      "\n",
      "Train Accuracy-  88.7\n",
      "\n",
      "Test Accuracy-  84.0\n",
      "\n",
      "\n",
      "At random state: 6\n",
      "\n",
      "Train Accuracy-  88.9\n",
      "\n",
      "Test Accuracy-  83.9\n",
      "\n",
      "\n",
      "At random state: 7\n",
      "\n",
      "Train Accuracy-  88.8\n",
      "\n",
      "Test Accuracy-  83.8\n",
      "\n",
      "\n",
      "At random state: 8\n",
      "\n",
      "Train Accuracy-  88.9\n",
      "\n",
      "Test Accuracy-  83.2\n",
      "\n",
      "\n",
      "At random state: 9\n",
      "\n",
      "Train Accuracy-  88.7\n",
      "\n",
      "Test Accuracy-  83.9\n",
      "\n",
      "\n",
      "At random state: 10\n",
      "\n",
      "Train Accuracy-  88.9\n",
      "\n",
      "Test Accuracy-  84.3\n",
      "\n",
      "\n",
      "At random state: 11\n",
      "\n",
      "Train Accuracy-  88.8\n",
      "\n",
      "Test Accuracy-  83.8\n",
      "\n",
      "\n",
      "At random state: 12\n",
      "\n",
      "Train Accuracy-  88.4\n",
      "\n",
      "Test Accuracy-  83.7\n",
      "\n",
      "\n",
      "At random state: 13\n",
      "\n",
      "Train Accuracy-  88.8\n",
      "\n",
      "Test Accuracy-  84.1\n",
      "\n",
      "\n",
      "At random state: 14\n",
      "\n",
      "Train Accuracy-  88.7\n",
      "\n",
      "Test Accuracy-  83.8\n",
      "\n",
      "\n",
      "At random state: 15\n",
      "\n",
      "Train Accuracy-  88.7\n",
      "\n",
      "Test Accuracy-  83.7\n",
      "\n",
      "\n",
      "At random state: 16\n",
      "\n",
      "Train Accuracy-  88.6\n",
      "\n",
      "Test Accuracy-  83.1\n",
      "\n",
      "\n",
      "At random state: 17\n",
      "\n",
      "Train Accuracy-  88.8\n",
      "\n",
      "Test Accuracy-  84.2\n",
      "\n",
      "\n",
      "At random state: 18\n",
      "\n",
      "Train Accuracy-  88.6\n",
      "\n",
      "Test Accuracy-  83.9\n",
      "\n",
      "\n",
      "At random state: 19\n",
      "\n",
      "Train Accuracy-  88.8\n",
      "\n",
      "Test Accuracy-  83.4\n",
      "\n",
      "\n",
      "At random state: 20\n",
      "\n",
      "Train Accuracy-  88.7\n",
      "\n",
      "Test Accuracy-  84.3\n",
      "\n",
      "\n",
      "At random state: 21\n",
      "\n",
      "Train Accuracy-  88.7\n",
      "\n",
      "Test Accuracy-  83.7\n",
      "\n",
      "\n",
      "At random state: 22\n",
      "\n",
      "Train Accuracy-  88.8\n",
      "\n",
      "Test Accuracy-  83.7\n",
      "\n",
      "\n",
      "At random state: 23\n",
      "\n",
      "Train Accuracy-  88.8\n",
      "\n",
      "Test Accuracy-  83.9\n",
      "\n",
      "\n",
      "At random state: 24\n",
      "\n",
      "Train Accuracy-  88.5\n",
      "\n",
      "Test Accuracy-  83.9\n",
      "\n",
      "\n",
      "At random state: 25\n",
      "\n",
      "Train Accuracy-  88.6\n",
      "\n",
      "Test Accuracy-  84.2\n",
      "\n",
      "\n",
      "At random state: 26\n",
      "\n",
      "Train Accuracy-  88.5\n",
      "\n",
      "Test Accuracy-  83.8\n",
      "\n",
      "\n",
      "At random state: 27\n",
      "\n",
      "Train Accuracy-  88.7\n",
      "\n",
      "Test Accuracy-  83.1\n",
      "\n",
      "\n",
      "At random state: 28\n",
      "\n",
      "Train Accuracy-  88.8\n",
      "\n",
      "Test Accuracy-  83.5\n",
      "\n",
      "\n",
      "At random state: 29\n",
      "\n",
      "Train Accuracy-  88.6\n",
      "\n",
      "Test Accuracy-  83.7\n",
      "\n",
      "\n",
      "At random state: 30\n",
      "\n",
      "Train Accuracy-  88.7\n",
      "\n",
      "Test Accuracy-  83.8\n",
      "\n",
      "\n",
      "At random state: 31\n",
      "\n",
      "Train Accuracy-  88.7\n",
      "\n",
      "Test Accuracy-  83.5\n",
      "\n",
      "\n",
      "At random state: 32\n",
      "\n",
      "Train Accuracy-  88.6\n",
      "\n",
      "Test Accuracy-  83.9\n",
      "\n",
      "\n",
      "At random state: 33\n",
      "\n",
      "Train Accuracy-  88.7\n",
      "\n",
      "Test Accuracy-  83.5\n",
      "\n",
      "\n",
      "At random state: 34\n",
      "\n",
      "Train Accuracy-  88.8\n",
      "\n",
      "Test Accuracy-  84.2\n",
      "\n",
      "\n",
      "At random state: 35\n",
      "\n",
      "Train Accuracy-  88.7\n",
      "\n",
      "Test Accuracy-  83.7\n",
      "\n",
      "\n",
      "At random state: 36\n",
      "\n",
      "Train Accuracy-  88.6\n",
      "\n",
      "Test Accuracy-  83.3\n",
      "\n",
      "\n",
      "At random state: 37\n",
      "\n",
      "Train Accuracy-  88.8\n",
      "\n",
      "Test Accuracy-  83.5\n",
      "\n",
      "\n",
      "At random state: 38\n",
      "\n",
      "Train Accuracy-  88.7\n",
      "\n",
      "Test Accuracy-  84.1\n",
      "\n",
      "\n",
      "At random state: 39\n",
      "\n",
      "Train Accuracy-  88.8\n",
      "\n",
      "Test Accuracy-  83.6\n",
      "\n",
      "\n",
      " Best accuracy at random state- 0\n"
     ]
    }
   ],
   "source": [
    "\n",
    "max_ac=0\n",
    "randomState=0\n",
    "knn=KNeighborsClassifier()\n",
    "for i in range(40):\n",
    "    x_train,x_test,y_train,y_test=train_test_split(x,y,random_state=i,test_size=0.25)\n",
    "    knn.fit(x_train,y_train)\n",
    "    pred_train=knn.predict(x_train)\n",
    "    pred_test=knn.predict(x_test)\n",
    "    \n",
    "    print(\"\\n\\nAt random state:\",i)\n",
    "    print(\"\\nTrain Accuracy- \",round(accuracy_score(y_train,pred_train)*100,1))\n",
    "    print(\"\\nTest Accuracy- \",round(accuracy_score(y_test,pred_test)*100,1))\n",
    "        \n",
    "print(\"\\n\\n Best accuracy at random state-\",randomState)"
   ]
  },
  {
   "cell_type": "code",
   "execution_count": 37,
   "id": "b7e3ddd9",
   "metadata": {},
   "outputs": [
    {
     "name": "stdout",
     "output_type": "stream",
     "text": [
      "\n",
      "Train Accuracy-  88.9\n",
      "\n",
      "Test Accuracy-  84.7\n"
     ]
    }
   ],
   "source": [
    "knn=KNeighborsClassifier()\n",
    "x_train,x_test,y_train,y_test=train_test_split(x,y,random_state=20,test_size=0.20)\n",
    "knn.fit(x_train,y_train)\n",
    "pred_train=knn.predict(x_train)\n",
    "pred_test=knn.predict(x_test)\n",
    "knn_train_acc=round(accuracy_score(y_train,pred_train)*100,1)\n",
    "knn_test_acc=round(accuracy_score(y_test,pred_test)*100,1)\n",
    "print(\"\\nTrain Accuracy- \",knn_train_acc)\n",
    "print(\"\\nTest Accuracy- \",knn_test_acc)"
   ]
  },
  {
   "cell_type": "markdown",
   "id": "2a7df7c2",
   "metadata": {},
   "source": [
    "## Cross Validation Score"
   ]
  },
  {
   "cell_type": "code",
   "execution_count": 75,
   "id": "45ca7b4a",
   "metadata": {},
   "outputs": [
    {
     "name": "stdout",
     "output_type": "stream",
     "text": [
      "\n",
      "\n",
      "At cv- 4\n",
      "\n",
      " cross validation score is- 83.62789368357475\n",
      "\n",
      " Accuracy score is- 84.7\n",
      "\n",
      "\n",
      "At cv- 5\n",
      "\n",
      " cross validation score is- 84.05153278444881\n",
      "\n",
      " Accuracy score is- 84.7\n",
      "\n",
      "\n",
      "At cv- 6\n",
      "\n",
      " cross validation score is- 84.29972175302026\n",
      "\n",
      " Accuracy score is- 84.7\n",
      "\n",
      "\n",
      "At cv- 7\n",
      "\n",
      " cross validation score is- 84.4901385690492\n",
      "\n",
      " Accuracy score is- 84.7\n",
      "\n",
      "\n",
      "At cv- 8\n",
      "\n",
      " cross validation score is- 84.55860456626002\n",
      "\n",
      " Accuracy score is- 84.7\n",
      "\n",
      "\n",
      "At cv- 9\n",
      "\n",
      " cross validation score is- 84.55647352129918\n",
      "\n",
      " Accuracy score is- 84.7\n",
      "\n",
      "\n",
      "At cv- 10\n",
      "\n",
      " cross validation score is- 84.61424670223366\n",
      "\n",
      " Accuracy score is- 84.7\n",
      "\n",
      "\n",
      "At cv- 11\n",
      "\n",
      " cross validation score is- 84.63989170296936\n",
      "\n",
      " Accuracy score is- 84.7\n",
      "\n",
      "\n",
      "At cv- 12\n",
      "\n",
      " cross validation score is- 84.71266262415278\n",
      "\n",
      " Accuracy score is- 84.7\n",
      "\n",
      "\n",
      "At cv- 13\n",
      "\n",
      " cross validation score is- 84.84531092819392\n",
      "\n",
      " Accuracy score is- 84.7\n",
      "\n",
      "\n",
      "At cv- 14\n",
      "\n",
      " cross validation score is- 84.90310459208986\n",
      "\n",
      " Accuracy score is- 84.7\n"
     ]
    }
   ],
   "source": [
    "for i in range(4,15):\n",
    "    cv_score=cross_val_score(knn,x,y,cv=i)\n",
    "    cv_mean=cv_score.mean()\n",
    "    print(\"\\n\\nAt cv-\",i)\n",
    "    print(\"\\n cross validation score is-\",cv_mean*100)\n",
    "    print(\"\\n Accuracy score is-\",knn_test_acc)"
   ]
  },
  {
   "cell_type": "markdown",
   "id": "05708a0d",
   "metadata": {},
   "source": [
    "So we are getting the least difference between cross_val_score and accuracy score at cv=4"
   ]
  },
  {
   "cell_type": "code",
   "execution_count": 38,
   "id": "b7b0601e",
   "metadata": {},
   "outputs": [
    {
     "name": "stdout",
     "output_type": "stream",
     "text": [
      "cross validation score is- 83.62789368357475\n",
      "accuracy score for Knn classifier model is- 84.7\n"
     ]
    }
   ],
   "source": [
    "cv_score_best_knn=cross_val_score(knn,x,y,cv=4).mean()*100\n",
    "print(\"cross validation score is-\",cv_score_best_knn)\n",
    "print(\"accuracy score for Knn classifier model is-\",knn_test_acc)"
   ]
  },
  {
   "cell_type": "markdown",
   "id": "0408266a",
   "metadata": {},
   "source": [
    "## Confusion Matrix"
   ]
  },
  {
   "cell_type": "code",
   "execution_count": 77,
   "id": "b6f5a928",
   "metadata": {},
   "outputs": [
    {
     "data": {
      "image/png": "[encoded data removed]",
      "text/plain": [
       "<Figure size 432x288 with 2 Axes>"
      ]
     },
     "metadata": {
      "needs_background": "light"
     },
     "output_type": "display_data"
    }
   ],
   "source": [
    "confusion_matrix = metrics.confusion_matrix(y_test, pred_test)\n",
    "cm = metrics.ConfusionMatrixDisplay(confusion_matrix = confusion_matrix, display_labels = [False, True])\n",
    "cm.plot()\n",
    "plt.show()"
   ]
  },
  {
   "cell_type": "markdown",
   "id": "61773de5",
   "metadata": {},
   "source": [
    "## AUC-ROC Curve"
   ]
  },
  {
   "cell_type": "code",
   "execution_count": 78,
   "id": "a08dff21",
   "metadata": {},
   "outputs": [
    {
     "data": {
      "image/png": "[encoded data removed]",
      "text/plain": [
       "<Figure size 432x288 with 1 Axes>"
      ]
     },
     "metadata": {
      "needs_background": "light"
     },
     "output_type": "display_data"
    }
   ],
   "source": [
    "fpr,tpr,thresholds=roc_curve(pred_test,y_test)\n",
    "roc_auc=auc(fpr,tpr)\n",
    "\n",
    "plt.figure()\n",
    "plt.plot(fpr,tpr,color='orange',lw=10,label=\"ROC curve (area=%0.2f)\"%roc_auc)\n",
    "plt.plot([0,1],[0,1],color='navy',lw=10,linestyle=\"--\")\n",
    "plt.xlim([0.0,1.0])\n",
    "plt.ylim([0.0,1.05])\n",
    "plt.xlabel(\"false positive rate\")\n",
    "plt.ylabel(\"true positive rate\")\n",
    "plt.title(\"reciever operating characteristics\")\n",
    "plt.legend(loc=\"lower right\")\n",
    "plt.show()"
   ]
  },
  {
   "cell_type": "markdown",
   "id": "711a0bb2",
   "metadata": {},
   "source": [
    "## Classification Report"
   ]
  },
  {
   "cell_type": "code",
   "execution_count": 79,
   "id": "8b15df11",
   "metadata": {},
   "outputs": [
    {
     "name": "stdout",
     "output_type": "stream",
     "text": [
      "              precision    recall  f1-score   support\n",
      "\n",
      "           0       0.90      0.78      0.84      4723\n",
      "           1       0.80      0.92      0.86      4625\n",
      "\n",
      "    accuracy                           0.85      9348\n",
      "   macro avg       0.85      0.85      0.85      9348\n",
      "weighted avg       0.85      0.85      0.85      9348\n",
      "\n"
     ]
    }
   ],
   "source": [
    "print(classification_report(y_test, pred_test))"
   ]
  },
  {
   "cell_type": "markdown",
   "id": "df8a977f",
   "metadata": {},
   "source": [
    "## XGBoost Classifier"
   ]
  },
  {
   "cell_type": "code",
   "execution_count": 1,
   "id": "d3df03e9",
   "metadata": {},
   "outputs": [],
   "source": [
    "from xgboost import XGBClassifier"
   ]
  },
  {
   "cell_type": "code",
   "execution_count": 20,
   "id": "928aa1f5",
   "metadata": {},
   "outputs": [
    {
     "name": "stdout",
     "output_type": "stream",
     "text": [
      "\n",
      "Train Accuracy-  90.2\n",
      "\n",
      "Test Accuracy-  88.2\n"
     ]
    }
   ],
   "source": [
    "xgmod=XGBClassifier()\n",
    "x_train,x_test,y_train,y_test=train_test_split(x,y,random_state=1,test_size=0.20)\n",
    "xgmod.fit(x_train,y_train)\n",
    "pred_train=xgmod.predict(x_train)\n",
    "pred_test=xgmod.predict(x_test)\n",
    "xg_train_acc=round(accuracy_score(y_train,pred_train)*100,1)\n",
    "xg_test_acc=round(accuracy_score(y_test,pred_test)*100,1)\n",
    "print(\"\\nTrain Accuracy- \",xg_train_acc)\n",
    "print(\"\\nTest Accuracy- \",xg_test_acc)"
   ]
  },
  {
   "cell_type": "markdown",
   "id": "0ef30020",
   "metadata": {},
   "source": [
    "## Cross Validation Score"
   ]
  },
  {
   "cell_type": "code",
   "execution_count": 21,
   "id": "46fcf7cc",
   "metadata": {},
   "outputs": [
    {
     "name": "stdout",
     "output_type": "stream",
     "text": [
      "cross validation score is- 87.51980040071037\n",
      "accuracy score for Knn classifier model is- 88.2\n"
     ]
    }
   ],
   "source": [
    "cv_score_best_xg=cross_val_score(xgmod,x,y,cv=4).mean()*100\n",
    "print(\"cross validation score is-\",cv_score_best_xg)\n",
    "print(\"accuracy score for Knn classifier model is-\",xg_test_acc)"
   ]
  },
  {
   "cell_type": "markdown",
   "id": "3b79cc11",
   "metadata": {},
   "source": [
    "## Confusion Matrix"
   ]
  },
  {
   "cell_type": "code",
   "execution_count": 22,
   "id": "7ae6ded5",
   "metadata": {},
   "outputs": [
    {
     "data": {
      "image/png": "[encoded data removed]",
      "text/plain": [
       "<Figure size 432x288 with 2 Axes>"
      ]
     },
     "metadata": {
      "needs_background": "light"
     },
     "output_type": "display_data"
    }
   ],
   "source": [
    "confusion_matrix = metrics.confusion_matrix(y_test, pred_test)\n",
    "cm = metrics.ConfusionMatrixDisplay(confusion_matrix = confusion_matrix, display_labels = [False, True])\n",
    "cm.plot()\n",
    "plt.show()"
   ]
  },
  {
   "cell_type": "markdown",
   "id": "a838c25b",
   "metadata": {},
   "source": [
    "## AUC-ROC Curve"
   ]
  },
  {
   "cell_type": "code",
   "execution_count": 23,
   "id": "56c9c970",
   "metadata": {},
   "outputs": [
    {
     "data": {
      "image/png": "[encoded data removed]",
      "text/plain": [
       "<Figure size 432x288 with 1 Axes>"
      ]
     },
     "metadata": {
      "needs_background": "light"
     },
     "output_type": "display_data"
    }
   ],
   "source": [
    "fpr,tpr,thresholds=roc_curve(pred_test,y_test)\n",
    "roc_auc=auc(fpr,tpr)\n",
    "\n",
    "plt.figure()\n",
    "plt.plot(fpr,tpr,color='orange',lw=10,label=\"ROC curve (area=%0.2f)\"%roc_auc)\n",
    "plt.plot([0,1],[0,1],color='navy',lw=10,linestyle=\"--\")\n",
    "plt.xlim([0.0,1.0])\n",
    "plt.ylim([0.0,1.05])\n",
    "plt.xlabel(\"false positive rate\")\n",
    "plt.ylabel(\"true positive rate\")\n",
    "plt.title(\"reciever operating characteristics\")\n",
    "plt.legend(loc=\"lower right\")\n",
    "plt.show()"
   ]
  },
  {
   "cell_type": "markdown",
   "id": "585103d4",
   "metadata": {},
   "source": [
    "## Classification Report"
   ]
  },
  {
   "cell_type": "code",
   "execution_count": 24,
   "id": "6ec42ac2",
   "metadata": {},
   "outputs": [
    {
     "name": "stdout",
     "output_type": "stream",
     "text": [
      "              precision    recall  f1-score   support\n",
      "\n",
      "           0       0.92      0.84      0.88      4716\n",
      "           1       0.85      0.92      0.89      4632\n",
      "\n",
      "    accuracy                           0.88      9348\n",
      "   macro avg       0.88      0.88      0.88      9348\n",
      "weighted avg       0.88      0.88      0.88      9348\n",
      "\n"
     ]
    }
   ],
   "source": [
    "print(classification_report(y_test, pred_test))"
   ]
  },
  {
   "cell_type": "markdown",
   "id": "aa6b832e",
   "metadata": {},
   "source": [
    "## Model Summary"
   ]
  },
  {
   "cell_type": "code",
   "execution_count": 39,
   "id": "26b75b5b",
   "metadata": {},
   "outputs": [
    {
     "data": {
      "text/html": [
       "<div>\n",
       "<style scoped>\n",
       "    .dataframe tbody tr th:only-of-type {\n",
       "        vertical-align: middle;\n",
       "    }\n",
       "\n",
       "    .dataframe tbody tr th {\n",
       "        vertical-align: top;\n",
       "    }\n",
       "\n",
       "    .dataframe thead th {\n",
       "        text-align: right;\n",
       "    }\n",
       "</style>\n",
       "<table border=\"1\" class=\"dataframe\">\n",
       "  <thead>\n",
       "    <tr style=\"text-align: right;\">\n",
       "      <th></th>\n",
       "      <th>Models</th>\n",
       "      <th>Test Accuracy</th>\n",
       "      <th>CV Score</th>\n",
       "    </tr>\n",
       "  </thead>\n",
       "  <tbody>\n",
       "    <tr>\n",
       "      <th>0</th>\n",
       "      <td>Logistic Regression</td>\n",
       "      <td>77.7</td>\n",
       "      <td>77.637078</td>\n",
       "    </tr>\n",
       "    <tr>\n",
       "      <th>1</th>\n",
       "      <td>Decision Tree Classifier</td>\n",
       "      <td>92.2</td>\n",
       "      <td>92.045033</td>\n",
       "    </tr>\n",
       "    <tr>\n",
       "      <th>2</th>\n",
       "      <td>Knn Classifier</td>\n",
       "      <td>84.7</td>\n",
       "      <td>83.627894</td>\n",
       "    </tr>\n",
       "    <tr>\n",
       "      <th>3</th>\n",
       "      <td>Random Forest Classifier</td>\n",
       "      <td>93.7</td>\n",
       "      <td>93.829440</td>\n",
       "    </tr>\n",
       "    <tr>\n",
       "      <th>4</th>\n",
       "      <td>XGBoost</td>\n",
       "      <td>88.2</td>\n",
       "      <td>87.519800</td>\n",
       "    </tr>\n",
       "  </tbody>\n",
       "</table>\n",
       "</div>"
      ],
      "text/plain": [
       "                     Models  Test Accuracy   CV Score\n",
       "0       Logistic Regression           77.7  77.637078\n",
       "1  Decision Tree Classifier           92.2  92.045033\n",
       "2            Knn Classifier           84.7  83.627894\n",
       "3  Random Forest Classifier           93.7  93.829440\n",
       "4                   XGBoost           88.2  87.519800"
      ]
     },
     "execution_count": 39,
     "metadata": {},
     "output_type": "execute_result"
    }
   ],
   "source": [
    "models=['Logistic Regression','Decision Tree Classifier','Knn Classifier','Random Forest Classifier','XGBoost']\n",
    "test_acc=[test_accuracy,dt_acc_test,knn_test_acc,rf_test_acc,xg_test_acc]\n",
    "cv_score=[cv_score_best,cv_score_best_dt,cv_score_best_knn,cv_score_best_rf,cv_score_best_xg]\n",
    "dfm=pd.DataFrame(list(zip(models,test_acc,cv_score)),columns=['Models','Test Accuracy','CV Score'])\n",
    "dfm"
   ]
  },
  {
   "cell_type": "markdown",
   "id": "d048a258",
   "metadata": {},
   "source": [
    "Observation: Looking at the confusion matrix, AUR-ROC Curve,classification report of each model and considering the least difference between cv score and aacuracy score we will finalise random forest classifier as our final model."
   ]
  },
  {
   "cell_type": "markdown",
   "id": "c008bf9f",
   "metadata": {},
   "source": [
    "## Hyperparameter tuning on Random Forest Classifier"
   ]
  },
  {
   "cell_type": "code",
   "execution_count": 15,
   "id": "19c46331",
   "metadata": {},
   "outputs": [
    {
     "name": "stdout",
     "output_type": "stream",
     "text": [
      "Fitting 3 folds for each of 162 candidates, totalling 486 fits\n"
     ]
    },
    {
     "data": {
      "text/plain": [
       "RandomForestClassifier(bootstrap=False, max_depth=60, n_estimators=600)"
      ]
     },
     "execution_count": 15,
     "metadata": {},
     "output_type": "execute_result"
    }
   ],
   "source": [
    "from sklearn.ensemble import RandomForestClassifier\n",
    "param_grid = {\n",
    "    'bootstrap': [True, False],\n",
    " 'max_depth': [40, 50, 60],\n",
    " 'min_samples_leaf': [1, 2, 4],\n",
    " 'min_samples_split': [2, 5, 10],\n",
    " 'n_estimators': [200, 400, 600] \n",
    "}\n",
    "\n",
    "rf_reg = RandomForestClassifier()\n",
    "\n",
    "rf_reg_tuned = GridSearchCV(estimator=rf_reg,\n",
    "                            param_grid=param_grid,\n",
    "                            cv=3,\n",
    "                            n_jobs=-1,\n",
    "                            verbose=2)\n",
    "\n",
    "rf_reg_tuned.fit(x_train, y_train)\n",
    "rf_reg_tuned.best_estimator_"
   ]
  },
  {
   "cell_type": "code",
   "execution_count": 16,
   "id": "bd31ffe2",
   "metadata": {},
   "outputs": [
    {
     "name": "stdout",
     "output_type": "stream",
     "text": [
      "\n",
      "Train Accuracy-  100.0\n",
      "\n",
      "Test Accuracy-  94.7\n"
     ]
    }
   ],
   "source": [
    "rf1=RandomForestClassifier(n_estimators=600,max_depth=60,bootstrap=False)\n",
    "rf1.fit(x_train,y_train)\n",
    "pred_train=rf1.predict(x_train)\n",
    "pred_test=rf1.predict(x_test)\n",
    "train_acc=round(accuracy_score(y_train,pred_train)*100,1)\n",
    "test_acc=round(accuracy_score(y_test,pred_test)*100,1)\n",
    "print(\"\\nTrain Accuracy- \",train_acc)\n",
    "print(\"\\nTest Accuracy- \",test_acc)"
   ]
  },
  {
   "cell_type": "markdown",
   "id": "5a717024",
   "metadata": {},
   "source": [
    "## Accuracy improved from 93.7% to 94.7% by 1%. So we will finalize and save this model."
   ]
  },
  {
   "cell_type": "markdown",
   "id": "ac375e97",
   "metadata": {},
   "source": [
    "## Model Saving"
   ]
  },
  {
   "cell_type": "code",
   "execution_count": 17,
   "id": "4ee6b765",
   "metadata": {},
   "outputs": [],
   "source": [
    "import pickle\n",
    "filename = 'finalized_model.pkl'\n",
    "pickle.dump(rf1, open(filename, 'wb'))"
   ]
  }
 ],
 "metadata": {
  "kernelspec": {
   "display_name": "Python 3 (ipykernel)",
   "language": "python",
   "name": "python3"
  },
  "language_info": {
   "codemirror_mode": {
    "name": "ipython",
    "version": 3
   },
   "file_extension": ".py",
   "mimetype": "text/x-python",
   "name": "python",
   "nbconvert_exporter": "python",
   "pygments_lexer": "ipython3",
   "version": "3.9.7"
  }
 },
 "nbformat": 4,
 "nbformat_minor": 5
}
